{
 "cells": [
  {
   "cell_type": "markdown",
   "id": "e01dfe23",
   "metadata": {},
   "source": [
    "# Handon practice on NLP\n"
   ]
  },
  {
   "cell_type": "markdown",
   "id": "1db8e634",
   "metadata": {},
   "source": [
    "# tokanization"
   ]
  },
  {
   "cell_type": "code",
   "execution_count": 1,
   "id": "f661dfc2",
   "metadata": {},
   "outputs": [],
   "source": [
    "import nltk"
   ]
  },
  {
   "cell_type": "code",
   "execution_count": 51,
   "id": "448ac29d",
   "metadata": {},
   "outputs": [
    {
     "name": "stdout",
     "output_type": "stream",
     "text": [
      "['Hello', '!', 'I', 'am', 'shahab', 'khan', ',', 'and', 'I', 'am', 'a', 'software', 'engineer', '.', 'I', 'am', 'working', 'on', 'a', 'project', 'that', 'involves', 'natural', 'language', 'processing', '.', 'and', 'my', 'hobby', 'is', 'to', 'learn', 'new', 'things', '.', 'I', 'am', 'also', 'a', 'student', 'of', 'computer', 'science', '.', 'I', 'am', 'currently', 'studying', 'at', 'the', 'University', 'of', 'Islamia', 'Collage', 'Univerty', 'Peshawar', '.']\n"
     ]
    },
    {
     "name": "stderr",
     "output_type": "stream",
     "text": [
      "[nltk_data] Downloading package punkt_tab to\n",
      "[nltk_data]     C:\\Users\\ksab2\\AppData\\Roaming\\nltk_data...\n",
      "[nltk_data]   Package punkt_tab is already up-to-date!\n"
     ]
    }
   ],
   "source": [
    "import nltk\n",
    "from nltk.tokenize import word_tokenize  # Import the word_tokenize function\n",
    "\n",
    "nltk.download('punkt_tab')  # Download the necessary NLTK data files\n",
    "\n",
    "text = \"Hello! I am shahab khan , and I am a software engineer. I am working on a project that involves natural language processing. and my hobby is to learn new things. I am also a student of computer science. I am currently studying at the University of Islamia Collage Univerty Peshawar.\"\n",
    "print(word_tokenize(text))  # Now this should work\n"
   ]
  },
  {
   "cell_type": "markdown",
   "id": "89f08499",
   "metadata": {},
   "source": [
    "# normalization"
   ]
  },
  {
   "cell_type": "code",
   "execution_count": 52,
   "id": "bfdbaf45",
   "metadata": {},
   "outputs": [
    {
     "name": "stdout",
     "output_type": "stream",
     "text": [
      "['hello', '!', 'i', 'am', 'shahab', 'khan', ',', 'and', 'i', 'am', 'a', 'software', 'engineer', '.', 'i', 'am', 'working', 'on', 'a', 'project', 'that', 'involves', 'natural', 'language', 'processing', '.', 'and', 'my', 'hobby', 'is', 'to', 'learn', 'new', 'things', '.', 'i', 'am', 'also', 'a', 'student', 'of', 'computer', 'science', '.', 'i', 'am', 'currently', 'studying', 'at', 'the', 'university', 'of', 'islamia', 'collage', 'univerty', 'peshawar', '.']\n"
     ]
    }
   ],
   "source": [
    "# Normalize the text\n",
    "norm_text = text.lower()  # Convert to lowercase\n",
    "# tokenize the text \n",
    "print(word_tokenize(norm_text))  # Tokenize the text"
   ]
  },
  {
   "cell_type": "markdown",
   "id": "416812af",
   "metadata": {},
   "source": [
    "# stemming and lemitization\n",
    "## porter Stemmer"
   ]
  },
  {
   "cell_type": "code",
   "execution_count": 53,
   "id": "2bd88391",
   "metadata": {},
   "outputs": [
    {
     "name": "stdout",
     "output_type": "stream",
     "text": [
      "['hello', '!', 'i', 'am', 'shahab', 'khan', ',', 'and', 'i', 'am', 'a', 'softwar', 'engin', '.', 'i', 'am', 'work', 'on', 'a', 'project', 'that', 'involv', 'natur', 'languag', 'process', '.', 'and', 'my', 'hobbi', 'is', 'to', 'learn', 'new', 'thing', '.', 'i', 'am', 'also', 'a', 'student', 'of', 'comput', 'scienc', '.', 'i', 'am', 'current', 'studi', 'at', 'the', 'univers', 'of', 'islamia', 'collag', 'univerti', 'peshawar', '.']\n"
     ]
    }
   ],
   "source": [
    "from nltk.stem import PorterStemmer, WordNetLemmatizer,SnowballStemmer\n",
    "tokenizing_text = word_tokenize(text)  # Tokenize the text again\n",
    "stemmer = PorterStemmer()\n",
    "stemmed_text=[stemmer.stem(word) for word in tokenizing_text ]\n",
    "print(stemmed_text)     \n"
   ]
  },
  {
   "cell_type": "markdown",
   "id": "8a5146e2",
   "metadata": {},
   "source": [
    "# Snowball Stemmer "
   ]
  },
  {
   "cell_type": "code",
   "execution_count": 54,
   "id": "83fcd4c9",
   "metadata": {},
   "outputs": [
    {
     "name": "stdout",
     "output_type": "stream",
     "text": [
      "Stemmed words:['hello', '!', 'i', 'am', 'shahab', 'khan', ',', 'and', 'i', 'am', 'a', 'softwar', 'engin', '.', 'i', 'am', 'work', 'on', 'a', 'project', 'that', 'involv', 'natur', 'languag', 'process', '.', 'and', 'my', 'hobbi', 'is', 'to', 'learn', 'new', 'thing', '.', 'i', 'am', 'also', 'a', 'student', 'of', 'comput', 'scienc', '.', 'i', 'am', 'current', 'studi', 'at', 'the', 'univers', 'of', 'islamia', 'collag', 'univerti', 'peshawar', '.']\n"
     ]
    }
   ],
   "source": [
    "# snowball stemmer\n",
    "tokenizing_text = word_tokenize(text)  # Tokenize the text again\n",
    "stemmer = SnowballStemmer(\"english\")  # Initialize the Snowball stemmer\n",
    "print(\"Stemmed words:\" + str([stemmer.stem(word) for word in tokenizing_text]))  # Stem the words"
   ]
  },
  {
   "cell_type": "markdown",
   "id": "e780ab2c",
   "metadata": {},
   "source": [
    "# Lemmatization"
   ]
  },
  {
   "cell_type": "code",
   "execution_count": 60,
   "id": "c94f638b",
   "metadata": {},
   "outputs": [
    {
     "name": "stdout",
     "output_type": "stream",
     "text": [
      "['Hello', '!', 'I', 'be', 'shahab', 'khan', ',', 'and', 'I', 'be', 'a', 'software', 'engineer', '.', 'I', 'be', 'work', 'on', 'a', 'project', 'that', 'involve', 'natural', 'language', 'process', '.', 'and', 'my', 'hobby', 'be', 'to', 'learn', 'new', 'things', '.', 'I', 'be', 'also', 'a', 'student', 'of', 'computer', 'science', '.', 'I', 'be', 'currently', 'study', 'at', 'the', 'University', 'of', 'Islamia', 'Collage', 'Univerty', 'Peshawar', '.']\n"
     ]
    },
    {
     "name": "stderr",
     "output_type": "stream",
     "text": [
      "[nltk_data] Downloading package wordnet to\n",
      "[nltk_data]     C:\\Users\\ksab2\\AppData\\Roaming\\nltk_data...\n",
      "[nltk_data]   Package wordnet is already up-to-date!\n"
     ]
    }
   ],
   "source": [
    "from nltk.stem import WordNetLemmatizer\n",
    "nltk.download('wordnet')  # Download the WordNet data files\n",
    "lemmatizer = WordNetLemmatizer()  # Initialize the lemmatizer\n",
    "\n",
    "lemmatized_text = [lemmatizer.lemmatize(word, pos='v') for word in tokenizing_text]  # Lemmatize the words with verb POS tagging\n",
    "print(lemmatized_text)  # Print the lemmatized words"
   ]
  },
  {
   "cell_type": "code",
   "execution_count": 66,
   "id": "947369b6",
   "metadata": {},
   "outputs": [
    {
     "name": "stdout",
     "output_type": "stream",
     "text": [
      "['Hello!', 'shahab', 'khan', ',', 'software', 'engineer.', 'working', 'project', 'involves', 'natural', 'language', 'processing.', 'hobby', 'learn', 'new', 'things.', 'also', 'student', 'computer', 'science.', 'currently', 'studying', 'University', 'Islamia', 'Collage', 'Univerty', 'Peshawar.']\n",
      "{'hasn', 'below', \"shan't\", \"we're\", 'himself', 'didn', 'have', 'his', \"hasn't\", 'aren', 'or', 'too', 'i', 'her', \"that'll\", 'about', 'are', 'was', \"she's\", 'where', 'more', \"won't\", 'isn', 'when', 'by', \"i'll\", 'why', 'than', 'in', 'should', \"should've\", 'having', 'won', 'a', 'don', 'very', 'only', 'been', 'ain', \"she'll\", 'up', 'does', 'through', 've', 'again', \"weren't\", 'couldn', 'doing', 'all', 'can', 'at', 'he', 'o', \"you'll\", 'each', \"we've\", 'my', 'ourselves', 'other', 'mustn', 'an', 'whom', 'm', 'it', 'into', 'our', 'own', 're', \"he's\", 'has', 'me', 'there', 'but', 's', 'them', 'just', 'him', \"he'd\", 'now', \"they'd\", 'during', 'their', 'to', 'yours', 'being', 't', 'most', \"we'll\", 'doesn', \"it'd\", 'theirs', \"couldn't\", 'from', \"hadn't\", 'yourself', 'will', \"he'll\", 'once', 'further', \"i'd\", \"they've\", 'this', 'who', 'ma', 'if', \"she'd\", 'did', \"shouldn't\", 'needn', 'and', \"isn't\", 'haven', \"it'll\", 'while', 'some', 'so', 'your', 'here', 'am', 'no', 'had', \"haven't\", 'herself', 'for', 'hadn', 'over', 'shouldn', 'under', 'against', 'll', \"i've\", 'be', \"didn't\", 'any', \"you're\", 'with', \"mustn't\", \"i'm\", 'off', \"wasn't\", 'nor', \"don't\", 'we', 'out', 'how', \"we'd\", 'myself', 'after', 'what', \"they're\", 'hers', 'such', 'its', 'were', 'wasn', 'both', 'of', 'which', 'the', \"aren't\", 'weren', 'is', 'yourselves', 'y', \"it's\", 'as', 'shan', 'that', 'not', 'wouldn', 'these', \"wouldn't\", 'before', 'until', 'on', 'then', \"you've\", 'between', \"doesn't\", 'down', \"needn't\", 'few', 'themselves', 'd', \"you'd\", 'mightn', \"mightn't\", 'above', 'those', 'she', 'ours', 'itself', \"they'll\", 'because', 'you', 'do', 'same', 'they'}\n"
     ]
    },
    {
     "name": "stderr",
     "output_type": "stream",
     "text": [
      "[nltk_data] Downloading package stopwords to\n",
      "[nltk_data]     C:\\Users\\ksab2\\AppData\\Roaming\\nltk_data...\n",
      "[nltk_data]   Package stopwords is already up-to-date!\n"
     ]
    }
   ],
   "source": [
    "# Remove stopwords \n",
    "from nltk.corpus import stopwords\n",
    "nltk.download('stopwords')  # Download the stopwords data files\n",
    "words=text.split()\n",
    "stop_words = set(stopwords.words('english'))  # Get the set of English stopwords\n",
    "filtered_words = [word for word in words if word.lower() not in stop_words]  # Filter out stopwords\n",
    "print(filtered_words)  # Print the filtered words  \n",
    "print(stop_words)\n"
   ]
  },
  {
   "cell_type": "markdown",
   "id": "f303511a",
   "metadata": {},
   "source": [
    "# Part of speech tag"
   ]
  },
  {
   "cell_type": "code",
   "execution_count": 73,
   "id": "fbe1935c",
   "metadata": {},
   "outputs": [
    {
     "name": "stdout",
     "output_type": "stream",
     "text": [
      "['Paris', 'is', 'beautifull', 'city', 'in', 'spring', 'season']\n"
     ]
    }
   ],
   "source": [
    "# part of speech tagging\n",
    "text=\"Paris is beautifull city in spring season\"\n",
    "tokens=word_tokenize(text)  # Tokenize the text again\n",
    "print(tokens)  # Print the tokens\n",
    "\n"
   ]
  },
  {
   "cell_type": "code",
   "execution_count": 97,
   "id": "6b7d7da8",
   "metadata": {},
   "outputs": [
    {
     "name": "stdout",
     "output_type": "stream",
     "text": [
      "Requirement already satisfied: svgling in c:\\anaconda\\lib\\site-packages (0.5.0)\n",
      "Requirement already satisfied: svgwrite in c:\\anaconda\\lib\\site-packages (from svgling) (1.4.3)\n"
     ]
    }
   ],
   "source": [
    "!pip install svgling"
   ]
  },
  {
   "cell_type": "code",
   "execution_count": 78,
   "id": "3f21768a",
   "metadata": {},
   "outputs": [
    {
     "name": "stderr",
     "output_type": "stream",
     "text": [
      "[nltk_data] Downloading package averaged_perceptron_tagger_eng to\n",
      "[nltk_data]     C:\\Users\\ksab2\\AppData\\Roaming\\nltk_data...\n",
      "[nltk_data]   Package averaged_perceptron_tagger_eng is already up-to-\n",
      "[nltk_data]       date!\n"
     ]
    },
    {
     "data": {
      "text/plain": [
       "[('Paris', 'NNP'),\n",
       " ('is', 'VBZ'),\n",
       " ('beautifull', 'JJ'),\n",
       " ('city', 'NN'),\n",
       " ('in', 'IN'),\n",
       " ('spring', 'NN'),\n",
       " ('season', 'NN')]"
      ]
     },
     "execution_count": 78,
     "metadata": {},
     "output_type": "execute_result"
    }
   ],
   "source": [
    "from nltk import pos_tag\n",
    "nltk.download('averaged_perceptron_tagger_eng')  # Download the POS tagger data files\n",
    "tags = pos_tag(tokens)  # Perform POS tagging\n",
    "(tags)  # Print the POS tags"
   ]
  },
  {
   "cell_type": "markdown",
   "id": "acba2061",
   "metadata": {},
   "source": [
    "# using ne_chunk "
   ]
  },
  {
   "cell_type": "code",
   "execution_count": 80,
   "id": "3becb9ea",
   "metadata": {},
   "outputs": [
    {
     "name": "stderr",
     "output_type": "stream",
     "text": [
      "[nltk_data] Downloading package maxent_ne_chunker to\n",
      "[nltk_data]     C:\\Users\\ksab2\\AppData\\Roaming\\nltk_data...\n",
      "[nltk_data]   Package maxent_ne_chunker is already up-to-date!\n",
      "[nltk_data] Downloading package words to\n",
      "[nltk_data]     C:\\Users\\ksab2\\AppData\\Roaming\\nltk_data...\n",
      "[nltk_data]   Package words is already up-to-date!\n"
     ]
    },
    {
     "data": {
      "text/plain": [
       "True"
      ]
     },
     "execution_count": 80,
     "metadata": {},
     "output_type": "execute_result"
    }
   ],
   "source": [
    "nltk.download('maxent_ne_chunker')  # Download the named entity chunker data files\n",
    "nltk.download('words')  # Download the words data files"
   ]
  },
  {
   "cell_type": "code",
   "execution_count": 100,
   "id": "21e1e6bf",
   "metadata": {},
   "outputs": [
    {
     "name": "stderr",
     "output_type": "stream",
     "text": [
      "[nltk_data] Downloading package punkt to\n",
      "[nltk_data]     C:\\Users\\ksab2\\AppData\\Roaming\\nltk_data...\n",
      "[nltk_data]   Package punkt is already up-to-date!\n",
      "[nltk_data] Downloading package averaged_perceptron_tagger to\n",
      "[nltk_data]     C:\\Users\\ksab2\\AppData\\Roaming\\nltk_data...\n",
      "[nltk_data]   Package averaged_perceptron_tagger is already up-to-\n",
      "[nltk_data]       date!\n",
      "[nltk_data] Downloading package maxent_ne_chunker to\n",
      "[nltk_data]     C:\\Users\\ksab2\\AppData\\Roaming\\nltk_data...\n",
      "[nltk_data]   Package maxent_ne_chunker is already up-to-date!\n",
      "[nltk_data] Downloading package words to\n",
      "[nltk_data]     C:\\Users\\ksab2\\AppData\\Roaming\\nltk_data...\n",
      "[nltk_data]   Package words is already up-to-date!\n",
      "[nltk_data] Downloading package maxent_ne_chunker_tab to\n",
      "[nltk_data]     C:\\Users\\ksab2\\AppData\\Roaming\\nltk_data...\n",
      "[nltk_data]   Package maxent_ne_chunker_tab is already up-to-date!\n"
     ]
    },
    {
     "data": {
      "text/plain": [
       "True"
      ]
     },
     "execution_count": 100,
     "metadata": {},
     "output_type": "execute_result"
    }
   ],
   "source": [
    "import nltk\n",
    "\n",
    "nltk.download('punkt')\n",
    "nltk.download('averaged_perceptron_tagger')\n",
    "nltk.download('maxent_ne_chunker')\n",
    "nltk.download('words')\n",
    "nltk.download('maxent_ne_chunker_tab')  \n"
   ]
  },
  {
   "cell_type": "code",
   "execution_count": 102,
   "id": "b1fb0bb3",
   "metadata": {},
   "outputs": [
    {
     "name": "stdout",
     "output_type": "stream",
     "text": [
      "(S\n",
      "  (PERSON Barack/NNP)\n",
      "  (PERSON Obama/NNP)\n",
      "  was/VBD\n",
      "  the/DT\n",
      "  44th/JJ\n",
      "  president/NN\n",
      "  of/IN\n",
      "  the/DT\n",
      "  (GPE United/NNP States/NNPS)\n",
      "  ./.)\n"
     ]
    }
   ],
   "source": [
    "# Tokenization, POS tagging, and Named Entity Chunking\n",
    "text = \"Barack Obama was the 44th president of the United States.\"\n",
    "tokens = word_tokenize(text)\n",
    "tags = pos_tag(tokens)\n",
    "tree = ne_chunk(tags)\n",
    "\n",
    "print(tree)"
   ]
  },
  {
   "cell_type": "code",
   "execution_count": 94,
   "id": "02911e6d",
   "metadata": {},
   "outputs": [
    {
     "data": {
      "text/plain": [
       "['test@gmail.com']"
      ]
     },
     "execution_count": 94,
     "metadata": {},
     "output_type": "execute_result"
    }
   ],
   "source": [
    "# Reg expression\n",
    "import re\n",
    "\n",
    "s = \"Email: test@gmail.com #tag Date: 2023/10/01\"\n",
    "\n",
    "email = re.findall(r'\\S+@\\S+\\.\\S+', s)\n",
    "email"
   ]
  },
  {
   "cell_type": "code",
   "execution_count": 95,
   "id": "91430cd0",
   "metadata": {},
   "outputs": [
    {
     "data": {
      "text/plain": [
       "['#tag']"
      ]
     },
     "execution_count": 95,
     "metadata": {},
     "output_type": "execute_result"
    }
   ],
   "source": [
    "hash_tag = re.findall(r'#\\w+', s)\n",
    "hash_tag"
   ]
  },
  {
   "cell_type": "code",
   "execution_count": 96,
   "id": "f1fd8235",
   "metadata": {},
   "outputs": [
    {
     "data": {
      "text/plain": [
       "['2023/10/01']"
      ]
     },
     "execution_count": 96,
     "metadata": {},
     "output_type": "execute_result"
    }
   ],
   "source": [
    "date = re.findall(r'\\d{4}/\\d{2}/\\d{2}', s)\n",
    "date"
   ]
  },
  {
   "cell_type": "code",
   "execution_count": null,
   "id": "3d6901ab",
   "metadata": {},
   "outputs": [],
   "source": []
  }
 ],
 "metadata": {
  "kernelspec": {
   "display_name": "base",
   "language": "python",
   "name": "python3"
  },
  "language_info": {
   "codemirror_mode": {
    "name": "ipython",
    "version": 3
   },
   "file_extension": ".py",
   "mimetype": "text/x-python",
   "name": "python",
   "nbconvert_exporter": "python",
   "pygments_lexer": "ipython3",
   "version": "3.12.7"
  }
 },
 "nbformat": 4,
 "nbformat_minor": 5
}
