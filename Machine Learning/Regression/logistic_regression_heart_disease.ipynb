{
 "cells": [
  {
   "cell_type": "code",
   "execution_count": null,
   "id": "cell-1",
   "metadata": {},
   "outputs": [],
   "source": [
    "import numpy as np\n",
    "import pandas as pd\n",
    "import matplotlib.pyplot as plt\n",
    "from sklearn.model_selection import train_test_split\n",
    "from sklearn.preprocessing import StandardScaler, PolynomialFeatures\n",
    "from sklearn.linear_model import LogisticRegression\n",
    "from sklearn.metrics import accuracy_score, classification_report"
   ]
  },
  {
   "cell_type": "markdown",
   "id": "cell-2",
   "metadata": {},
   "source": [
    "## Load Heart Disease Dataset\n",
    "- The dataset is loaded from a CSV file or UCI repository.\n",
    "- Target variable: 0 (no heart disease) or 1 (heart disease)."
   ]
  },
  {
   "cell_type": "code",
   "execution_count": null,
   "id": "cell-3",
   "metadata": {},
   "outputs": [],
   "source": [
    "# Load dataset (adjust path if needed)\n",
    "# Alternatively, use: from sklearn.datasets import fetch_openml; data = fetch_openml(name='heart-disease')\n",
    "url = 'https://archive.ics.uci.edu/ml/machine-learning-databases/heart-disease/processed.cleveland.data'\n",
    "columns = ['age', 'sex', 'cp', 'trestbps', 'chol', 'fbs', 'restecg', 'thalach', 'exang', 'oldpeak', 'slope', 'ca', 'thal', 'target']\n",
    "df = pd.read_csv(url, names=columns)\n",
    "\n",
    "# Handle missing values (marked as '?')\n",
    "df = df.replace('?', np.nan)\n",
    "df = df.dropna()\n",
    "\n",
    "# Convert target to binary: >0 indicates heart disease\n",
    "df['target'] = (df['target'] > 0).astype(int)\n",
    "df.head()"
   ]
  },
  {
   "cell_type": "code",
   "execution_count": null,
   "id": "cell-4",
   "metadata": {},
   "outputs": [],
   "source": [
    "df.info()"
   ]
  },
  {
   "cell_type": "code",
   "execution_count": null,
   "id": "cell-5",
   "metadata": {},
   "outputs": [],
   "source": [
    "# Prepare features and target\n",
    "X = df.drop('target', axis=1)\n",
    "y = df['target']\n",
    "\n",
    "# Standardize features\n",
    "scaler = StandardScaler()\n",
    "X_scaled = scaler.fit_transform(X)\n",
    "\n",
    "# Split data\n",
    "X_train, X_test, y_train, y_test = train_test_split(X_scaled, y, test_size=0.2, random_state=1)\n",
    "print(f\"X_train shape: {X_train.shape}\")\n",
    "print(f\"X_test shape: {X_test.shape}\")\n",
    "print(f\"y_train shape: {y_train.shape}\")\n",
    "print(f\"y_test shape: {y_test.shape}\")"
   ]
  },
  {
   "cell_type": "markdown",
   "id": "cell-6",
   "metadata": {},
   "source": [
    "## Logistic Regression without Regularization"
   ]
  },
  {
   "cell_type": "code",
   "execution_count": null,
   "id": "cell-7",
   "metadata": {},
   "outputs": [],
   "source": [
    "# Train Logistic Regression (C=1e9 approximates no regularization)\n",
    "lr = LogisticRegression(C=1e9, max_iter=1000)\n",
    "lr.fit(X_train, y_train)\n",
    "\n",
    "# Predict\n",
    "y_train_pred = lr.predict(X_train)\n",
    "y_test_pred = lr.predict(X_test)\n",
    "\n",
    "# Evaluate\n",
    "train_accuracy = accuracy_score(y_train, y_train_pred)\n",
    "test_accuracy = accuracy_score(y_test, y_test_pred)\n",
    "\n",
    "print(\"Logistic Regression without Regularization:\")\n",
    "print(f\"Train Accuracy: {train_accuracy:.4f}\")\n",
    "print(f\"Test Accuracy: {test_accuracy:.4f}\")\n",
    "print(\"\\nClassification Report (Test):\")\n",
    "print(classification_report(y_test, y_test_pred))"
   ]
  },
  {
   "cell_type": "markdown",
   "id": "cell-8",
   "metadata": {},
   "source": [
    "## Logistic Regression with Polynomial Features (Inducing Overfitting)"
   ]
  },
  {
   "cell_type": "code",
   "execution_count": null,
   "id": "cell-9",
   "metadata": {},
   "outputs": [],
   "source": [
    "# Create polynomial features\n",
    "poly = PolynomialFeatures(degree=3)\n",
    "X_poly = poly.fit_transform(X_scaled)\n",
    "\n",
    "# Split polynomial data\n",
    "X_poly_train, X_poly_test, y_train, y_test = train_test_split(X_poly, y, test_size=0.2, random_state=1)\n",
    "\n",
    "# Train Logistic Regression on polynomial features\n",
    "lr_poly = LogisticRegression(C=1e9, max_iter=1000)\n",
    "lr_poly.fit(X_poly_train, y_train)\n",
    "\n",
    "# Predict\n",
    "y_poly_train_pred = lr_poly.predict(X_poly_train)\n",
    "y_poly_test_pred = lr_poly.predict(X_poly_test)\n",
    "\n",
    "# Evaluate\n",
    "poly_train_accuracy = accuracy_score(y_train, y_poly_train_pred)\n",
    "poly_test_accuracy = accuracy_score(y_test, y_poly_test_pred)\n",
    "\n",
    "print(\"\\nLogistic Regression with Polynomial Features (Degree=3):\")\n",
    "print(f\"Train Accuracy: {poly_train_accuracy:.4f}\")\n",
    "print(f\"Test Accuracy: {poly_test_accuracy:.4f}\")\n",
    "print(\"\\nClassification Report (Test):\")\n",
    "print(classification_report(y_test, y_poly_test_pred))"
   ]
  },
  {
   "cell_type": "markdown",
   "id": "cell-10",
   "metadata": {},
   "source": [
    "## Logistic Regression with Regularization"
   ]
  },
  {
   "cell_type": "code",
   "execution_count": null,
   "id": "cell-11",
   "metadata": {},
   "outputs": [],
   "source": [
    "# Train Logistic Regression with L2 regularization\n",
    "lr_reg = LogisticRegression(C=1.0, max_iter=1000)\n",
    "lr_reg.fit(X_poly_train, y_train)\n",
    "\n",
    "# Predict\n",
    "y_reg_train_pred = lr_reg.predict(X_poly_train)\n",
    "y_reg_test_pred = lr_reg.predict(X_poly_test)\n",
    "\n",
    "# Evaluate\n",
    "reg_train_accuracy = accuracy_score(y_train, y_reg_train_pred)\n",
    "reg_test_accuracy = accuracy_score(y_test, y_reg_test_pred)\n",
    "\n",
    "print(\"\\nLogistic Regression with Regularization (C=1.0):\")\n",
    "print(f\"Train Accuracy: {reg_train_accuracy:.4f}\")\n",
    "print(f\"Test Accuracy: {reg_test_accuracy:.4f}\")\n",
    "print(\"\\nClassification Report (Test):\")\n",
    "print(classification_report(y_test, y_reg_test_pred))"
   ]
  },
  {
   "cell_type": "markdown",
   "id": "cell-12",
   "metadata": {},
   "source": [
    "## Visualization of Predictions"
   ]
  },
  {
   "cell_type": "code",
   "execution_count": null,
   "id": "cell-13",
   "metadata": {},
   "outputs": [],
   "source": [
    "# Plot confusion matrices for comparison\n",
    "from sklearn.metrics import confusion_matrix\n",
    "import seaborn as sns\n",
    "\n",
    "fig, axes = plt.subplots(1, 3, figsize=(18, 5))\n",
    "models = [('Without Regularization', y_test_pred), ('Polynomial (Degree=3)', y_poly_test_pred), ('With Regularization', y_reg_test_pred)]\n",
    "\n",
    "for ax, (title, y_pred) in zip(axes, models):\n",
    "    cm = confusion_matrix(y_test, y_pred)\n",
    "    sns.heatmap(cm, annot=True, fmt='d', cmap='Blues', ax=ax)\n",
    "    ax.set_title(title)\n",
    "    ax.set_xlabel('Predicted')\n",
    "    ax.set_ylabel('Actual')\n",
    "\n",
    "plt.tight_layout()\n",
    "plt.savefig('heart_disease_confusion_matrices.png')\n",
    "plt.show()"
   ]
  }
 ],
 "metadata": {
  "kernelspec": {
   "display_name": "base",
   "language": "python",
   "name": "python3"
  },
  "language_info": {
   "codemirror_mode": {
    "name": "ipython",
    "version": 3
   },
   "file_extension": ".py",
   "mimetype": "text/x-python",
   "name": "python",
   "nbconvert_exporter": "python",
   "pygments_lexer": "ipython3",
   "version": "3.12.7"
  }
 },
 "nbformat": 4,
 "nbformat_minor": 5
}