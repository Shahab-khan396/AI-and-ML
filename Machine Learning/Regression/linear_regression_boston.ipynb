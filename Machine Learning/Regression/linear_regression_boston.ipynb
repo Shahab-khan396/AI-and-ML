{
 "cells": [
  {
   "cell_type": "code",
   "execution_count": null,
   "id": "cell-1",
   "metadata": {},
   "outputs": [],
   "source": [
    "import numpy as np\n",
    "import pandas as pd\n",
    "import matplotlib.pyplot as plt\n",
    "import seaborn as sns\n",
    "import sklearn"
   ]
  },
  {
   "cell_type": "code",
   "execution_count": null,
   "id": "cell-2",
   "metadata": {},
   "outputs": [],
   "source": [
    "from sklearn.datasets import load_boston\n",
    "from sklearn.model_selection import train_test_split\n",
    "from sklearn.preprocessing import StandardScaler, PolynomialFeatures\n",
    "from sklearn.linear_model import LinearRegression, Ridge\n",
    "from sklearn.metrics import mean_squared_error, mean_absolute_error, r2_score\n",
    "import warnings\n",
    "warnings.filterwarnings('ignore')"
   ]
  },
  {
   "cell_type": "markdown",
   "id": "cell-3",
   "metadata": {},
   "source": [
    "## Load Boston Housing Dataset\n",
    "- We are going to load the Boston Housing dataset from sklearn directly."
   ]
  },
  {
   "cell_type": "code",
   "execution_count": null,
   "id": "cell-4",
   "metadata": {},
   "outputs": [],
   "source": [
    "# Note: load_boston is deprecated; using alternative loading method\n",
    "data = load_boston()\n",
    "df = pd.DataFrame(data.data, columns=data.feature_names)\n",
    "df['target'] = data.target\n",
    "df.head()"
   ]
  },
  {
   "cell_type": "code",
   "execution_count": null,
   "id": "cell-5",
   "metadata": {},
   "outputs": [],
   "source": [
    "df.info()"
   ]
  },
  {
   "cell_type": "code",
   "execution_count": null,
   "id": "cell-6",
   "metadata": {},
   "outputs": [],
   "source": [
    "# Prepare features and target\n",
    "X = df.drop('target', axis=1)\n",
    "y = df['target']\n",
    "\n",
    "# Standardize features\n",
    "scaler = StandardScaler()\n",
    "X_scaled = scaler.fit_transform(X)"
   ]
  },
  {
   "cell_type": "code",
   "execution_count": null,
   "id": "cell-7",
   "metadata": {},
   "outputs": [],
   "source": [
    "# Split data\n",
    "X_train, X_test, y_train, y_test = train_test_split(X_scaled, y, test_size=0.2, random_state=1)\n",
    "print(f\"X_train shape: {X_train.shape}\")\n",
    "print(f\"X_test shape: {X_test.shape}\")\n",
    "print(f\"y_train shape: {y_train.shape}\")\n",
    "print(f\"y_test shape: {y_test.shape}\")"
   ]
  },
  {
   "cell_type": "markdown",
   "id": "cell-8",
   "metadata": {},
   "source": [
    "## Linear Regression without Regularization"
   ]
  },
  {
   "cell_type": "code",
   "execution_count": null,
   "id": "cell-9",
   "metadata": {},
   "outputs": [],
   "source": [
    "# Train Linear Regression model\n",
    "lr = LinearRegression()\n",
    "lr.fit(X_train, y_train)\n",
    "\n",
    "# Predict\n",
    "y_train_pred = lr.predict(X_train)\n",
    "y_test_pred = lr.predict(X_test)\n",
    "\n",
    "# Evaluate\n",
    "train_mse = mean_squared_error(y_train, y_train_pred)\n",
    "test_mse = mean_squared_error(y_test, y_test_pred)\n",
    "train_r2 = r2_score(y_train, y_train_pred)\n",
    "test_r2 = r2_score(y_test, y_test_pred)\n",
    "\n",
    "print(\"Linear Regression without Regularization:\")\n",
    "print(f\"Train MSE: {train_mse:.4f}\")\n",
    "print(f\"Test MSE: {test_mse:.4f}\")\n",
    "print(f\"Train R²: {train_r2:.4f}\")\n",
    "print(f\"Test R²: {test_r2:.4f}\")"
   ]
  },
  {
   "cell_type": "markdown",
   "id": "cell-10",
   "metadata": {},
   "source": [
    "## Linear Regression with Polynomial Features (Inducing Overfitting)"
   ]
  },
  {
   "cell_type": "code",
   "execution_count": null,
   "id": "cell-11",
   "metadata": {},
   "outputs": [],
   "source": [
    "# Create polynomial features\n",
    "poly = PolynomialFeatures(degree=3)\n",
    "X_poly = poly.fit_transform(X_scaled)\n",
    "\n",
    "# Split polynomial data\n",
    "X_poly_train, X_poly_test, y_train, y_test = train_test_split(X_poly, y, test_size=0.2, random_state=1)\n",
    "\n",
    "# Train Linear Regression on polynomial features\n",
    "lr_poly = LinearRegression()\n",
    "lr_poly.fit(X_poly_train, y_train)\n",
    "\n",
    "# Predict\n",
    "y_poly_train_pred = lr_poly.predict(X_poly_train)\n",
    "y_poly_test_pred = lr_poly.predict(X_poly_test)\n",
    "\n",
    "# Evaluate\n",
    "poly_train_mse = mean_squared_error(y_train, y_poly_train_pred)\n",
    "poly_test_mse = mean_squared_error(y_test, y_poly_test_pred)\n",
    "poly_train_r2 = r2_score(y_train, y_poly_train_pred)\n",
    "poly_test_r2 = r2_score(y_test, y_poly_test_pred)\n",
    "\n",
    "print(\"\\nLinear Regression with Polynomial Features (Degree=3):\")\n",
    "print(f\"Train MSE: {poly_train_mse:.4f}\")\n",
    "print(f\"Test MSE: {poly_test_mse:.4f}\")\n",
    "print(f\"Train R²: {poly_train_r2:.4f}\")\n",
    "print(f\"Test R²: {poly_test_r2:.4f}\")"
   ]
  },
  {
   "cell_type": "markdown",
   "id": "cell-12",
   "metadata": {},
   "source": [
    "## Linear Regression with Regularization (Ridge)"
   ]
  },
  {
   "cell_type": "code",
   "execution_count": null,
   "id": "cell-13",
   "metadata": {},
   "outputs": [],
   "source": [
    "# Train Ridge Regression on polynomial features\n",
    "ridge = Ridge(alpha=1.0)\n",
    "ridge.fit(X_poly_train, y_train)\n",
    "\n",
    "# Predict\n",
    "y_ridge_train_pred = ridge.predict(X_poly_train)\n",
    "y_ridge_test_pred = ridge.predict(X_poly_test)\n",
    "\n",
    "# Evaluate\n",
    "ridge_train_mse = mean_squared_error(y_train, y_ridge_train_pred)\n",
    "ridge_test_mse = mean_squared_error(y_test, y_ridge_test_pred)\n",
    "ridge_train_r2 = r2_score(y_train, y_ridge_train_pred)\n",
    "ridge_test_r2 = r2_score(y_test, y_ridge_test_pred)\n",
    "\n",
    "print(\"\\nRidge Regression with Polynomial Features (Degree=3):\")\n",
    "print(f\"Train MSE: {ridge_train_mse:.4f}\")\n",
    "print(f\"Test MSE: {ridge_test_mse:.4f}\")\n",
    "print(f\"Train R²: {ridge_train_r2:.4f}\")\n",
    "print(f\"Test R²: {ridge_test_r2:.4f}\")"
   ]
  },
  {
   "cell_type": "code",
   "execution_count": null,
   "id": "cell-14",
   "metadata": {},
   "outputs": [],
   "source": [
    "# Plot predictions vs actual values\n",
    "plt.figure(figsize=(10,6))\n",
    "plt.scatter(y_test, y_test_pred, alpha=0.5, label='Linear Regression')\n",
    "plt.scatter(y_test, y_poly_test_pred, alpha=0.5, label='Polynomial Regression')\n",
    "plt.scatter(y_test, y_ridge_test_pred, alpha=0.5, label='Ridge Regression')\n",
    "ymin = y.min()\n",
    "ymax = y.max()\n",
    "plt.plot([ymin, ymax], [ymin, ymax], 'r--', lw=2)\n",
    "plt.xlabel('Actual Values')\n",
    "plt.ylabel('Predicted Values')\n",
    "plt.title('Predictions vs Actual Values')\n",
    "plt.legend()\n",
    "plt.savefig('boston_predictions_comparison.png')\n",
    "plt.show()"
   ]
  }
 ],
 "metadata": {
  "kernelspec": {
   "display_name": "base",
   "language": "python",
   "name": "python3"
  },
  "language_info": {
   "codemirror_mode": {
    "name": "ipython",
    "version": 3
   },
   "file_extension": ".py",
   "mimetype": "text/x-python",
   "name": "python",
   "nbconvert_exporter": "python",
   "pygments_lexer": "ipython3",
   "version": "3.12.7"
  }
 },
 "nbformat": 4,
 "nbformat_minor": 5
}