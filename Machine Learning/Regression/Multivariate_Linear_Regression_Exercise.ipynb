{
 "cells": [
  {
   "cell_type": "markdown",
   "id": "e7b341ed",
   "metadata": {},
   "source": [
    "# Exercise: Multivariate Linear Regression with sklearn\n",
    "\n",
    "In this exercise, you'll practice implementing Multivariate Linear Regression using a real-world dataset. \n",
    "Follow the steps below carefully and answer the questions at the end.\n",
    "\n",
    "## Instructions\n",
    "\n",
    "- Load and explore the provided dataset.\n",
    "- Preprocess the data (handle missing values, feature scaling).\n",
    "- Split the data into training and testing sets.\n",
    "- Train a Multivariate Linear Regression model using `sklearn`.\n",
    "- Evaluate the model's performance using appropriate metrics.\n",
    "\n",
    "Let's get started!\n"
   ]
  },
  {
   "cell_type": "code",
   "execution_count": null,
   "id": "94327b49",
   "metadata": {},
   "outputs": [],
   "source": [
    "# Import necessary libraries\n",
    "import pandas as pd\n",
    "import numpy as np\n",
    "\n",
    "# Load dataset\n",
    "url = 'https://raw.githubusercontent.com/mwaskom/seaborn-data/master/diamonds.csv'\n",
    "df = pd.read_csv(url)\n",
    "\n",
    "# Display first few rows\n",
    "df.head()\n"
   ]
  },
  {
   "cell_type": "markdown",
   "id": "01f47d43",
   "metadata": {},
   "source": [
    "## Data Preprocessing\n",
    "\n",
    "- Drop any non-numeric columns or encode them appropriately.\n",
    "- Handle missing values if any.\n",
    "- Scale the features.\n"
   ]
  },
  {
   "cell_type": "code",
   "execution_count": null,
   "id": "8f98f937",
   "metadata": {},
   "outputs": [],
   "source": [
    "# Your code here"
   ]
  },
  {
   "cell_type": "markdown",
   "id": "91992310",
   "metadata": {},
   "source": [
    "## Train-Test Split\n",
    "\n",
    "Split the dataset into training and testing sets.\n"
   ]
  },
  {
   "cell_type": "code",
   "execution_count": null,
   "id": "d172e925",
   "metadata": {},
   "outputs": [],
   "source": [
    "# Your code here"
   ]
  },
  {
   "cell_type": "markdown",
   "id": "1df56d18",
   "metadata": {},
   "source": [
    "## Train the Model\n",
    "\n",
    "Use `LinearRegression` from sklearn to train your model.\n"
   ]
  },
  {
   "cell_type": "code",
   "execution_count": null,
   "id": "c74899e5",
   "metadata": {},
   "outputs": [],
   "source": [
    "## Your code here"
   ]
  },
  {
   "cell_type": "markdown",
   "id": "99bc829c",
   "metadata": {},
   "source": [
    "## Evaluate Your Model\n",
    "\n",
    "Calculate and display the MSE, MAE, and R² score.\n"
   ]
  },
  {
   "cell_type": "code",
   "execution_count": null,
   "id": "5b5b6a73",
   "metadata": {},
   "outputs": [],
   "source": [
    "# Your code here"
   ]
  },
  {
   "cell_type": "markdown",
   "id": "a44b4b0a",
   "metadata": {},
   "source": [
    "## Questions:\n",
    "\n",
    "- What do your evaluation metrics tell you about your model's performance?\n",
    "- Could the performance be improved? Suggest possible ways.\n"
   ]
  },
  {
   "cell_type": "markdown",
   "id": "52b95be2",
   "metadata": {},
   "source": []
  }
 ],
 "metadata": {
  "language_info": {
   "name": "python"
  }
 },
 "nbformat": 4,
 "nbformat_minor": 5
}
