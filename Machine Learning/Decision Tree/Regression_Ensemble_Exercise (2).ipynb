{
 "cells": [
  {
   "cell_type": "markdown",
   "id": "626e8165",
   "metadata": {},
   "source": [
    "# Regression Exercise: Random Forest and Gradient Boosting\n",
    "Follow the steps below to load, preprocess, and model the UCI Auto MPG dataset. You will implement both a Random Forest Regressor and a Gradient Boosting Regressor.\n",
    "Use `# Your code here` in code cells to fill in your solutions."
   ]
  },
  {
   "cell_type": "markdown",
   "id": "22aa1fb2",
   "metadata": {},
   "source": [
    "## Step 1: Load the Dataset\n",
    "Use `fetch_openml` to load the UCI 'Auto MPG' dataset and inspect its structure."
   ]
  },
  {
   "cell_type": "code",
   "execution_count": null,
   "id": "e6a0b9aa",
   "metadata": {},
   "outputs": [],
   "source": [
    "# Step 1: Load the dataset\n",
    "# Your code here"
   ]
  },
  {
   "cell_type": "markdown",
   "id": "f2a67e65",
   "metadata": {},
   "source": [
    "## Step 2: Data Cleaning\n",
    "Identify and handle missing values in the dataset. Drop or impute as appropriate."
   ]
  },
  {
   "cell_type": "code",
   "execution_count": null,
   "id": "c3998115",
   "metadata": {},
   "outputs": [],
   "source": [
    "# Step 2: Data cleaning\n",
    "# Your code here"
   ]
  },
  {
   "cell_type": "markdown",
   "id": "b36a5435",
   "metadata": {},
   "source": [
    "## Step 3: Preprocessing\n",
    "- Separate features (`X`) and target (`y` = 'mpg').\n",
    "- Identify numeric and categorical columns.\n",
    "- Build a `ColumnTransformer` to scale numeric features and one-hot encode categorical features.\n",
    "- Split into training and test sets."
   ]
  },
  {
   "cell_type": "code",
   "execution_count": null,
   "id": "271401f1",
   "metadata": {},
   "outputs": [],
   "source": [
    "# Step 3: Preprocessing\n",
    "# Your code here"
   ]
  },
  {
   "cell_type": "markdown",
   "id": "76828202",
   "metadata": {},
   "source": [
    "## Step 4: Random Forest Regressor\n",
    "Create a pipeline with the preprocessor and `RandomForestRegressor`. Use `GridSearchCV` to tune `n_estimators` and `max_depth`."
   ]
  },
  {
   "cell_type": "code",
   "execution_count": null,
   "id": "305d8e99",
   "metadata": {},
   "outputs": [],
   "source": [
    "# Step 4: Random Forest with GridSearchCV\n",
    "# Your code here"
   ]
  },
  {
   "cell_type": "markdown",
   "id": "06e6239b",
   "metadata": {},
   "source": [
    "## Step 5: Gradient Boosting Regressor\n",
    "Create a pipeline with the preprocessor and `GradientBoostingRegressor`. Use `GridSearchCV` to tune `n_estimators`, `learning_rate`, and `max_depth`."
   ]
  },
  {
   "cell_type": "code",
   "execution_count": null,
   "id": "8a3b8c72",
   "metadata": {},
   "outputs": [],
   "source": [
    "# Step 5: Gradient Boosting with GridSearchCV\n",
    "# Your code here"
   ]
  },
  {
   "cell_type": "markdown",
   "id": "6972e90f",
   "metadata": {},
   "source": [
    "## Step 6: Model Evaluation\n",
    "Evaluate both models on the test set using:\n",
    "- R² score\n",
    "- Mean Squared Error (MSE)\n",
    "- Mean Absolute Error (MAE)\n"
   ]
  },
  {
   "cell_type": "code",
   "execution_count": null,
   "id": "38e05a2d",
   "metadata": {},
   "outputs": [],
   "source": [
    "# Step 6: Evaluation metrics\n",
    "# Your code here"
   ]
  },
  {
   "cell_type": "markdown",
   "id": "3b118493",
   "metadata": {},
   "source": [
    "## Step 7: Inspect a Decision Tree from Random Forest\n",
    "Select one tree from the best Random Forest model and plot its structure with `plot_tree`. Label nodes with feature names and class outputs."
   ]
  },
  {
   "cell_type": "code",
   "execution_count": null,
   "id": "5fec755f",
   "metadata": {},
   "outputs": [],
   "source": [
    "# Step 7: Plot a single decision tree\n",
    "# Your code here"
   ]
  },
  {
   "cell_type": "markdown",
   "id": "6c4a397f",
   "metadata": {},
   "source": [
    "## Step 8: Feature Importances\n",
    "Extract and plot the feature importances from both the Random Forest and Gradient Boosting models. Use a horizontal bar chart to visualize."
   ]
  },
  {
   "cell_type": "code",
   "execution_count": null,
   "id": "d086ffcf",
   "metadata": {},
   "outputs": [],
   "source": [
    "# Step 8: Plot feature importances\n",
    "# Your code here"
   ]
  },
  {
   "cell_type": "markdown",
   "id": "6cf6d69d",
   "metadata": {},
   "source": [
    "## Submission\n",
    "Save your completed notebook and submit it for review."
   ]
  }
 ],
 "metadata": {
  "language_info": {
   "name": "python"
  }
 },
 "nbformat": 4,
 "nbformat_minor": 5
}
