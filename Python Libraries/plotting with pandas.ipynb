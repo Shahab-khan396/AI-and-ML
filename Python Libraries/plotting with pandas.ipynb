{
 "cells": [
  {
   "cell_type": "markdown",
   "metadata": {},
   "source": [
    "# Advanced Pandas Exercises: Online Learning Platform\n",
    "\n",
    "This notebook contains 15 exercises to practice advanced Pandas operations and plotting in the context of an online learning platform. You are provided with two DataFrames:\n",
    "- **df_courses**: Contains course enrollment records (e.g., EnrollmentID, EnrollmentDate, UserID, CourseFee, PaymentType, CourseSubject).\n",
    "- **df_users**: Contains user details (e.g., UserID, UserName, ExperienceLevel, Region).\n",
    "\n",
    "The first code cell simulates realistic datasets for you to work with. Run it to load `df_courses` and `df_users` into your environment.\n",
    "\n",
    "Exercises 1–10 focus on data manipulation, while Exercises 11–15 introduce plotting with Pandas and Matplotlib. Complete each exercise by writing the necessary code in the provided cells.\n",
    "\n",
    "**Note**: Ensure Matplotlib is imported (`import matplotlib.pyplot as plt`) for plotting exercises."
   ]
  },
  {
   "cell_type": "code",
   "execution_count": null,
   "metadata": {},
   "outputs": [],
   "source": [
    "import pandas as pd\n",
    "import numpy as np\n",
    "import matplotlib.pyplot as plt\n",
    "from datetime import datetime, timedelta\n",
    "import random\n",
    "\n",
    "# Set random seed for reproducibility\n",
    "np.random.seed(42)\n",
    "random.seed(42)\n",
    "\n",
    "# Simulate df_users\n",
    "n_users = 120\n",
    "user_ids = [f'U{str(i).zfill(4)}' for i in range(1, n_users + 1)]\n",
    "first_names = ['Alex', 'Priya', 'Jordan', 'Sofia', 'Kai', 'Maya', 'Ryan', 'Aisha', 'Lucas', 'Zara']\n",
    "last_names = ['Patel', 'Nguyen', 'Kim', 'Lopez', 'Singh', 'Chen', 'Garcia', 'Ali', 'Rossi', 'Kumar']\n",
    "user_names = [f'{random.choice(first_names)} {random.choice(last_names)}' for _ in range(n_users)]\n",
    "experience_levels = np.random.randint(1, 11, size=n_users)\n",
    "regions = ['North America', 'Europe', 'Asia', 'South America', 'Africa', 'Oceania']\n",
    "user_regions = [random.choice(regions) for _ in range(n_users)]\n",
    "\n",
    "df_users = pd.DataFrame({\n",
    "    'UserID': user_ids,\n",
    "    'UserName': user_names,\n",
    "    'ExperienceLevel': experience_levels,\n",
    "    'Region': user_regions\n",
    "})\n",
    "\n",
    "# Simulate df_courses\n",
    "n_enrollments = 600\n",
    "enrollment_ids = [f'E{str(i).zfill(5)}' for i in range(1, n_enrollments + 1)]\n",
    "base_date = datetime(2025, 1, 1)\n",
    "enrollment_dates = [base_date + timedelta(days=random.randint(0, 90)) for _ in range(n_enrollments)]\n",
    "user_ids_enroll = [random.choice(user_ids) for _ in range(n_enrollments)]\n",
    "course_fees = np.random.uniform(5, 200, size=n_enrollments).round(2)\n",
    "payment_types = ['Credit Card', 'PayPal', 'Bank Transfer', 'Voucher', 'Paypal']\n",
    "payment_types_enroll = [random.choice(payment_types) for _ in range(n_enrollments)]\n",
    "course_subjects = ['Programming', 'Data Science', 'Design', 'Business', 'Languages']\n",
    "course_subjects_enroll = [random.choice(course_subjects) for _ in range(n_enrollments)]\n",
    "\n",
    "df_courses = pd.DataFrame({\n",
    "    'EnrollmentID': enrollment_ids,\n",
    "    'EnrollmentDate': enrollment_dates,\n",
    "    'UserID': user_ids_enroll,\n",
    "    'CourseFee': course_fees,\n",
    "    'PaymentType': payment_types_enroll,\n",
    "    'CourseSubject': course_subjects_enroll\n",
    "})\n",
    "\n",
    "# Display sample data\n",
    "print('=== Sample df_users ===')\n",
    "print(df_users.head())\n",
    "print('\\n=== Sample df_courses ===')\n",
    "print(df_courses.head())"
   ]
  },
  {
   "cell_type": "markdown",
   "metadata": {},
   "source": [
    "## Exercise 1: Merge Enrollments with User Details\n",
    "Merge `df_courses` and `df_users` using an **inner join** on `UserID`. Display the first 5 rows of the resulting DataFrame."
   ]
  },
  {
   "cell_type": "code",
   "execution_count": null,
   "metadata": {},
   "outputs": [],
   "source": []
  },
  {
   "cell_type": "markdown",
   "metadata": {},
   "source": [
    "## Exercise 2: Left Join with Missing User Data\n",
    "Perform a **left join** between `df_courses` and `df_users` on `UserID`. How many rows in the resulting DataFrame have missing user names (`UserName` is NaN)? Use `.isna()` to check."
   ]
  },
  {
   "cell_type": "code",
   "execution_count": null,
   "metadata": {},
   "outputs": [],
   "source": []
  },
  {
   "cell_type": "markdown",
   "metadata": {},
   "source": [
    "## Exercise 3: Average Course Fee by Payment Type\n",
    "Group `df_courses` by `PaymentType` and calculate the average `CourseFee` for each type. Display the results."
   ]
  },
  {
   "cell_type": "code",
   "execution_count": null,
   "metadata": {},
   "outputs": [],
   "source": []
  },
  {
   "cell_type": "markdown",
   "metadata": {},
   "source": [
    "## Exercise 4: Binning Course Fees\n",
    "Create a new column `FeeCategory` in `df_courses` by binning `CourseFee` into 4 categories: 'Low' (0-25), 'Medium' (25-75), 'High' (75-150), and 'Premium' (150+). Display the first 10 rows showing `CourseFee` and `FeeCategory`."
   ]
  },
  {
   "cell_type": "code",
   "execution_count": null,
   "metadata": {},
   "outputs": [],
   "source": []
  },
  {
   "cell_type": "markdown",
   "metadata": {},
   "source": [
    "## Exercise 5: Enrollment Count and Total Fees by Course Subject\n",
    "Group `df_courses` by `CourseSubject` and calculate both the number of enrollments (`EnrollmentID` count) and the total `CourseFee`. Rename the aggregated columns to `EnrollmentCount` and `TotalFees`. Display the results."
   ]
  },
  {
   "cell_type": "code",
   "execution_count": null,
   "metadata": {},
   "outputs": [],
   "source": []
  },
  {
   "cell_type": "markdown",
   "metadata": {},
   "source": [
    "## Exercise 6: Add a Discounted Fee Column\n",
    "Create a new column `DiscountedFee` in `df_courses` by applying a 10% discount to `CourseFee`. Show the first 5 rows with both `CourseFee` and `DiscountedFee`."
   ]
  },
  {
   "cell_type": "code",
   "execution_count": null,
   "metadata": {},
   "outputs": [],
   "source": []
  },
  {
   "cell_type": "markdown",
   "metadata": {},
   "source": [
    "## Exercise 7: Vertical Concatenation of Enrollments\n",
    "Simulate receiving a new batch of 25 enrollments by sampling from `df_courses` (with replacement). Concatenate this batch vertically with the original `df_courses` and reset the index. Display the shape of the resulting DataFrame."
   ]
  },
  {
   "cell_type": "code",
   "execution_count": null,
   "metadata": {},
   "outputs": [],
   "source": []
  },
  {
   "cell_type": "markdown",
   "metadata": {},
   "source": [
    "## Exercise 8: Custom Aggregation - Fee Range\n",
    "Define a custom function to calculate the range (max - min) of `CourseFee` for each `PaymentType`. Apply this function using `groupby` and display the results."
   ]
  },
  {
   "cell_type": "code",
   "execution_count": null,
   "metadata": {},
   "outputs": [],
   "source": []
  },
  {
   "cell_type": "markdown",
   "metadata": {},
   "source": [
    "## Exercise 9: Sort Enrollments by Fee\n",
    "Sort `df_courses` by `CourseFee` in descending order and display the top 5 most expensive enrollments."
   ]
  },
  {
   "cell_type": "code",
   "execution_count": null,
   "metadata": {},
   "outputs": [],
   "source": []
  },
  {
   "cell_type": "markdown",
   "metadata": {},
   "source": [
    "## Exercise 10: Quantile Binning of Experience Levels\n",
    "Add a column `ExperienceQuantile` to `df_users` by binning `ExperienceLevel` into 4 quantiles using `pd.qcut`. Label the bins as 'Q1', 'Q2', 'Q3', and 'Q4'. Show the first 10 rows with `ExperienceLevel` and `ExperienceQuantile`."
   ]
  },
  {
   "cell_type": "code",
   "execution_count": null,
   "metadata": {},
   "outputs": [],
   "source": []
  },
  {
   "cell_type": "markdown",
   "metadata": {},
   "source": [
    "## Exercise 11: Bar Plot of Average Course Fee by Payment Type\n",
    "Create a bar plot showing the average `CourseFee` for each `PaymentType`. Use `groupby` to calculate the averages, then plot with `.plot.bar()`. Add a title and labels for the axes."
   ]
  },
  {
   "cell_type": "code",
   "execution_count": null,
   "metadata": {},
   "outputs": [],
   "source": []
  },
  {
   "cell_type": "markdown",
   "metadata": {},
   "source": [
    "## Exercise 12: Pie Chart of Enrollment Distribution by Course Subject\n",
    "Create a pie chart showing the proportion of enrollments by `CourseSubject`. Use `value_counts()` to get the counts, then plot with `.plot.pie()`. Include percentage labels (`autopct='%1.1f%%'`) and a title."
   ]
  },
  {
   "cell_type": "code",
   "execution_count": null,
   "metadata": {},
   "outputs": [],
   "source": []
  },
  {
   "cell_type": "markdown",
   "metadata": {},
   "source": [
    "## Exercise 13: Histogram of Course Fees\n",
    "Create a histogram of `CourseFee` values from `df_courses` with 20 bins. Use `.plot.hist()` and add a title and axis labels."
   ]
  },
  {
   "cell_type": "code",
   "execution_count": null,
   "metadata": {},
   "outputs": [],
   "source": []
  },
  {
   "cell_type": "markdown",
   "metadata": {},
   "source": [
    "## Exercise 14: Line Plot of Cumulative Fees Over Time\n",
    "Create a line plot showing the cumulative sum of `CourseFee` over time (`EnrollmentDate`). Set `EnrollmentDate` as the index, calculate the cumulative sum with `.cumsum()`, and plot with `.plot.line()`. Add a title and axis labels."
   ]
  },
  {
   "cell_type": "code",
   "execution_count": null,
   "metadata": {},
   "outputs": [],
   "source": []
  },
  {
   "cell_type": "markdown",
   "metadata": {},
   "source": [
    "## Exercise 15: Box Plot of Course Fees by Course Subject\n",
    "Create a box plot showing the distribution of `CourseFee` for each `CourseSubject`. Use `.boxplot()` with `column='CourseFee'` and `by='CourseSubject'`. Add a title and axis labels, and remove the automatic suptitle."
   ]
  },
  {
   "cell_type": "code",
   "execution_count": null,
   "metadata": {},
   "outputs": [],
   "source": []
  }
 ],
 "metadata": {
  "kernelspec": {
   "display_name": "Python 3",
   "language": "python",
   "name": "python3"
  },
  "language_info": {
   "codemirror_mode": {
    "name": "ipython",
    "version": 3
   },
   "file_extension": ".py",
   "mimetype": "text/x-python",
   "name": "python",
   "nbconvert_exporter": "python",
   "pygments_lexer": "ipython3",
   "version": "3.x"
  }
 },
 "nbformat": 4,
 "nbformat_minor": 5
}