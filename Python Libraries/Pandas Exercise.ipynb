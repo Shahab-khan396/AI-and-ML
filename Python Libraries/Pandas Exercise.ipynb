{
 "cells": [
  {
   "cell_type": "markdown",
   "id": "e921e906",
   "metadata": {},
   "source": [
    "# Customer Purchase Data Exercises\n",
    "\n",
    "This notebook contains a series of exercises based on a customer purchase dataset. The dataset was generated using the following code:"
   ]
  },
  {
   "cell_type": "markdown",
   "id": "ee0c6dcf-9b47-4bb8-98e6-d7bd6fbfb5b8",
   "metadata": {},
   "source": [
    "## Exercise 1: Loading the Data\n",
    "\n",
    "### Task 1.1: Load from CSV\n",
    "\n",
    "1. Load the data from `customer_purchase_data.csv` into a DataFrame. \n",
    "2. Display the first 5 rows using `.head()`.\n",
    "\n",
    "### Task 1.2: Load from Excel\n",
    "\n",
    "1. Load the data from `customer_purchase_data.xlsx` into a DataFrame. \n",
    "2. Display the column names of the DataFrame.\n",
    "\n",
    "### Task 1.3: Load from JSON\n",
    "\n",
    "1. Load the data from `customer_purchase_data.json` (each record is a JSON line) into a DataFrame.\n",
    "2. Display the shape of the DataFrame."
   ]
  },
  {
   "cell_type": "code",
   "execution_count": null,
   "id": "d79ec0a1-239e-4ec1-a048-a738c8488ef0",
   "metadata": {},
   "outputs": [],
   "source": [
    "#Your code here"
   ]
  },
  {
   "cell_type": "markdown",
   "id": "b4f7c7f2-d346-4dc5-b818-c35954b382f0",
   "metadata": {},
   "source": [
    "## Exercise 2: Data Inspection and Overview\n",
    "\n",
    "### Task 2.1: Inspecting the Data\n",
    "\n",
    "1. Using the DataFrame loaded from CSV (or Excel/JSON), check the following:\n",
    "   - Display the last 5 rows using `.tail()`.\n",
    "   - Use `.info()` to see the data types and non-null counts.\n",
    "   - Use `.describe()` to get summary statistics for the numerical columns.\n",
    "\n",
    "### Task 2.2: Data Cleaning Overview\n",
    "\n",
    "1. Check for missing values in each column and print the count of missing values.\n",
    "2. List the unique values in the `ProductCategory` column."
   ]
  },
  {
   "cell_type": "code",
   "execution_count": null,
   "id": "e3ae9f75-626a-41dc-8ed7-14f7261bb0b7",
   "metadata": {},
   "outputs": [],
   "source": [
    "# Your code here"
   ]
  },
  {
   "cell_type": "markdown",
   "id": "a0a3dc8e-c4f9-4fdf-8c4a-d032c6ae4858",
   "metadata": {},
   "source": [
    "## Exercise 3: Selection and Indexing\n",
    "\n",
    "### Task 3.1: Column Selection\n",
    "\n",
    "1. Select and print the `CustomerID`, `CustomerName`, and `Email` columns from the CSV DataFrame.\n",
    "\n",
    "### Task 3.2: Row Selection and Filtering\n",
    "\n",
    "1. Using boolean indexing, select all rows where `PurchaseAmount` is greater than 250.\n",
    "2. Select rows where the `Country` is either 'USA' or 'Canada'.\n",
    "\n",
    "### Task 3.3: Using `.loc` and `.iloc`\n",
    "\n",
    "1. Use `.loc` to select the row with `CustomerID` 10 and display all columns (if `CustomerID` is not the index, use a condition).\n",
    "2. Use `.iloc` to select the first 10 rows of the DataFrame."
   ]
  },
  {
   "cell_type": "code",
   "execution_count": null,
   "id": "3cf43997-4ec5-4c0e-955b-fde33243f3b8",
   "metadata": {},
   "outputs": [],
   "source": [
    "#Your code here"
   ]
  },
  {
   "cell_type": "markdown",
   "id": "c31ed7a3-1189-4ce6-9f0b-7cd5dbb689ad",
   "metadata": {},
   "source": [
    "## Exercise 4: DataFrame Operations\n",
    "\n",
    "### Task 4.1: Sorting and Ordering\n",
    "\n",
    "1. Sort the DataFrame by `Age` in ascending order and display the first 10 rows.\n",
    "2. Sort the DataFrame by `PurchaseAmount` in descending order and display the first 10 rows.\n",
    "\n",
    "### Task 4.2: Grouping and Aggregation\n",
    "\n",
    "1. Group the data by `Country` and compute the average `PurchaseAmount` for each country.\n",
    "2. Group the data by `ProductCategory` and compute the count and average `ReviewScore` for each category.\n",
    "\n",
    "### Task 4.3: Applying Custom Functions\n",
    "\n",
    "1. Create a new column `DiscountedAmount` that applies a 10% discount to the `PurchaseAmount` (if not null).\n",
    "2. Create a custom function that categorizes a `ReviewScore` into `'Low'` (score 1-2), `'Medium'` (score 3), and `'High'` (score 4-5). Use `.apply()` to create a new column `ReviewCategory`."
   ]
  },
  {
   "cell_type": "code",
   "execution_count": null,
   "id": "3d136929-77b5-44da-9bd5-dcb4b9b3b8b2",
   "metadata": {},
   "outputs": [],
   "source": [
    "# Your code here"
   ]
  },
  {
   "cell_type": "markdown",
   "id": "7c4033b8-d138-4bdb-b20d-0810ee6206a1",
   "metadata": {},
   "source": [
    "## Exercise 5: Handling Missing Data\n",
    "\n",
    "### Task 5.1: Detecting Missing Data\n",
    "\n",
    "1. Check for missing values in the loaded DataFrame and print the total missing values per column.\n",
    "\n",
    "### Task 5.2: Filling and Dropping Missing Data\n",
    "\n",
    "1. Create a copy of the original DataFrame and fill missing values in numeric columns (e.g., `Age`, `PurchaseAmount`, `ReviewScore`) with the column median.\n",
    "2. For the categorical columns, fill missing values using forward-fill.\n",
    "3. Display the number of missing values after filling.\n",
    "4. Create another copy of the original DataFrame and drop all rows that have any missing value. Compare the shapes of the two DataFrames."
   ]
  },
  {
   "cell_type": "code",
   "execution_count": null,
   "id": "6ae3e1f2-2917-43f2-97d1-42e67dba2c2a",
   "metadata": {},
   "outputs": [],
   "source": [
    "#Your code here"
   ]
  },
  {
   "cell_type": "markdown",
   "id": "0777e4f9-57d6-4d66-9f6b-2c6da2d1cb8a",
   "metadata": {},
   "source": [
    "## Exercise 6: Exporting the Processed Data\n",
    "\n",
    "### Task 6.1: Save the Cleaned Data\n",
    "\n",
    "1. Save the DataFrame with filled missing values (`df_filled`) into a new CSV file named `customer_purchase_data_cleaned.csv`.\n",
    "2. Save the same DataFrame to an Excel file named `customer_purchase_data_cleaned.xlsx`.\n",
    "\n",
    "### Task 6.2: Verify the Exports\n",
    "\n",
    "1. Load the newly exported CSV file and display its info to confirm the export was successful."
   ]
  },
  {
   "cell_type": "code",
   "execution_count": null,
   "id": "d9ae2734-61e1-4ad2-8a89-bf015d5127e0",
   "metadata": {},
   "outputs": [],
   "source": [
    "#Your code here"
   ]
  },
  {
   "cell_type": "markdown",
   "id": "2189a7be-764b-4264-afbc-7009e8694e89",
   "metadata": {},
   "source": [
    "## Summary\n",
    "\n",
    "In this notebook, you have practiced the following tasks using the customer purchase data:\n",
    "\n",
    "- **Data Loading:** Reading data from CSV, Excel, and JSON formats.\n",
    "- **Data Inspection:** Viewing heads/tails, checking data types and missing values, and reviewing summary statistics.\n",
    "- **Selection and Indexing:** Selecting specific columns, filtering rows, and using both `.loc` and `.iloc` for data selection.\n",
    "- **DataFrame Operations:** Sorting, grouping/aggregating data, and applying custom functions to create new columns.\n",
    "- **Handling Missing Data:** Detecting, filling, and dropping missing values.\n",
    "- **Exporting Data:** Saving the processed data to new files and verifying the exports.\n"
   ]
  },
  {
   "cell_type": "markdown",
   "id": "5ae650d9",
   "metadata": {},
   "source": []
  }
 ],
 "metadata": {
  "kernelspec": {
   "display_name": "Python 3",
   "language": "python",
   "name": "python3"
  },
  "language_info": {
   "name": "python",
   "version": "3.x"
  }
 },
 "nbformat": 4,
 "nbformat_minor": 5
}
