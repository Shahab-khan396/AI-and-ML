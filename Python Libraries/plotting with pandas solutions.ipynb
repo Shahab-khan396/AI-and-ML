{
 "cells": [
  {
   "cell_type": "markdown",
   "metadata": {},
   "source": [
    "# Advanced Pandas Exercises: Online Learning Platform (Solved)\n",
    "\n",
    "This notebook contains 15 solved exercises demonstrating advanced Pandas operations and plotting in the context of an online learning platform. Two DataFrames are provided:\n",
    "- **df_courses**: Contains course enrollment records (e.g., EnrollmentID, EnrollmentDate, UserID, CourseFee, PaymentType, CourseSubject).\n",
    "- **df_users**: Contains user details (e.g., UserID, UserName, ExperienceLevel, Region).\n",
    "\n",
    "The first code cell simulates realistic datasets. Exercises 1–10 focus on data manipulation, while Exercises 11–15 cover plotting with Pandas and Matplotlib. Run each cell to see the solutions and outputs."
   ]
  },
  {
   "cell_type": "code",
   "execution_count": null,
   "metadata": {},
   "outputs": [],
   "source": [
    "import pandas as pd\n",
    "import numpy as np\n",
    "import matplotlib.pyplot as plt\n",
    "from datetime import datetime, timedelta\n",
    "import random\n",
    "\n",
    "# Read Users data into df_users\n",
    "df_users = pd.read_csv('users data.csv')\n",
    "\n",
    "# Read Courses data into df_courses\n",
    "df_courses = pd.read_csv('courses data.csv')"
   ]
  },
  {
   "cell_type": "markdown",
   "metadata": {},
   "source": [
    "## Exercise 1: Merge Enrollments with User Details\n",
    "Merge `df_courses` and `df_users` using an **inner join** on `UserID`. Display the first 5 rows of the resulting DataFrame."
   ]
  },
  {
   "cell_type": "code",
   "execution_count": null,
   "metadata": {},
   "outputs": [],
   "source": [
    "# Inner join on UserID\n",
    "df_merged = pd.merge(df_courses, df_users, on='UserID', how='inner')\n",
    "print(df_merged.head())"
   ]
  },
  {
   "cell_type": "markdown",
   "metadata": {},
   "source": [
    "## Exercise 2: Left Join with Missing User Data\n",
    "Perform a **left join** between `df_courses` and `df_users` on `UserID`. How many rows in the resulting DataFrame have missing user names (`UserName` is NaN)? Use `.isna()` to check."
   ]
  },
  {
   "cell_type": "code",
   "execution_count": null,
   "metadata": {},
   "outputs": [],
   "source": [
    "# Left join on UserID\n",
    "df_left = pd.merge(df_courses, df_users, on='UserID', how='left')\n",
    "# Count rows where UserName is NaN\n",
    "missing_users = df_left['UserName'].isna().sum()\n",
    "print(f'Number of rows with missing UserName: {missing_users}')\n",
    "print(df_left.head())"
   ]
  },
  {
   "cell_type": "markdown",
   "metadata": {},
   "source": [
    "## Exercise 3: Average Course Fee by Payment Type\n",
    "Group `df_courses` by `PaymentType` and calculate the average `CourseFee` for each type. Display the results."
   ]
  },
  {
   "cell_type": "code",
   "execution_count": null,
   "metadata": {},
   "outputs": [],
   "source": [
    "# Group by PaymentType and calculate mean CourseFee\n",
    "avg_fee_by_payment = df_courses.groupby('PaymentType')['CourseFee'].mean()\n",
    "print(avg_fee_by_payment)"
   ]
  },
  {
   "cell_type": "markdown",
   "metadata": {},
   "source": [
    "## Exercise 4: Binning Course Fees\n",
    "Create a new column `FeeCategory` in `df_courses` by binning `CourseFee` into 4 categories: 'Low' (0-25), 'Medium' (25-75), 'High' (75-150), and 'Premium' (150+). Display the first 10 rows showing `CourseFee` and `FeeCategory`."
   ]
  },
  {
   "cell_type": "code",
   "execution_count": null,
   "metadata": {},
   "outputs": [],
   "source": [
    "# Define bins and labels\n",
    "bins = [0, 25, 75, 150, float('inf')]\n",
    "labels = ['Low', 'Medium', 'High', 'Premium']\n",
    "# Add FeeCategory column\n",
    "df_courses['FeeCategory'] = pd.cut(df_courses['CourseFee'], bins=bins, labels=labels, include_lowest=True)\n",
    "print(df_courses[['CourseFee', 'FeeCategory']].head(10))"
   ]
  },
  {
   "cell_type": "markdown",
   "metadata": {},
   "source": [
    "## Exercise 5: Enrollment Count and Total Fees by Course Subject\n",
    "Group `df_courses` by `CourseSubject` and calculate both the number of enrollments (`EnrollmentID` count) and the total `CourseFee`. Rename the aggregated columns to `EnrollmentCount` and `TotalFees`. Display the results."
   ]
  },
  {
   "cell_type": "code",
   "execution_count": null,
   "metadata": {},
   "outputs": [],
   "source": [
    "# Group by CourseSubject and aggregate\n",
    "subject_stats = df_courses.groupby('CourseSubject').agg({\n",
    "    'EnrollmentID': 'count',\n",
    "    'CourseFee': 'sum'\n",
    "}).rename(columns={'EnrollmentID': 'EnrollmentCount', 'CourseFee': 'TotalFees'})\n",
    "print(subject_stats)"
   ]
  },
  {
   "cell_type": "markdown",
   "metadata": {},
   "source": [
    "## Exercise 6: Add a Discounted Fee Column\n",
    "Create a new column `DiscountedFee` in `df_courses` by applying a 10% discount to `CourseFee`. Show the first 5 rows with both `CourseFee` and `DiscountedFee`."
   ]
  },
  {
   "cell_type": "code",
   "execution_count": null,
   "metadata": {},
   "outputs": [],
   "source": [
    "# Apply 10% discount\n",
    "df_courses['DiscountedFee'] = df_courses['CourseFee'] * 0.9\n",
    "print(df_courses[['CourseFee', 'DiscountedFee']].head())"
   ]
  },
  {
   "cell_type": "markdown",
   "metadata": {},
   "source": [
    "## Exercise 7: Vertical Concatenation of Enrollments\n",
    "Simulate receiving a new batch of 25 enrollments by sampling from `df_courses` (with replacement). Concatenate this batch vertically with the original `df_courses` and reset the index. Display the shape of the resulting DataFrame."
   ]
  },
  {
   "cell_type": "code",
   "execution_count": null,
   "metadata": {},
   "outputs": [],
   "source": [
    "# Sample 25 enrollments with replacement\n",
    "new_batch = df_courses.sample(25, replace=True)\n",
    "# Concatenate vertically and reset index\n",
    "df_extended = pd.concat([df_courses, new_batch], axis=0, ignore_index=True)\n",
    "print(f'Shape of extended DataFrame: {df_extended.shape}')"
   ]
  },
  {
   "cell_type": "markdown",
   "metadata": {},
   "source": [
    "## Exercise 8: Custom Aggregation - Fee Range\n",
    "Define a custom function to calculate the range (max - min) of `CourseFee` for each `PaymentType`. Apply this function using `groupby` and display the results."
   ]
  },
  {
   "cell_type": "code",
   "execution_count": null,
   "metadata": {},
   "outputs": [],
   "source": [
    "# Define custom range function\n",
    "def fee_range(series):\n",
    "    return series.max() - series.min()\n",
    "\n",
    "# Group by PaymentType and apply custom function\n",
    "fee_ranges = df_courses.groupby('PaymentType')['CourseFee'].agg(fee_range)\n",
    "print(fee_ranges)"
   ]
  },
  {
   "cell_type": "markdown",
   "metadata": {},
   "source": [
    "## Exercise 9: Sort Enrollments by Fee\n",
    "Sort `df_courses` by `CourseFee` in descending order and display the top 5 most expensive enrollments."
   ]
  },
  {
   "cell_type": "code",
   "execution_count": null,
   "metadata": {},
   "outputs": [],
   "source": [
    "# Sort by CourseFee descending\n",
    "sorted_courses = df_courses.sort_values(by='CourseFee', ascending=False)\n",
    "print(sorted_courses.head())"
   ]
  },
  {
   "cell_type": "markdown",
   "metadata": {},
   "source": [
    "## Exercise 10: Quantile Binning of Experience Levels\n",
    "Add a column `ExperienceQuantile` to `df_users` by binning `ExperienceLevel` into 4 quantiles using `pd.qcut`. Label the bins as 'Q1', 'Q2', 'Q3', and 'Q4'. Show the first 10 rows with `ExperienceLevel` and `ExperienceQuantile`."
   ]
  },
  {
   "cell_type": "code",
   "execution_count": null,
   "metadata": {},
   "outputs": [],
   "source": [
    "# Bin ExperienceLevel into 4 quantiles\n",
    "df_users['ExperienceQuantile'] = pd.qcut(df_users['ExperienceLevel'], q=4, labels=['Q1', 'Q2', 'Q3', 'Q4'])\n",
    "print(df_users[['ExperienceLevel', 'ExperienceQuantile']].head(10))"
   ]
  },
  {
   "cell_type": "markdown",
   "metadata": {},
   "source": [
    "## Exercise 11: Bar Plot of Average Course Fee by Payment Type\n",
    "Create a bar plot showing the average `CourseFee` for each `PaymentType`. Use `groupby` to calculate the averages, then plot with `.plot.bar()`. Add a title and labels for the axes."
   ]
  },
  {
   "cell_type": "code",
   "execution_count": null,
   "metadata": {},
   "outputs": [],
   "source": [
    "# Calculate average CourseFee by PaymentType\n",
    "avg_fees = df_courses.groupby('PaymentType')['CourseFee'].mean()\n",
    "# Create bar plot\n",
    "avg_fees.plot.bar(color='skyblue')\n",
    "plt.title('Average Course Fee by Payment Type')\n",
    "plt.xlabel('Payment Type')\n",
    "plt.ylabel('Average Course Fee ($)')\n",
    "plt.show()"
   ]
  },
  {
   "cell_type": "markdown",
   "metadata": {},
   "source": [
    "## Exercise 12: Pie Chart of Enrollment Distribution by Course Subject\n",
    "Create a pie chart showing the proportion of enrollments by `CourseSubject`. Use `value_counts()` to get the counts, then plot with `.plot.pie()`. Include percentage labels (`autopct='%1.1f%%'`) and a title."
   ]
  },
  {
   "cell_type": "code",
   "execution_count": null,
   "metadata": {},
   "outputs": [],
   "source": [
    "# Get counts of enrollments by CourseSubject\n",
    "subject_counts = df_courses['CourseSubject'].value_counts()\n",
    "# Create pie chart\n",
    "subject_counts.plot.pie(autopct='%1.1f%%', startangle=90)\n",
    "plt.title('Enrollment Distribution by Course Subject')\n",
    "plt.ylabel('')  # Remove y-label for cleaner look\n",
    "plt.show()"
   ]
  },
  {
   "cell_type": "markdown",
   "metadata": {},
   "source": [
    "## Exercise 13: Histogram of Course Fees\n",
    "Create a histogram of `CourseFee` values from `df_courses` with 20 bins. Use `.plot.hist()` and add a title and axis labels."
   ]
  },
  {
   "cell_type": "code",
   "execution_count": null,
   "metadata": {},
   "outputs": [],
   "source": [
    "# Create histogram of CourseFee\n",
    "df_courses['CourseFee'].plot.hist(bins=20, color='purple', alpha=0.7)\n",
    "plt.title('Histogram of Course Fees')\n",
    "plt.xlabel('Course Fee ($)')\n",
    "plt.ylabel('Frequency')\n",
    "plt.show()"
   ]
  },
  {
   "cell_type": "markdown",
   "metadata": {},
   "source": [
    "## Exercise 14: Line Plot of Cumulative Fees Over Time\n",
    "Create a line plot showing the cumulative sum of `CourseFee` over time (`EnrollmentDate`). Set `EnrollmentDate` as the index, calculate the cumulative sum with `.cumsum()`, and plot with `.plot.line()`. Add a title and axis labels."
   ]
  },
  {
   "cell_type": "code",
   "execution_count": null,
   "metadata": {},
   "outputs": [],
   "source": [
    "# Set EnrollmentDate as index and sort\n",
    "cumulative_fees = df_courses.set_index('EnrollmentDate')['CourseFee'].sort_index().cumsum()\n",
    "# Create line plot\n",
    "cumulative_fees.plot.line(color='blue')\n",
    "plt.title('Cumulative Course Fees Over Time')\n",
    "plt.xlabel('Enrollment Date')\n",
    "plt.ylabel('Cumulative Fees ($)')\n",
    "plt.show()"
   ]
  },
  {
   "cell_type": "markdown",
   "metadata": {},
   "source": [
    "## Exercise 15: Box Plot of Course Fees by Course Subject\n",
    "Create a box plot showing the distribution of `CourseFee` for each `CourseSubject`. Use `.boxplot()` with `column='CourseFee'` and `by='CourseSubject'`. Add a title and axis labels, and remove the automatic suptitle."
   ]
  },
  {
   "cell_type": "code",
   "execution_count": null,
   "metadata": {},
   "outputs": [],
   "source": [
    "# Create box plot\n",
    "df_courses.boxplot(column='CourseFee', by='CourseSubject', grid=False)\n",
    "plt.title('Course Fee Distribution by Course Subject')\n",
    "plt.suptitle('')  # Remove automatic suptitle\n",
    "plt.xlabel('Course Subject')\n",
    "plt.ylabel('Course Fee ($)')\n",
    "plt.show()"
   ]
  }
 ],
 "metadata": {
  "kernelspec": {
   "display_name": "Python 3",
   "language": "python",
   "name": "python3"
  },
  "language_info": {
   "codemirror_mode": {
    "name": "ipython",
    "version": 3
   },
   "file_extension": ".py",
   "mimetype": "text/x-python",
   "name": "python",
   "nbconvert_exporter": "python",
   "pygments_lexer": "ipython3",
   "version": "3.x"
  }
 },
 "nbformat": 4,
 "nbformat_minor": 5
}
