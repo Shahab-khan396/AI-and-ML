{
 "cells": [
  {
   "cell_type": "markdown",
   "metadata": {},
   "source": [
    "# Seaborn Plotting Exercises: Retail Dataset\n",
    "\n",
    "This notebook contains 6 exercises to practice plotting with Seaborn using a retail dataset. The dataset (`df_retail`) contains transaction records with columns such as `TransactionID`, `CustomerName`, `Age`, `Gender`, `ProductCategory`, `ProductPrice`, `Quantity`, `Discount`, `Total`, `TransactionDate`, `PaymentMethod`, `Country`, `City`, `LoyaltyMember`, and `ShippingCost`.\n",
    "\n",
    "**Objective**: Create various Seaborn plots to explore and visualize patterns in the retail data.\n",
    "\n",
    "**Instructions**:\n",
    "- The first code cell loads the dataset. Run it to create `df_retail`.\n",
    "- For each exercise, write Seaborn code to generate the requested plot.\n",
    "- Ensure you include titles and appropriate axis labels for clarity.\n",
    "- Use the `deep` palette and `whitegrid` theme unless specified otherwise.\n",
    "\n",
    "**Prerequisites**:\n",
    "- Import Seaborn and Matplotlib: `import seaborn as sns` and `import matplotlib.pyplot as plt`.\n",
    "- Set the theme: `sns.set_theme(style='whitegrid', palette='deep')`.\n",
    "\n",
    "Complete each exercise in the provided code cells."
   ]
  },
  {
   "cell_type": "code",
   "execution_count": null,
   "metadata": {},
   "outputs": [],
   "source": [
    "import pandas as pd\n",
    "import numpy as np\n",
    "import seaborn as sns\n",
    "import matplotlib.pyplot as plt\n",
    "\n",
    "# Set Seaborn theme\n",
    "sns.set_theme(style='whitegrid', palette='deep')\n",
    "\n",
    "\n",
    "# read the retail data into a dataframe\n",
    "df_retail = pd.read_csv('retail data.csv')"
   ]
  },
  {
   "cell_type": "markdown",
   "metadata": {},
   "source": [
    "## Exercise 1: Histogram with KDE of Total Transaction Amounts\n",
    "Create a histogram of the `Total` column to show the distribution of transaction amounts. Overlay a KDE curve to visualize the density. Use 25 bins and a blue color for the histogram bars. Include a title and label the axes appropriately."
   ]
  },
  {
   "cell_type": "code",
   "execution_count": null,
   "metadata": {},
   "outputs": [],
   "source": []
  },
  {
   "cell_type": "markdown",
   "metadata": {},
   "source": [
    "## Exercise 2: Violin Plot of Total by Product Category\n",
    "Create a violin plot to compare the distribution of `Total` across each `ProductCategory`. Use the `muted` palette to differentiate categories. Add a title and label the axes."
   ]
  },
  {
   "cell_type": "code",
   "execution_count": null,
   "metadata": {},
   "outputs": [],
   "source": []
  },
  {
   "cell_type": "markdown",
   "metadata": {},
   "source": [
    "## Exercise 3: Joint Plot of Product Price vs. Total\n",
    "Create a joint plot to explore the relationship between `ProductPrice` and `Total`. Use a scatter plot for the main plot and histograms for the marginal distributions. Set the color to purple and include a title."
   ]
  },
  {
   "cell_type": "code",
   "execution_count": null,
   "metadata": {},
   "outputs": [],
   "source": []
  },
  {
   "cell_type": "markdown",
   "metadata": {},
   "source": [
    "## Exercise 4: Bar Plot of Average Total by Payment Method\n",
    "Create a bar plot showing the average `Total` for each `PaymentMethod`. Use the `viridis` palette and include confidence intervals. Add a title and label the axes."
   ]
  },
  {
   "cell_type": "code",
   "execution_count": null,
   "metadata": {},
   "outputs": [],
   "source": []
  },
  {
   "cell_type": "markdown",
   "metadata": {},
   "source": [
    "## Exercise 5: Heatmap of Correlation Matrix\n",
    "Compute the correlation matrix for numerical columns (`Age`, `ProductPrice`, `Quantity`, `Discount`, `Total`, `ShippingCost`). Create a heatmap to visualize the correlations, with annotations showing the correlation values. Use the `coolwarm` colormap, and add a title."
   ]
  },
  {
   "cell_type": "code",
   "execution_count": null,
   "metadata": {},
   "outputs": [],
   "source": []
  },
  {
   "cell_type": "markdown",
   "metadata": {},
   "source": [
    "## Exercise 6: Count Plot of Transactions by Country and Loyalty Membership\n",
    "Create a count plot to show the number of transactions by `Country`, with bars split by `LoyaltyMember` (True/False) using the `hue` parameter. Use the `Set2` palette, and rotate x-axis labels if needed for readability. Add a title and label the axes."
   ]
  },
  {
   "cell_type": "code",
   "execution_count": null,
   "metadata": {},
   "outputs": [],
   "source": []
  }
 ],
 "metadata": {
  "kernelspec": {
   "display_name": "Python 3",
   "language": "python",
   "name": "python3"
  },
  "language_info": {
   "codemirror_mode": {
    "name": "ipython",
    "version": 3
   },
   "file_extension": ".py",
   "mimetype": "text/x-python",
   "name": "python",
   "nbconvert_exporter": "python",
   "pygments_lexer": "ipython3",
   "version": "3.x"
  }
 },
 "nbformat": 4,
 "nbformat_minor": 5
}
