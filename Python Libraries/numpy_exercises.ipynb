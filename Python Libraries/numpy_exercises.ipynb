{
  "cells": [
    {
      "cell_type": "markdown",
      "metadata": {
        "id": "PMQETRLedZIx"
      },
      "source": [
        "# NumPy Exercises Notebook\n",
        "\n",
        "Welcome to this Jupyter Notebook designed to help you master NumPy, a powerful library for numerical computing in Python.\n",
        "This notebook contains exercises split into two levels: **Moderate** and **Advanced**.\n",
        "These exercises build on foundational NumPy concepts such as array creation, basic operations, and indexing,\n",
        "which you may already be familiar with from beginner-level material.\n",
        "Here, we dive deeper into more complex operations and advanced techniques to test and enhance your skills."
      ]
    },
    {
      "cell_type": "code",
      "execution_count": 1,
      "metadata": {
        "id": "yGl7Np_ldZI2"
      },
      "outputs": [],
      "source": [
        "import numpy as np"
      ]
    },
    {
      "cell_type": "markdown",
      "metadata": {
        "id": "5SXASOgkdZI3"
      },
      "source": [
        "### Exercise 1: Reshape an Array\n",
        "Create a 1D array with 12 elements using `np.arange()`, then reshape it into a 3x4 2D array."
      ]
    },
    {
      "cell_type": "code",
      "execution_count": 5,
      "metadata": {
        "id": "iZ3PVo3ndZI4"
      },
      "outputs": [
        {
          "data": {
            "text/plain": [
              "array([[ 0,  1,  2,  3],\n",
              "       [ 4,  5,  6,  7],\n",
              "       [ 8,  9, 10, 11]])"
            ]
          },
          "execution_count": 5,
          "metadata": {},
          "output_type": "execute_result"
        }
      ],
      "source": [
        "# Your solution here\n",
        "arr=np.arange(0,12)\n",
        "arr.reshape(3,4)"
      ]
    },
    {
      "cell_type": "markdown",
      "metadata": {
        "id": "eSZVQWQHdZI4"
      },
      "source": [
        "### Exercise 2: Generate Random Numbers\n",
        "Use `np.random.rand()` to create a 2x3 array filled with random numbers between 0 and 1.\n"
      ]
    },
    {
      "cell_type": "code",
      "execution_count": 8,
      "metadata": {
        "id": "GbN9MtyPdZI5"
      },
      "outputs": [
        {
          "data": {
            "text/plain": [
              "array([[0.18749183, 0.95554293, 0.16590205, 0.16519765],\n",
              "       [0.76060116, 0.22139125, 0.93009777, 0.12414578],\n",
              "       [0.35968007, 0.44354009, 0.82393056, 0.93058036]])"
            ]
          },
          "execution_count": 8,
          "metadata": {},
          "output_type": "execute_result"
        }
      ],
      "source": [
        "# Your solution here\n",
        "np.random.rand(3,4)"
      ]
    },
    {
      "cell_type": "markdown",
      "metadata": {
        "id": "8ojIi95WdZI5"
      },
      "source": [
        "### Exercise 3: Find Max and Min\n",
        "Given the array `arr = np.array([4, 2, 9, 1, 5])`, find its maximum and minimum values.\n"
      ]
    },
    {
      "cell_type": "code",
      "execution_count": 13,
      "metadata": {
        "id": "Qs289bvYdZI6"
      },
      "outputs": [
        {
          "name": "stdout",
          "output_type": "stream",
          "text": [
            "9\n",
            "1\n"
          ]
        }
      ],
      "source": [
        "arr = np.array([4, 2, 9, 1, 5])\n",
        "# Your solution here\n",
        "print(arr.max())\n",
        "print(arr.min())\n"
      ]
    },
    {
      "cell_type": "markdown",
      "metadata": {
        "id": "-nARrVCFdZI6"
      },
      "source": [
        "### Exercise 4: Sum of Elements\n",
        "Compute the total sum of all elements in the array `arr = np.array([[1, 2], [3, 4]])`.\n"
      ]
    },
    {
      "cell_type": "code",
      "execution_count": 16,
      "metadata": {
        "id": "19900D8xdZI6"
      },
      "outputs": [
        {
          "data": {
            "text/plain": [
              "10"
            ]
          },
          "execution_count": 16,
          "metadata": {},
          "output_type": "execute_result"
        }
      ],
      "source": [
        "arr = np.array([[1, 2], [3, 4]])\n",
        "# Your solution here\n",
        "np.sum(arr)"
      ]
    },
    {
      "cell_type": "markdown",
      "metadata": {
        "id": "wpV_hs5ldZI7"
      },
      "source": [
        "### Exercise 5: Boolean Indexing\n",
        "Filter out all values greater than 5 from the array `arr = np.array([1, 6, 3, 8, 5])` using boolean indexing.\n"
      ]
    },
    {
      "cell_type": "code",
      "execution_count": 20,
      "metadata": {
        "id": "Vgwhvq4odZI7"
      },
      "outputs": [
        {
          "name": "stdout",
          "output_type": "stream",
          "text": [
            "[False  True False  True False]\n"
          ]
        }
      ],
      "source": [
        "# Filter out all values greater than 5 from the array `arr = np.array([1, 6, 3, 8, 5])` using boolean indexing.\n",
        "\n",
        "arr = np.array([1, 6, 3, 8, 5])\n",
        "# Your solution here\n",
        "print(arr>5)\n"
      ]
    },
    {
      "cell_type": "markdown",
      "metadata": {
        "id": "lT2AB4j-dZI7"
      },
      "source": [
        "### Exercise 6: Sum Along Axis\n",
        "For the array `arr = np.array([[1, 2, 3], [4, 5, 6]])`, compute the sum along each column.\n"
      ]
    },
    {
      "cell_type": "code",
      "execution_count": null,
      "metadata": {
        "id": "ZnY_5bNddZI8"
      },
      "outputs": [
        {
          "name": "stdout",
          "output_type": "stream",
          "text": [
            "[5 7 9]\n"
          ]
        }
      ],
      "source": [
        "arr = np.array([[1, 2, 3], [4, 5, 6]])\n",
        "# Your solution here\n",
        "print(arr.sum(axis=0))"
      ]
    },
    {
      "cell_type": "markdown",
      "metadata": {
        "id": "03ja-pbmdZI8"
      },
      "source": [
        "### Exercise 7: Conditional Replacement\n",
        "Use `np.where()` to replace all values less than 0 with 0 in the array `arr = np.array([-1, 2, -3, 4])`.\n"
      ]
    },
    {
      "cell_type": "code",
      "execution_count": null,
      "metadata": {
        "id": "K2j61cX-dZI8"
      },
      "outputs": [
        {
          "name": "stdout",
          "output_type": "stream",
          "text": [
            "[0 2 0 4]\n"
          ]
        }
      ],
      "source": [
        "arr = np.array([-1, 2, -3, 4])\n",
        "# Your solution here\n",
        "print(np.where(arr<0, 0, arr))\n"
      ]
    },
    {
      "cell_type": "markdown",
      "metadata": {
        "id": "w8mufXxHdZI8"
      },
      "source": [
        "### Exercise 8: Concatenate Arrays\n",
        "Concatenate the arrays `arr1 = np.array([1, 2, 3])` and `arr2 = np.array([4, 5, 6])` horizontally (along columns).\n"
      ]
    },
    {
      "cell_type": "code",
      "execution_count": 25,
      "metadata": {
        "id": "bpj8ahD3dZI8"
      },
      "outputs": [
        {
          "data": {
            "text/plain": [
              "array([1, 2, 3, 4, 5, 6])"
            ]
          },
          "execution_count": 25,
          "metadata": {},
          "output_type": "execute_result"
        }
      ],
      "source": [
        "arr1 = np.array([1, 2, 3])\n",
        "arr2 = np.array([4, 5, 6])\n",
        "# Your solution here\n",
        "np.concatenate((arr1, arr2), axis=0)\n"
      ]
    },
    {
      "cell_type": "markdown",
      "metadata": {
        "id": "GSRnQ9nGdZI8"
      },
      "source": [
        "### Exercise 9: Split an Array\n",
        "Split the array `arr = np.arange(10)` into two equal parts.\n"
      ]
    },
    {
      "cell_type": "code",
      "execution_count": 28,
      "metadata": {
        "id": "CJUyE2oKdZI9"
      },
      "outputs": [
        {
          "data": {
            "text/plain": [
              "[array([0, 1, 2, 3, 4]), array([5, 6, 7, 8, 9])]"
            ]
          },
          "execution_count": 28,
          "metadata": {},
          "output_type": "execute_result"
        }
      ],
      "source": [
        "\n",
        "arr = np.arange(10)\n",
        "# Your solution here\n",
        "np.split(arr, 2)\n"
      ]
    },
    {
      "cell_type": "markdown",
      "metadata": {
        "id": "4XEdCeNTdZI9"
      },
      "source": [
        "### Exercise 10: Unique Elements\n",
        "Find the unique elements in the array `arr = np.array([1, 2, 2, 3, 3, 3, 4])`.\n"
      ]
    },
    {
      "cell_type": "code",
      "execution_count": 30,
      "metadata": {
        "id": "iw7KCBLadZI9"
      },
      "outputs": [
        {
          "name": "stdout",
          "output_type": "stream",
          "text": [
            "[1 2 3 4]\n"
          ]
        }
      ],
      "source": [
        "\n",
        "arr = np.array([1, 2, 2, 3, 3, 3, 4])\n",
        "# Your solution here\n",
        "print(np.unique(arr))\n"
      ]
    },
    {
      "cell_type": "markdown",
      "metadata": {
        "id": "MhDh0N7JdZI9"
      },
      "source": [
        "### Exercise 11: Broadcasting\n",
        "Add a 1D array `arr1 = np.array([1, 2, 3])` to a 2D array `arr2 = np.array([[4, 5, 6], [7, 8, 9]])` using broadcasting.\n"
      ]
    },
    {
      "cell_type": "code",
      "execution_count": 32,
      "metadata": {
        "id": "hgeXHlRydZI9"
      },
      "outputs": [
        {
          "name": "stdout",
          "output_type": "stream",
          "text": [
            "[[ 5  7  9]\n",
            " [ 8 10 12]]\n"
          ]
        }
      ],
      "source": [
        "arr1 = np.array([1, 2, 3])\n",
        "arr2 = np.array([[4, 5, 6], [7, 8, 9]])\n",
        "# Your solution here\n",
        "print(arr1 + arr2)\n"
      ]
    },
    {
      "cell_type": "markdown",
      "metadata": {
        "id": "ELQVwUwRdZI9"
      },
      "source": [
        "### Exercise 12: Views vs. Copies\n",
        "Create a view of the array `arr = np.array([1, 2, 3, 4])`, modify the view, and print both the view and the original array to observe the effect.\n"
      ]
    },
    {
      "cell_type": "code",
      "execution_count": 55,
      "metadata": {
        "id": "tFUXLwRbdZI9"
      },
      "outputs": [
        {
          "name": "stdout",
          "output_type": "stream",
          "text": [
            "[10  2  3  4]\n",
            "[10  2  3  4]\n"
          ]
        }
      ],
      "source": [
        "arr = np.array([1, 2, 3, 4])\n",
        "# Your solution here\n",
        "arr_view = arr.view()\n",
        "arr_view[0] = 10\n",
        "print(arr_view)\n",
        "print(arr)  # Original array is also modified\n"
      ]
    },
    {
      "cell_type": "markdown",
      "metadata": {
        "id": "7GDVNXHUdZI-"
      },
      "source": [
        "### Exercise 13: Increase Dimensions\n",
        "Use `np.newaxis` to convert the 1D array `arr = np.array([1, 2, 3])` into a 2D array with shape (3, 1).\n"
      ]
    },
    {
      "cell_type": "code",
      "execution_count": null,
      "metadata": {
        "id": "mDJqoDTjdZI-"
      },
      "outputs": [
        {
          "name": "stdout",
          "output_type": "stream",
          "text": [
            "(3, 1)\n"
          ]
        }
      ],
      "source": [
        "arr = np.array([1, 2, 3])\n",
        "# Your solution here\n",
        "arr_2d = arr[:, np.newaxis]\n",
        "print(arr_2d.shape)\n"
      ]
    },
    {
      "cell_type": "markdown",
      "metadata": {
        "id": "CMDFzaCkdZI-"
      },
      "source": [
        "### Exercise 14: Structured Array\n",
        "\n",
        "Create a structured array with fields `name` (string, max length 10), `age` (integer), and `height` (float). Add two entries: (\"Alice\", 25, 5.5) and (\"Bob\", 30, 6.0).\n"
      ]
    },
    {
      "cell_type": "code",
      "execution_count": null,
      "metadata": {
        "id": "VcHAR3zPdZI-"
      },
      "outputs": [
        {
          "name": "stdout",
          "output_type": "stream",
          "text": [
            "[(b'Alice', 25, 5.5) (b'Bob', 30, 6. )]\n"
          ]
        }
      ],
      "source": [
        "# Your solution here\n",
        "dtype = np.dtype([('name', 'S10'), ('age', 'i4'), ('height', 'f4')])\n",
        "arr = np.zeros(2, dtype=dtype)\n",
        "arr[0] = (b'Alice', 25, 5.5)\n",
        "arr[1] = (b'Bob', 30, 6.0)\n",
        "print(arr)\n",
        "\n",
        "\n"
      ]
    },
    {
      "cell_type": "markdown",
      "metadata": {
        "id": "FoIZDNlBdZI-"
      },
      "source": [
        "### Exercise 15: Custom Universal Function\n",
        "Create a universal function (ufunc) that squares each element of an array. Apply it to `arr = np.array([1, 2, 3, 4])`.\n"
      ]
    },
    {
      "cell_type": "code",
      "execution_count": 43,
      "metadata": {
        "id": "XFPKmdk7dZI-"
      },
      "outputs": [
        {
          "name": "stdout",
          "output_type": "stream",
          "text": [
            "[ 1  4  9 16]\n"
          ]
        }
      ],
      "source": [
        "arr = np.array([1, 2, 3, 4])\n",
        "# Your solution here\n",
        "squared = np.square(arr)\n",
        "print(squared)\n",
        "\n"
      ]
    },
    {
      "cell_type": "markdown",
      "metadata": {
        "id": "6hV8eUfJdZI_"
      },
      "source": [
        "### Exercise 16: Vectorized Function\n",
        "Use `np.vectorize()` to apply a function that checks if a number is even to each element of `arr = np.array([1, 2, 3, 4, 5])`.\n"
      ]
    },
    {
      "cell_type": "code",
      "execution_count": null,
      "metadata": {
        "id": "8w-k99u2dZI_"
      },
      "outputs": [
        {
          "name": "stdout",
          "output_type": "stream",
          "text": [
            "[False  True False  True False]\n"
          ]
        }
      ],
      "source": [
        "arr = np.array([1, 2, 3, 4, 5])\n",
        "# Your solution here\n",
        "is_even = np.vectorize(lambda x: x % 2 == 0)\n",
        "print(is_even(arr))\n",
        "\n"
      ]
    },
    {
      "cell_type": "markdown",
      "metadata": {
        "id": "58qAFwSTdZI_"
      },
      "source": [
        "### Exercise 17: Memory Optimization\n",
        "Create two arrays of 1000 integers: one using `np.int8` and one using `np.int64`. Compare their memory usage with `nbytes`.\n"
      ]
    },
    {
      "cell_type": "code",
      "execution_count": 47,
      "metadata": {
        "id": "d-BHZ9KYdZI_"
      },
      "outputs": [
        {
          "name": "stdout",
          "output_type": "stream",
          "text": [
            "Memory usage of int8 array: 1000 bytes\n",
            "Memory usage of int64 array: 8000 bytes\n"
          ]
        }
      ],
      "source": [
        "# Your solution here\n",
        "arr_int8 = np.arange(1000, dtype=np.int8)\n",
        "arr_int64 = np.arange(1000, dtype=np.int64)\n",
        "print(f\"Memory usage of int8 array: {arr_int8.nbytes} bytes\")\n",
        "print(f\"Memory usage of int64 array: {arr_int64.nbytes} bytes\")\n"
      ]
    },
    {
      "cell_type": "markdown",
      "metadata": {
        "id": "X8GKdzSddZI_"
      },
      "source": [
        "### Exercise 18: String Encoding/Decoding\n",
        "Create an array of strings `[\"hello\", \"world\"]`, encode them to bytes, and then decode them back to strings.\n"
      ]
    },
    {
      "cell_type": "code",
      "execution_count": null,
      "metadata": {
        "id": "PWMBonpmdZI_"
      },
      "outputs": [
        {
          "name": "stdout",
          "output_type": "stream",
          "text": [
            "[b'hello' b'world']\n",
            "['hello' 'world']\n"
          ]
        }
      ],
      "source": [
        "\n",
        "arr = np.array([\"hello\", \"world\"])\n",
        "# Your solution here\n",
        "encoded = arr.astype('S')\n",
        "decoded = encoded.astype(str)\n",
        "print(encoded)\n",
        "print(decoded)\n"
      ]
    },
    {
      "cell_type": "markdown",
      "metadata": {
        "id": "pDfnlwe7dZJA"
      },
      "source": [
        "### Exercise 19: Integer Array Indexing\n",
        "Use integer array indexing to select elements at positions [1, 3, 4] from `arr = np.array([10, 20, 30, 40, 50])`.\n"
      ]
    },
    {
      "cell_type": "code",
      "execution_count": 51,
      "metadata": {
        "id": "v01xrxgLdZJF"
      },
      "outputs": [
        {
          "name": "stdout",
          "output_type": "stream",
          "text": [
            "[20 40 50]\n"
          ]
        }
      ],
      "source": [
        "arr = np.array([10, 20, 30, 40, 50])\n",
        "# Your solution here\n",
        "indices = np.array([1, 3, 4])\n",
        "selected_elements = arr[indices]\n",
        "print(selected_elements)\n"
      ]
    },
    {
      "cell_type": "markdown",
      "metadata": {
        "id": "Zdz0LZ0zdZJG"
      },
      "source": [
        "### Exercise 20: Mean Squared Error\n",
        "Calculate the mean squared error (MSE) between `predictions = np.array([1.1, 2.0, 3.2])` and `labels = np.array([1.0, 2.0, 3.0])`.\n",
        "\n",
        "$$\n",
        "\\text{mse} = \\frac{1}{n} \\sum_{i=1}^{n} (y_i - \\hat{y_i})^2\n",
        "$$\n",
        "where:\n",
        "\n",
        "$n$: is the number of sample\n",
        "\n",
        "$y_i$: are the acutal values and\n",
        "\n",
        "$\\hat{y_i}$: are the predicted values\n"
      ]
    },
    {
      "cell_type": "code",
      "execution_count": 53,
      "metadata": {
        "id": "QtbkvqnydZJG"
      },
      "outputs": [
        {
          "name": "stdout",
          "output_type": "stream",
          "text": [
            "0.016666666666666694\n"
          ]
        }
      ],
      "source": [
        "predictions = np.array([1.1, 2.0, 3.2])\n",
        "labels = np.array([1.0, 2.0, 3.0])\n",
        "# Your solution here\n",
        "mse = np.mean((predictions - labels) ** 2)\n",
        "print(mse)\n"
      ]
    }
  ],
  "metadata": {
    "colab": {
      "provenance": []
    },
    "kernelspec": {
      "display_name": "base",
      "language": "python",
      "name": "python3"
    },
    "language_info": {
      "codemirror_mode": {
        "name": "ipython",
        "version": 3
      },
      "file_extension": ".py",
      "mimetype": "text/x-python",
      "name": "python",
      "nbconvert_exporter": "python",
      "pygments_lexer": "ipython3",
      "version": "3.12.7"
    }
  },
  "nbformat": 4,
  "nbformat_minor": 0
}
