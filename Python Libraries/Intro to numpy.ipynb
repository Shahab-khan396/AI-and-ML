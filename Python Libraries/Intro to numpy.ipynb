{
 "cells": [
  {
   "cell_type": "markdown",
   "metadata": {},
   "source": [
    "# NumPy\n",
    "\n",
    "This notebook provides a comprehensive introduction to NumPy, a powerful library for numerical computing in Python. It includes detailed explanations, code examples, tables, and exercises to help you master NumPy's core features."
   ]
  },
  {
   "cell_type": "markdown",
   "metadata": {},
   "source": [
    "## Introduction to NumPy\n",
    "\n",
    "### What is NumPy?\n",
    "NumPy (Numerical Python) is a core library for scientific computing in Python. It provides support for multi-dimensional arrays and matrices, along with efficient mathematical functions to operate on them.\n",
    "\n",
    "### Why Use NumPy?\n",
    "- **Performance**: Operations on NumPy arrays are faster than Python lists due to optimized C implementations.\n",
    "- **Convenience**: Built-in functions simplify array manipulation and computation.\n",
    "- **Functionality**: Supports advanced operations on multi-dimensional data.\n",
    "\n",
    "### Installation and Import\n",
    "NumPy is typically pre-installed in environments like Anaconda. If not, install it with:\n",
    "\n",
    "```bash\n",
    "pip install numpy\n",
    "```\n",
    "\n",
    "Import it in Python:"
   ]
  },
  {
   "cell_type": "markdown",
   "metadata": {},
   "source": [
    "\n",
    "## What is an “Array”?\n",
    "\n",
    "In computer programming, an **array** is a fundamental data structure designed for storing and retrieving data in an organized way. You can think of an array as a grid in space, where each cell holds a single piece of data, called an element. The structure of an array can vary depending on its number of dimensions, and this concept is central to how arrays are used in libraries like NumPy.\n",
    "\n",
    "### Visualizing Arrays by Dimension\n",
    "\n",
    "- **One-dimensional (1D) array**: Imagine a simple list of numbers. It’s like a single row of cells, where each cell contains one value. For example:\n",
    "\n",
    "  | 0 | 1 | 2 | 3 | 4 |\n",
    "  |---|---|---|---|---|\n",
    "  | 1 | 2 | 3 | 4 | 5 |\n",
    "\n",
    "  Here, the numbers 1 through 5 are stored in a straight line, accessible by their position (index).\n",
    "\n",
    "- **Two-dimensional (2D) array**: This is like a table with rows and columns. Each cell is identified by its row and column position. For example:\n",
    "\n",
    "  |   | 0 | 1 | 2 |\n",
    "  |---|---|---|---|\n",
    "  | 0 | 1 | 2 | 3 |\n",
    "  | 1 | 4 | 5 | 6 |\n",
    "  | 2 | 7 | 8 | 9 |\n",
    "\n",
    "  This could represent a grid of values, such as a small spreadsheet or a matrix.\n",
    "\n",
    "- **Three-dimensional (3D) array**: Picture a stack of tables, like pages in a book. Each \"page\" is a 2D array, and the third dimension adds depth. For instance, you might have multiple 2D tables stacked together, where each table is identified by its position in the stack.\n",
    "\n",
    "In **NumPy**, this concept is taken further with the `ndarray` class, which stands for \"N-dimensional array.\" NumPy generalizes arrays to any number of dimensions, making it possible to work with data in 1D, 2D, 3D, or even higher dimensions, depending on your needs.\n",
    "\n",
    "### Characteristics of NumPy Arrays\n",
    "\n",
    "NumPy arrays come with specific rules that distinguish them from more flexible data structures (like Python lists). These restrictions enable NumPy to optimize performance:\n",
    "\n",
    "- **Uniform data type**: All elements in a NumPy array must be of the same data type (e.g., all integers or all floats). This consistency allows for efficient memory use and faster computations.\n",
    "- **Fixed size**: Once a NumPy array is created, its total size cannot change. You can reshape it, but you can’t add or remove elements without creating a new array.\n",
    "- **Rectangular shape**: The array must maintain a regular, grid-like structure. For example, in a 2D array, every row must have the same number of columns—no \"jagged\" or uneven shapes are allowed.\n",
    "\n",
    "When these conditions are met, NumPy takes advantage of them to make arrays **faster**, **more memory-efficient**, and **more convenient** than less restrictive alternatives like Python lists. This is why NumPy is a cornerstone for numerical computing in Python.\n"
   ]
  },
  {
   "cell_type": "code",
   "execution_count": null,
   "metadata": {},
   "outputs": [],
   "source": [
    "import numpy as np"
   ]
  },
  {
   "cell_type": "markdown",
   "metadata": {},
   "source": [
    "\n",
    "### Memory Usage: Python List vs. NumPy Array\n",
    "\n",
    "Python lists and NumPy arrays store data differently, leading to variations in memory efficiency. A Python list is a dynamic, flexible structure that stores references to objects (e.g., integers), each with additional overhead. A NumPy array, by contrast, is a contiguous block of memory with a uniform data type, reducing overhead and optimizing storage.\n",
    "\n",
    "Let’s compare the memory usage with practical examples.\n",
    "\n",
    "#### Example 1: Small Array/List with Integers\n",
    "We’ll create a small list and a NumPy array with the same integers and measure their memory usage.\n",
    "\n"
   ]
  },
  {
   "cell_type": "code",
   "execution_count": 38,
   "metadata": {},
   "outputs": [],
   "source": [
    "import sys\n",
    "import numpy as np\n",
    "\n",
    "# Create a Python list and a NumPy array with the same data\n",
    "py_list = [1, 2, 3, 4, 5]\n",
    "np_array = np.array([1, 2, 3, 4, 5])\n",
    "\n"
   ]
  },
  {
   "cell_type": "code",
   "execution_count": 40,
   "metadata": {},
   "outputs": [
    {
     "name": "stdout",
     "output_type": "stream",
     "text": [
      "Python list: [1, 2, 3, 4, 5]\n",
      "Numpy array [1 2 3 4 5]\n"
     ]
    }
   ],
   "source": [
    "print(\"Python list:\", py_list)\n",
    "print(\"Numpy array\", np_array)"
   ]
  },
  {
   "cell_type": "code",
   "execution_count": 42,
   "metadata": {},
   "outputs": [
    {
     "name": "stdout",
     "output_type": "stream",
     "text": [
      "Python list memory usage: 244 bytes\n",
      "NumPy array memory usage: 192 bytes\n",
      "Difference (List - Array): 52 bytes\n"
     ]
    }
   ],
   "source": [
    "# Memory usage of Python list\n",
    "# sys.getsizeof() gives the size of the list object itself\n",
    "# Each element is a reference to an integer object, so we add the size of one integer object\n",
    "list_size = sys.getsizeof(py_list) + sum(sys.getsizeof(i) for i in py_list)\n",
    "\n",
    "# Memory usage of NumPy array\n",
    "# np_array.nbytes gives the size of the data buffer\n",
    "# sys.getsizeof(np_array) includes the array object overhead\n",
    "array_size = sys.getsizeof(np_array) + np_array.nbytes\n",
    "\n",
    "print(\"Python list memory usage:\", list_size, \"bytes\")\n",
    "print(\"NumPy array memory usage:\", array_size, \"bytes\")\n",
    "print(\"Difference (List - Array):\", list_size - array_size, \"bytes\")"
   ]
  },
  {
   "cell_type": "markdown",
   "metadata": {},
   "source": [
    "\n",
    "**Sample Output** (actual numbers may vary slightly by system):\n",
    "```\n",
    "Python list memory usage: 164 bytes\n",
    "NumPy array memory usage: 144 bytes\n",
    "Difference (List - Array): 20 bytes\n",
    "```\n",
    "\n",
    "**Explanation**:\n",
    "- **Python list**: The `sys.getsizeof(py_list)` gives the size of the list object (e.g., 56 bytes for an empty list + 8 bytes per pointer on a 64-bit system). Each integer is a separate Python object, typically 28 bytes each (on a 64-bit system), leading to significant overhead (5 * 28 = 140 bytes for the integers + 24 bytes for the list structure).\n",
    "- **NumPy array**: The `nbytes` attribute reports the size of the data buffer (5 elements * 8 bytes per `int64` = 40 bytes). The array object itself has some overhead (e.g., 104 bytes), but the data is stored contiguously without per-element object overhead.\n",
    "\n",
    "---\n",
    "\n"
   ]
  },
  {
   "cell_type": "markdown",
   "metadata": {},
   "source": [
    "#### Example 2: Larger Array/List with Integers\n",
    "Now, let’s scale up to 1000 elements to see the difference more clearly."
   ]
  },
  {
   "cell_type": "code",
   "execution_count": 44,
   "metadata": {},
   "outputs": [
    {
     "name": "stdout",
     "output_type": "stream",
     "text": [
      "Python list memory usage: 36056 bytes\n",
      "NumPy array memory usage: 16112 bytes\n",
      "Difference (List - Array): 19944 bytes\n"
     ]
    }
   ],
   "source": [
    "import sys\n",
    "import numpy as np\n",
    "\n",
    "# Create a larger Python list and NumPy array\n",
    "py_list = list(range(1000))\n",
    "np_array = np.arange(1000)\n",
    "\n",
    "# Memory usage of Python list\n",
    "list_size = sys.getsizeof(py_list) + sum(sys.getsizeof(i) for i in py_list)\n",
    "\n",
    "# Memory usage of NumPy array\n",
    "array_size = sys.getsizeof(np_array) + np_array.nbytes\n",
    "\n",
    "print(\"Python list memory usage:\", list_size, \"bytes\")\n",
    "print(\"NumPy array memory usage:\", array_size, \"bytes\")\n",
    "print(\"Difference (List - Array):\", list_size - array_size, \"bytes\")"
   ]
  },
  {
   "cell_type": "markdown",
   "metadata": {},
   "source": [
    "**Sample Output**:\n",
    "```\n",
    "Python list memory usage: 28856 bytes\n",
    "NumPy array memory usage: 8104 bytes\n",
    "Difference (List - Array): 20752 bytes\n",
    "```\n",
    "\n",
    "**Explanation**:\n",
    "- **Python list**: The list object itself grows slightly (e.g., 8 bytes per pointer, so 1000 * 8 = 8000 bytes for pointers + 56 bytes base size), and each integer object adds 28 bytes (1000 * 28 = 28000 bytes). Total ≈ 28,856 bytes.\n",
    "- **NumPy array**: The data buffer is 1000 * 8 bytes (`int64`) = 8000 bytes, plus ~104 bytes of overhead for the array object. Total ≈ 8104 bytes.\n",
    "- **Difference**: The Python list uses over 3.5 times more memory due to per-element overhead.\n",
    "\n",
    "---"
   ]
  },
  {
   "cell_type": "markdown",
   "metadata": {},
   "source": [
    "#### Example 3: Specifying NumPy Data Type\n",
    "NumPy allows control over data types, which can further reduce memory usage. Let’s use a smaller data type (`int8` vs. `int64`)."
   ]
  },
  {
   "cell_type": "code",
   "execution_count": null,
   "metadata": {},
   "outputs": [],
   "source": [
    "import sys\n",
    "import numpy as np\n",
    "\n",
    "# Create a Python list and NumPy arrays with different data types\n",
    "py_list = list(range(100))\n",
    "np_array_int64 = np.arange(100, dtype=np.int64)  # 8 bytes per element\n",
    "np_array_int8 = np.arange(100, dtype=np.int8)    # 1 byte per element\n",
    "\n",
    "# Memory usage\n",
    "list_size = sys.getsizeof(py_list) + sum(sys.getsizeof(i) for i in py_list)\n",
    "array_int64_size = sys.getsizeof(np_array_int64) + np_array_int64.nbytes\n",
    "array_int8_size = sys.getsizeof(np_array_int8) + np_array_int8.nbytes\n",
    "\n",
    "print(\"Python list memory usage:\", list_size, \"bytes\")\n",
    "print(\"NumPy array (int64) memory usage:\", array_int64_size, \"bytes\")\n",
    "print(\"NumPy array (int8) memory usage:\", array_int8_size, \"bytes\")\n"
   ]
  },
  {
   "cell_type": "markdown",
   "metadata": {},
   "source": [
    "**Sample Output**:\n",
    "```\n",
    "Python list memory usage: 2952 bytes\n",
    "NumPy array (int64) memory usage: 904 bytes\n",
    "NumPy array (int8) memory usage: 204 bytes\n",
    "```\n",
    "\n",
    "**Explanation**:\n",
    "- **Python list**: 100 integers * 28 bytes each + 856 bytes for the list structure ≈ 2952 bytes.\n",
    "- **NumPy `int64`**: 100 * 8 bytes = 800 bytes + 104 bytes overhead ≈ 904 bytes.\n",
    "- **NumPy `int8`**: 100 * 1 byte = 100 bytes + 104 bytes overhead ≈ 204 bytes.\n",
    "- **Insight**: By choosing `int8` (1 byte per element) over `int64` (8 bytes), NumPy can drastically reduce memory usage when the data range fits (e.g., 0–255 for `int8`).\n",
    "\n",
    "---\n"
   ]
  },
  {
   "cell_type": "markdown",
   "metadata": {},
   "source": [
    "### Time Efficiency: Python List vs. NumPy Array\n",
    "\n",
    "NumPy arrays are designed for numerical computations and leverage compiled C code under the hood, avoiding Python’s interpreter overhead. This makes operations on NumPy arrays significantly faster than equivalent operations on Python lists, especially for large datasets. Let’s explore this with practical examples.\n",
    "\n",
    "#### Example 1: Element-wise Addition\n",
    "We’ll add a constant value to each element in a Python list and a NumPy array, comparing execution times."
   ]
  },
  {
   "cell_type": "code",
   "execution_count": 1,
   "metadata": {},
   "outputs": [
    {
     "name": "stdout",
     "output_type": "stream",
     "text": [
      "Python list time: 0.078729 seconds\n",
      "NumPy array time: 0.002028 seconds\n",
      "Speedup (List / Array): 38.82x\n"
     ]
    }
   ],
   "source": [
    "import time\n",
    "import numpy as np\n",
    "\n",
    "# Size of the dataset\n",
    "n = 1000000\n",
    "\n",
    "# Create a Python list and a NumPy array\n",
    "py_list = list(range(n))\n",
    "np_array = np.arange(n)\n",
    "\n",
    "# Time Python list addition\n",
    "start_time = time.time()\n",
    "py_list_result = [x + 5 for x in py_list]\n",
    "py_list_time = time.time() - start_time\n",
    "\n",
    "# Time NumPy array addition\n",
    "start_time = time.time()\n",
    "np_array_result = np_array + 5\n",
    "np_array_time = time.time() - start_time\n",
    "\n",
    "print(f\"Python list time: {py_list_time:.6f} seconds\")\n",
    "print(f\"NumPy array time: {np_array_time:.6f} seconds\")\n",
    "print(f\"Speedup (List / Array): {py_list_time / np_array_time:.2f}x\")"
   ]
  },
  {
   "cell_type": "markdown",
   "metadata": {},
   "source": [
    "**Sample Output** (times may vary by system):\n",
    "```\n",
    "Python list time: 0.085214 seconds\n",
    "NumPy array time: 0.002013 seconds\n",
    "Speedup (List / Array): 42.33x\n",
    "```\n",
    "\n",
    "**Explanation**:\n",
    "- **Python list**: Uses a list comprehension, which involves a Python loop executed by the interpreter. Each addition requires object creation and memory management, adding overhead.\n",
    "- **NumPy array**: Uses vectorized addition, where the operation is applied to all elements simultaneously in compiled C code. This eliminates per-element Python overhead, resulting in a massive speedup.\n",
    "\n",
    "---\n"
   ]
  },
  {
   "cell_type": "markdown",
   "metadata": {},
   "source": [
    "#### Example 2: Summing Elements\n",
    "We’ll compute the sum of all elements in a large dataset using Python’s `sum()` and NumPy’s `np.sum()`.\n",
    "\n",
    "```python\n",
    "import time\n",
    "import numpy as np\n",
    "\n",
    "# Size of the dataset\n",
    "n = 1000000\n",
    "\n",
    "# Create a Python list and a NumPy array\n",
    "py_list = list(range(n))\n",
    "np_array = np.arange(n)\n",
    "\n",
    "# Time Python list sum\n",
    "start_time = time.time()\n",
    "py_list_sum = sum(py_list)\n",
    "py_list_time = time.time() - start_time\n",
    "\n",
    "# Time NumPy array sum\n",
    "start_time = time.time()\n",
    "np_array_sum = np.sum(np_array)\n",
    "np_array_time = time.time() - start_time\n",
    "\n",
    "print(f\"Python list sum time: {py_list_time:.6f} seconds\")\n",
    "print(f\"NumPy array sum time: {np_array_time:.6f} seconds\")\n",
    "print(f\"Speedup (List / Array): {py_list_time / np_array_time:.2f}x\")\n",
    "```\n",
    "\n",
    "**Sample Output**:\n",
    "```\n",
    "Python list sum time: 0.018943 seconds\n",
    "NumPy array sum time: 0.001002 seconds\n",
    "Speedup (List / Array): 18.90x\n",
    "```\n",
    "\n",
    "**Explanation**:\n",
    "- **Python list**: The `sum()` function iterates over the list in Python, performing additions one by one with interpreter overhead.\n",
    "- **NumPy array**: `np.sum()` uses optimized C loops and SIMD (Single Instruction, Multiple Data) instructions when available, processing multiple elements in parallel. This results in a significant time reduction.\n",
    "\n",
    "---\n"
   ]
  },
  {
   "cell_type": "markdown",
   "metadata": {},
   "source": [
    "#### Example 3: Element-wise Multiplication (Large Dataset)\n",
    "Let’s multiply two large arrays/lists element-wise.\n",
    "\n",
    "```python\n",
    "import time\n",
    "import numpy as np\n",
    "\n",
    "# Size of the dataset\n",
    "n = 1000000\n",
    "\n",
    "# Create two Python lists and two NumPy arrays\n",
    "py_list1 = list(range(n))\n",
    "py_list2 = list(range(n))\n",
    "np_array1 = np.arange(n)\n",
    "np_array2 = np.arange(n)\n",
    "\n",
    "# Time Python list multiplication\n",
    "start_time = time.time()\n",
    "py_list_result = [a * b for a, b in zip(py_list1, py_list2)]\n",
    "py_list_time = time.time() - start_time\n",
    "\n",
    "# Time NumPy array multiplication\n",
    "start_time = time.time()\n",
    "np_array_result = np_array1 * np_array2\n",
    "np_array_time = time.time() - start_time\n",
    "\n",
    "print(f\"Python list multiplication time: {py_list_time:.6f} seconds\")\n",
    "print(f\"NumPy array multiplication time: {np_array_time:.6f} seconds\")\n",
    "print(f\"Speedup (List / Array): {py_list_time / np_array_time:.2f}x\")\n",
    "```\n",
    "\n",
    "**Sample Output**:\n",
    "```\n",
    "Python list multiplication time: 0.135421 seconds\n",
    "NumPy array multiplication time: 0.002998 seconds\n",
    "Speedup (List / Array): 45.17x\n",
    "```\n",
    "\n",
    "**Explanation**:\n",
    "- **Python list**: The `zip()` and list comprehension create a new list by iterating over pairs of elements, with Python’s interpreter handling each multiplication individually.\n",
    "- **NumPy array**: The `*` operator is vectorized, applying multiplication across all elements in a single, optimized operation. This avoids Python’s loop overhead and leverages low-level optimizations.\n",
    "\n",
    "---\n",
    "\n",
    "#### Example 4: Looping vs. Vectorization\n",
    "Let’s compare explicit looping (common in traditional programming) with NumPy’s vectorized approach for squaring elements.\n",
    "\n",
    "```python\n",
    "import time\n",
    "import numpy as np\n",
    "\n",
    "# Size of the dataset\n",
    "n = 1000000\n",
    "\n",
    "# Create a Python list and a NumPy array\n",
    "py_list = list(range(n))\n",
    "np_array = np.arange(n)\n",
    "\n",
    "# Time Python list with explicit loop\n",
    "start_time = time.time()\n",
    "py_list_result = []\n",
    "for x in py_list:\n",
    "    py_list_result.append(x * x)\n",
    "py_list_time = time.time() - start_time\n",
    "\n",
    "# Time NumPy array with vectorization\n",
    "start_time = time.time()\n",
    "np_array_result = np_array ** 2\n",
    "np_array_time = time.time() - start_time\n",
    "\n",
    "print(f\"Python list loop time: {py_list_time:.6f} seconds\")\n",
    "print(f\"NumPy array vectorized time: {np_array_time:.6f} seconds\")\n",
    "print(f\"Speedup (List / Array): {py_list_time / np_array_time:.2f}x\")\n",
    "```\n",
    "\n",
    "**Sample Output**:\n",
    "```\n",
    "Python list loop time: 0.189432 seconds\n",
    "NumPy array vectorized time: 0.002503 seconds\n",
    "Speedup (List / Array): 75.68x\n",
    "```\n",
    "\n",
    "**Explanation**:\n",
    "- **Python list**: The explicit `for` loop iterates over each element, performing the squaring operation and appending to a new list. This involves repeated Python interpreter calls and list resizing overhead.\n",
    "- **NumPy array**: The `**` operator is applied to the entire array at once in a vectorized manner, executed in compiled C code. This is dramatically faster, especially as the dataset grows.\n",
    "\n",
    "---"
   ]
  },
  {
   "cell_type": "markdown",
   "metadata": {},
   "source": [
    "## Creating NumPy Arrays\n",
    "\n",
    "NumPy arrays can be created from Python lists, built-in functions, or random data. Below are examples and a table summarizing the methods.\n",
    "\n",
    "### 1. From Python Lists\n",
    "Convert lists to arrays using `np.array()`."
   ]
  },
  {
   "cell_type": "markdown",
   "metadata": {},
   "source": [
    "#### Example 1: 1D Array"
   ]
  },
  {
   "cell_type": "code",
   "execution_count": 48,
   "metadata": {},
   "outputs": [],
   "source": [
    "#pip install numpy\n",
    "\n",
    "import numpy as np"
   ]
  },
  {
   "cell_type": "code",
   "execution_count": 52,
   "metadata": {},
   "outputs": [
    {
     "name": "stdout",
     "output_type": "stream",
     "text": [
      "[10, 20, 30, 40]\n",
      "[10 20 30 40]\n"
     ]
    }
   ],
   "source": [
    "list_1d = [10, 20, 30, 40]\n",
    "array_1d = np.array(list_1d)\n",
    "print(list_1d)\n",
    "print(array_1d)"
   ]
  },
  {
   "cell_type": "code",
   "execution_count": 54,
   "metadata": {},
   "outputs": [
    {
     "name": "stdout",
     "output_type": "stream",
     "text": [
      "<class 'list'>\n",
      "<class 'numpy.ndarray'>\n"
     ]
    }
   ],
   "source": [
    "print(type(list_1d))\n",
    "print(type(array_1d))"
   ]
  },
  {
   "cell_type": "code",
   "execution_count": 58,
   "metadata": {},
   "outputs": [
    {
     "name": "stdout",
     "output_type": "stream",
     "text": [
      "[1 2 3 4 5]\n"
     ]
    }
   ],
   "source": [
    "my_tuple = (1, 2, 3, 4, 5)\n",
    "\n",
    "my_np_array = np.array(my_tuple)\n",
    "print(my_np_array)"
   ]
  },
  {
   "cell_type": "markdown",
   "metadata": {},
   "source": [
    "#### Example 2: 2D Array"
   ]
  },
  {
   "cell_type": "code",
   "execution_count": 62,
   "metadata": {},
   "outputs": [
    {
     "name": "stdout",
     "output_type": "stream",
     "text": [
      "[[1, 2, 3], [4, 5, 6]]\n",
      "[[1 2 3]\n",
      " [4 5 6]]\n"
     ]
    }
   ],
   "source": [
    "list_2d = [[1, 2, 3], [4, 5, 6]]\n",
    "array_2d = np.array(list_2d)\n",
    "print(list_2d)\n",
    "print(array_2d)"
   ]
  },
  {
   "cell_type": "markdown",
   "metadata": {},
   "source": [
    "#### Example 3: With Specific Data Type"
   ]
  },
  {
   "cell_type": "code",
   "execution_count": 70,
   "metadata": {},
   "outputs": [
    {
     "name": "stdout",
     "output_type": "stream",
     "text": [
      "[1.  2.4 3. ]\n"
     ]
    }
   ],
   "source": [
    "array_float = np.array([1, 2.4, 3], dtype=np.float32)\n",
    "print(array_float)"
   ]
  },
  {
   "cell_type": "markdown",
   "metadata": {},
   "source": [
    "### 2. Using Built-in Functions\n",
    "NumPy offers functions to create arrays with specific values or patterns.\n",
    "\n",
    "#### Table: Array Creation Functions\n",
    "| Function              | Description                            | Example Code                     | Output Example                |\n",
    "|-----------------------|----------------------------------------|----------------------------------|-------------------------------|\n",
    "| `np.zeros(shape)`     | Array of zeros                        | `np.zeros((2, 3))`              | `[[0. 0. 0.] [0. 0. 0.]]`    |\n",
    "| `np.ones(shape)`      | Array of ones                         | `np.ones(4)`                    | `[1. 1. 1. 1.]`             |\n",
    "| `np.full(shape, value)` | Array filled with a value           | `np.full((2, 2), 9)`            | `[[9 9] [9 9]]`             |\n",
    "| `np.arange(start, stop, step)` | Evenly spaced values         | `np.arange(0, 10, 3)`           | `[0 3 6 9]`                 |\n",
    "| `np.linspace(start, stop, num)` | `num` evenly spaced values | `np.linspace(1, 5, 5)`          | `[1. 2. 3. 4. 5.]`          |\n",
    "| `np.eye(n)`           | Identity matrix (n x n)               | `np.eye(2)`                     | `[[1. 0.] [0. 1.]]`         |"
   ]
  },
  {
   "cell_type": "code",
   "execution_count": 78,
   "metadata": {},
   "outputs": [
    {
     "name": "stdout",
     "output_type": "stream",
     "text": [
      "[[0. 0. 0. 0. 0. 0. 0. 0. 0. 0.]\n",
      " [0. 0. 0. 0. 0. 0. 0. 0. 0. 0.]\n",
      " [0. 0. 0. 0. 0. 0. 0. 0. 0. 0.]]\n"
     ]
    }
   ],
   "source": [
    "zeros = np.zeros((3, 10))\n",
    "print(zeros)"
   ]
  },
  {
   "cell_type": "code",
   "execution_count": 98,
   "metadata": {},
   "outputs": [
    {
     "name": "stdout",
     "output_type": "stream",
     "text": [
      "[[1. 1.]\n",
      " [1. 1.]]\n"
     ]
    }
   ],
   "source": [
    "ones = np.ones((2,2))\n",
    "print(ones)"
   ]
  },
  {
   "cell_type": "markdown",
   "metadata": {},
   "source": [
    "#### Example 4: Using `np.full()`"
   ]
  },
  {
   "cell_type": "code",
   "execution_count": 106,
   "metadata": {},
   "outputs": [
    {
     "name": "stdout",
     "output_type": "stream",
     "text": [
      "[[11 11 11 11 11 11 11 11 11 11]\n",
      " [11 11 11 11 11 11 11 11 11 11]\n",
      " [11 11 11 11 11 11 11 11 11 11]\n",
      " [11 11 11 11 11 11 11 11 11 11]\n",
      " [11 11 11 11 11 11 11 11 11 11]\n",
      " [11 11 11 11 11 11 11 11 11 11]\n",
      " [11 11 11 11 11 11 11 11 11 11]\n",
      " [11 11 11 11 11 11 11 11 11 11]\n",
      " [11 11 11 11 11 11 11 11 11 11]\n",
      " [11 11 11 11 11 11 11 11 11 11]]\n"
     ]
    }
   ],
   "source": [
    "full_array = np.full((10, 10), 11)\n",
    "print(full_array)"
   ]
  },
  {
   "cell_type": "code",
   "execution_count": 114,
   "metadata": {},
   "outputs": [
    {
     "name": "stdout",
     "output_type": "stream",
     "text": [
      "[10 15 20]\n"
     ]
    }
   ],
   "source": [
    "my_arr = np.arange(10, 21, 5)\n",
    "print(my_arr)"
   ]
  },
  {
   "cell_type": "code",
   "execution_count": 118,
   "metadata": {},
   "outputs": [
    {
     "name": "stdout",
     "output_type": "stream",
     "text": [
      "[ 5.    8.75 12.5  16.25 20.  ]\n"
     ]
    }
   ],
   "source": [
    "lin_arr = np.linspace(5, 20, 5)\n",
    "print(lin_arr)"
   ]
  },
  {
   "cell_type": "code",
   "execution_count": 120,
   "metadata": {},
   "outputs": [
    {
     "name": "stdout",
     "output_type": "stream",
     "text": [
      "[[1. 0. 0. 0. 0.]\n",
      " [0. 1. 0. 0. 0.]\n",
      " [0. 0. 1. 0. 0.]\n",
      " [0. 0. 0. 1. 0.]\n",
      " [0. 0. 0. 0. 1.]]\n"
     ]
    }
   ],
   "source": [
    "# Identity matrix\n",
    "id_matrix = np.eye(5)\n",
    "print(id_matrix)"
   ]
  },
  {
   "cell_type": "markdown",
   "metadata": {},
   "source": [
    "#### Example 5: Using `np.linspace()`"
   ]
  },
  {
   "cell_type": "code",
   "execution_count": null,
   "metadata": {},
   "outputs": [],
   "source": [
    "linspace_array = np.linspace(0, 2, 6)\n",
    "print(linspace_array)"
   ]
  },
  {
   "cell_type": "markdown",
   "metadata": {},
   "source": [
    "### 3. Random Arrays\n",
    "Use `np.random` for arrays with random values.\n",
    "\n",
    "#### Table: Random Array Functions\n",
    "| Function                  | Description                          | Example Code                     | Output Example (varies)      |\n",
    "|---------------------------|--------------------------------------|----------------------------------|------------------------------|\n",
    "| `np.random.rand(shape)`   | Uniform [0, 1)                      | `np.random.rand(2, 2)`          | `[[0.45 0.78] [0.12 0.91]]` |\n",
    "| `np.random.randn(shape)`  | Standard normal (mean 0, std 1)     | `np.random.randn(3)`            | `[0.12 -1.5 0.89]`          |\n",
    "| `np.random.randint(low, high, size)` | Random integers          | `np.random.randint(1, 10, (2, 3))` | `[[3 7 2] [5 9 1]]`     |\n",
    "| `np.random.uniform(low, high, size)` | Uniform over [low, high) | `np.random.uniform(-2, 2, 4)`   | `[-1.5 0.3 1.8 -0.9]`       |"
   ]
  },
  {
   "cell_type": "markdown",
   "metadata": {},
   "source": [
    "#### Example 6: Random Integers"
   ]
  },
  {
   "cell_type": "code",
   "execution_count": null,
   "metadata": {},
   "outputs": [],
   "source": [
    "rand_int_array = np.random.randint(0, 100, (2, 4))\n",
    "print(rand_int_array)"
   ]
  },
  {
   "cell_type": "markdown",
   "metadata": {},
   "source": [
    "## Array Attributes and Methods\n",
    "\n",
    "NumPy arrays have attributes to inspect their properties and methods to manipulate them.\n",
    "\n",
    "### Table: Key Attributes\n",
    "| Attribute | Description                  | Example Output (for `[[1, 2], [3, 4]]`) |\n",
    "|-----------|------------------------------|------------------------------------------|\n",
    "| `shape`   | Dimensions of the array      | `(2, 2)`                                |\n",
    "| `dtype`   | Data type of elements        | `int64`                                 |\n",
    "| `size`    | Total number of elements     | `4`                                     |\n",
    "| `ndim`    | Number of dimensions         | `2`                                     |"
   ]
  },
  {
   "cell_type": "markdown",
   "metadata": {},
   "source": [
    "#### Example 7: Inspecting Attributes"
   ]
  },
  {
   "cell_type": "code",
   "execution_count": null,
   "metadata": {},
   "outputs": [],
   "source": [
    "arr = np.array([[1, 2, 3], [4, 5, 6]])\n",
    "print(\"Shape:\", arr.shape)\n",
    "print(\"Data type:\", arr.dtype)\n",
    "print(\"Size:\", arr.size)\n",
    "print(\"Dimensions:\", arr.ndim)"
   ]
  },
  {
   "cell_type": "markdown",
   "metadata": {},
   "source": [
    "### Table: Useful Methods\n",
    "| Method            | Description                          | Example Code                     | Output Example            |\n",
    "|-------------------|--------------------------------------|----------------------------------|---------------------------|\n",
    "| `reshape(new_shape)` | Reshape array               | `np.arange(6).reshape(2, 3)`    | `[[0 1 2] [3 4 5]]`      |\n",
    "| `max()`           | Maximum value                       | `np.array([1, 5, 3]).max()`     | `5`                       |\n",
    "| `min()`           | Minimum value                       | `np.array([1, 5, 3]).min()`     | `1`                       |\n",
    "| `np.where(condition)` | Indices where condition is true | `np.where(arr > 2)`          | `(array([1, 1, 1]), array([0, 1, 2]))` |\n",
    "| `np.unique()`     | Unique elements                     | `np.unique([1, 1, 2, 2, 3])`   | `[1 2 3]`                 |"
   ]
  },
  {
   "cell_type": "markdown",
   "metadata": {},
   "source": [
    "#### Example 8: Using `np.where()`"
   ]
  },
  {
   "cell_type": "code",
   "execution_count": null,
   "metadata": {},
   "outputs": [],
   "source": [
    "arr = np.array([1, 4, 2, 5, 3])\n",
    "indices = np.where(arr > 3)\n",
    "print(\"Indices:\", indices)\n",
    "print(\"Values:\", arr[indices])"
   ]
  },
  {
   "cell_type": "markdown",
   "metadata": {},
   "source": [
    "#### Example 9: Using `np.unique()`"
   ]
  },
  {
   "cell_type": "code",
   "execution_count": null,
   "metadata": {},
   "outputs": [],
   "source": [
    "arr = np.array([1, 2, 2, 3, 3, 3, 4])\n",
    "unique_vals = np.unique(arr)\n",
    "print(unique_vals)"
   ]
  },
  {
   "cell_type": "markdown",
   "metadata": {},
   "source": [
    "## Operations on Arrays\n",
    "\n",
    "NumPy supports various operations, from basic arithmetic to advanced manipulations.\n",
    "\n",
    "### Table: Basic Operations\n",
    "| Operation         | Description                          | Example Code                     | Output Example            |\n",
    "|-------------------|--------------------------------------|----------------------------------|---------------------------|\n",
    "| Addition          | Element-wise addition               | `np.array([1, 2]) + 3`          | `[4 5]`                   |\n",
    "| Subtraction       | Element-wise subtraction            | `np.array([5, 6]) - 2`          | `[3 4]`                   |\n",
    "| Multiplication    | Element-wise multiplication         | `np.array([2, 3]) * 2`          | `[4 6]`                   |\n",
    "| Division          | Element-wise division               | `np.array([4, 6]) / 2`          | `[2. 3.]`                 |\n",
    "| Power             | Element-wise exponentiation         | `np.array([2, 3]) ** 2`         | `[4 9]`                   |"
   ]
  },
  {
   "cell_type": "markdown",
   "metadata": {},
   "source": [
    "#### Example 10: Element-wise Operations"
   ]
  },
  {
   "cell_type": "code",
   "execution_count": null,
   "metadata": {},
   "outputs": [],
   "source": [
    "arr = np.array([1, 2, 3, 4])\n",
    "print(\"Add 5:\", arr + 5)\n",
    "print(\"Multiply by 3:\", arr * 3)\n",
    "print(\"Square:\", arr ** 2)"
   ]
  },
  {
   "cell_type": "markdown",
   "metadata": {},
   "source": [
    "### 1. Copying Arrays\n",
    "Use `copy()` to avoid modifying the original array."
   ]
  },
  {
   "cell_type": "markdown",
   "metadata": {},
   "source": [
    "#### Example 11"
   ]
  },
  {
   "cell_type": "code",
   "execution_count": null,
   "metadata": {},
   "outputs": [],
   "source": [
    "arr = np.array([1, 2, 3])\n",
    "arr_copy = arr.copy()\n",
    "arr_copy[0] = 99\n",
    "print(\"Original:\", arr)\n",
    "print(\"Copy:\", arr_copy)"
   ]
  },
  {
   "cell_type": "markdown",
   "metadata": {},
   "source": [
    "### 2. Concatenation\n",
    "Combine arrays with `np.concatenate()`."
   ]
  },
  {
   "cell_type": "markdown",
   "metadata": {},
   "source": [
    "#### Example 12: 2D Concatenation"
   ]
  },
  {
   "cell_type": "code",
   "execution_count": null,
   "metadata": {},
   "outputs": [],
   "source": [
    "arr1 = np.array([[1, 2], [3, 4]])\n",
    "arr2 = np.array([[5, 6]])\n",
    "combined = np.concatenate((arr1, arr2), axis=0)\n",
    "print(combined)"
   ]
  },
  {
   "cell_type": "markdown",
   "metadata": {},
   "source": [
    "### 3. Splitting\n",
    "Split arrays with `np.split()`."
   ]
  },
  {
   "cell_type": "markdown",
   "metadata": {},
   "source": [
    "#### Example 13"
   ]
  },
  {
   "cell_type": "code",
   "execution_count": null,
   "metadata": {},
   "outputs": [],
   "source": [
    "arr = np.array([1, 2, 3, 4, 5, 6])\n",
    "split_arr = np.split(arr, 2)\n",
    "print(split_arr)"
   ]
  },
  {
   "cell_type": "markdown",
   "metadata": {},
   "source": [
    "## Indexing and Slicing"
   ]
  },
  {
   "cell_type": "markdown",
   "metadata": {},
   "source": [
    "### Basic Slicing"
   ]
  },
  {
   "cell_type": "markdown",
   "metadata": {},
   "source": [
    "#### Example 14"
   ]
  },
  {
   "cell_type": "code",
   "execution_count": null,
   "metadata": {},
   "outputs": [],
   "source": [
    "arr = np.arange(10)\n",
    "print(\"Slice [2:6]:\", arr[2:6])\n",
    "print(\"Every other element:\", arr[::2])"
   ]
  },
  {
   "cell_type": "markdown",
   "metadata": {},
   "source": [
    "### Advanced Indexing"
   ]
  },
  {
   "cell_type": "markdown",
   "metadata": {},
   "source": [
    "#### Example 15: Boolean Indexing"
   ]
  },
  {
   "cell_type": "code",
   "execution_count": null,
   "metadata": {},
   "outputs": [],
   "source": [
    "arr = np.array([10, 20, 15, 30, 25])\n",
    "print(\"Values > 20:\", arr[arr > 20])"
   ]
  },
  {
   "cell_type": "markdown",
   "metadata": {},
   "source": [
    "#### Example 16: Multi-dimensional"
   ]
  },
  {
   "cell_type": "code",
   "execution_count": null,
   "metadata": {},
   "outputs": [],
   "source": [
    "arr_2d = np.array([[1, 2, 3], [4, 5, 6]])\n",
    "print(\"Row 1, Col 2:\", arr_2d[1, 2])"
   ]
  },
  {
   "cell_type": "markdown",
   "metadata": {},
   "source": [
    "## Broadcasting\n",
    "\n",
    "Broadcasting enables operations on arrays of different shapes."
   ]
  },
  {
   "cell_type": "markdown",
   "metadata": {},
   "source": [
    "#### Example 17: Scalar Broadcasting"
   ]
  },
  {
   "cell_type": "code",
   "execution_count": null,
   "metadata": {},
   "outputs": [],
   "source": [
    "arr = np.array([[1, 2], [3, 4]])\n",
    "result = arr * 10\n",
    "print(result)"
   ]
  },
  {
   "cell_type": "markdown",
   "metadata": {},
   "source": [
    "#### Example 18: Array Broadcasting"
   ]
  },
  {
   "cell_type": "code",
   "execution_count": 124,
   "metadata": {},
   "outputs": [
    {
     "name": "stdout",
     "output_type": "stream",
     "text": [
      "[[2 2 2]\n",
      " [5 5 5]]\n"
     ]
    }
   ],
   "source": [
    "matrix = np.array([[1, 2, 3], [4, 5, 6]])\n",
    "vector = np.array([1, 0, -1])\n",
    "result = matrix + vector\n",
    "print(result)"
   ]
  },
  {
   "cell_type": "markdown",
   "metadata": {},
   "source": [
    "## Exercises\n",
    "\n",
    "### Exercise 1: Array Creation\n",
    "1. Create a 4x4 array filled with the value 7.\n",
    "2. Generate an array of 10 random integers between 50 and 100.\n",
    "\n",
    "### Exercise 2: Operations\n",
    "1. Create two 3x3 arrays and compute their element-wise product.\n",
    "2. Use `np.where()` to replace values less than 10 with 0 in an array.\n",
    "\n",
    "### Exercise 3: Real-world Example\n",
    "1. Simulate a temperature dataset (1D array of 7 days) with random values between 20 and 35. Calculate the average temperature."
   ]
  },
  {
   "cell_type": "markdown",
   "metadata": {},
   "source": [
    "# Exercise 1"
   ]
  },
  {
   "cell_type": "code",
   "execution_count": 3,
   "metadata": {},
   "outputs": [
    {
     "data": {
      "text/plain": [
       "array([[7, 7, 7],\n",
       "       [7, 7, 7],\n",
       "       [7, 7, 7]])"
      ]
     },
     "execution_count": 3,
     "metadata": {},
     "output_type": "execute_result"
    }
   ],
   "source": [
    "arr=np.full((3,3),7)\n",
    "arr"
   ]
  },
  {
   "cell_type": "code",
   "execution_count": 6,
   "metadata": {},
   "outputs": [
    {
     "data": {
      "text/plain": [
       "array([50, 51, 52, 53, 54, 55, 56, 57, 58, 59, 60, 61, 62, 63, 64, 65, 66,\n",
       "       67, 68, 69, 70, 71, 72, 73, 74, 75, 76, 77, 78, 79, 80, 81, 82, 83,\n",
       "       84, 85, 86, 87, 88, 89, 90, 91, 92, 93, 94, 95, 96, 97, 98, 99])"
      ]
     },
     "execution_count": 6,
     "metadata": {},
     "output_type": "execute_result"
    }
   ],
   "source": [
    "arr1=np.arange(50,100)\n",
    "arr1"
   ]
  },
  {
   "cell_type": "markdown",
   "metadata": {},
   "source": [
    "# Exercise 2\n"
   ]
  },
  {
   "cell_type": "code",
   "execution_count": 8,
   "metadata": {},
   "outputs": [
    {
     "name": "stdout",
     "output_type": "stream",
     "text": [
      "\n",
      "Array 1:\n",
      " [[8 3 7]\n",
      " [4 9 4]\n",
      " [2 7 6]]\n",
      "Array 2:\n",
      " [[6 7 5]\n",
      " [1 6 6]\n",
      " [7 6 7]]\n",
      "Element-wise Product:\n",
      " [[48 21 35]\n",
      " [ 4 54 24]\n",
      " [14 42 42]]\n",
      "\n",
      "Original Array:\n",
      " [ 5 15  2 25 10  7]\n",
      "Modified Array (values < 10 replaced with 0):\n",
      " [ 0 15  0 25 10  0]\n"
     ]
    }
   ],
   "source": [
    "# 1. Create two 3x3 arrays and compute their element-wise product\n",
    "array1 = np.random.randint(1, 10, size=(3, 3))\n",
    "array2 = np.random.randint(1, 10, size=(3, 3))\n",
    "elementwise_product = array1 * array2\n",
    "\n",
    "print(\"\\nArray 1:\\n\", array1)\n",
    "print(\"Array 2:\\n\", array2)\n",
    "print(\"Element-wise Product:\\n\", elementwise_product)\n",
    "\n",
    "# 2. Use np.where() to replace values less than 10 with 0 in an array\n",
    "sample_array = np.array([5, 15, 2, 25, 10, 7])\n",
    "modified_array = np.where(sample_array < 10, 0, sample_array)\n",
    "print(\"\\nOriginal Array:\\n\", sample_array)\n",
    "print(\"Modified Array (values < 10 replaced with 0):\\n\", modified_array)\n"
   ]
  },
  {
   "cell_type": "markdown",
   "metadata": {},
   "source": [
    "# Exercise 3"
   ]
  },
  {
   "cell_type": "code",
   "execution_count": 9,
   "metadata": {},
   "outputs": [
    {
     "name": "stdout",
     "output_type": "stream",
     "text": [
      "\n",
      "Temperature readings for 7 days:\n",
      " [26.86976605 26.43928374 27.88238365 29.46412296 30.53320114 21.57323774\n",
      " 33.58421577]\n",
      "Average Temperature: 28.05 °C\n"
     ]
    }
   ],
   "source": [
    "# 1. Simulate temperature dataset for 7 days with values between 20 and 35\n",
    "temperatures = np.random.uniform(20, 35, size=7)\n",
    "average_temp = np.mean(temperatures)\n",
    "\n",
    "print(\"\\nTemperature readings for 7 days:\\n\", temperatures)\n",
    "print(\"Average Temperature:\", round(average_temp, 2), \"°C\")\n"
   ]
  },
  {
   "cell_type": "markdown",
   "metadata": {},
   "source": [
    "# Task \n"
   ]
  }
 ],
 "metadata": {
  "kernelspec": {
   "display_name": "base",
   "language": "python",
   "name": "python3"
  },
  "language_info": {
   "codemirror_mode": {
    "name": "ipython",
    "version": 3
   },
   "file_extension": ".py",
   "mimetype": "text/x-python",
   "name": "python",
   "nbconvert_exporter": "python",
   "pygments_lexer": "ipython3",
   "version": "3.12.7"
  }
 },
 "nbformat": 4,
 "nbformat_minor": 4
}
