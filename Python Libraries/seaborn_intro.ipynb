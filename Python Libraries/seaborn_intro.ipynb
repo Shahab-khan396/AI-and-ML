{
 "cells": [
  {
   "cell_type": "code",
   "execution_count": null,
   "metadata": {},
   "outputs": [],
   "source": [
    "import pandas as pd"
   ]
  },
  {
   "cell_type": "code",
   "execution_count": null,
   "metadata": {},
   "outputs": [],
   "source": [
    "df = pd.read_csv('/home/haseebkhan/Documents/NAVTTC AI & ML/Programs-pdf/Corporate_Employee_Records.csv')"
   ]
  },
  {
   "cell_type": "code",
   "execution_count": null,
   "metadata": {},
   "outputs": [
    {
     "name": "stdout",
     "output_type": "stream",
     "text": [
      "<class 'pandas.core.frame.DataFrame'>\n",
      "Index: 500 entries, 0 to 499\n",
      "Data columns (total 11 columns):\n",
      " #   Column      Non-Null Count  Dtype  \n",
      "---  ------      --------------  -----  \n",
      " 0   ID          500 non-null    int64  \n",
      " 1   Name        500 non-null    object \n",
      " 2   Age         480 non-null    float64\n",
      " 3   Salary      500 non-null    object \n",
      " 4   Department  500 non-null    object \n",
      " 5   Gender      500 non-null    object \n",
      " 6   JoinDate    500 non-null    object \n",
      " 7   Country     490 non-null    object \n",
      " 8   Rating      473 non-null    float64\n",
      " 9   Experience  495 non-null    float64\n",
      " 10  Feedback    500 non-null    object \n",
      "dtypes: float64(3), int64(1), object(7)\n",
      "memory usage: 46.9+ KB\n"
     ]
    },
    {
     "data": {
      "text/html": [
       "<div>\n",
       "<style scoped>\n",
       "    .dataframe tbody tr th:only-of-type {\n",
       "        vertical-align: middle;\n",
       "    }\n",
       "\n",
       "    .dataframe tbody tr th {\n",
       "        vertical-align: top;\n",
       "    }\n",
       "\n",
       "    .dataframe thead th {\n",
       "        text-align: right;\n",
       "    }\n",
       "</style>\n",
       "<table border=\"1\" class=\"dataframe\">\n",
       "  <thead>\n",
       "    <tr style=\"text-align: right;\">\n",
       "      <th></th>\n",
       "      <th>ID</th>\n",
       "      <th>Name</th>\n",
       "      <th>Age</th>\n",
       "      <th>Salary</th>\n",
       "      <th>Department</th>\n",
       "      <th>Gender</th>\n",
       "      <th>JoinDate</th>\n",
       "      <th>Country</th>\n",
       "      <th>Rating</th>\n",
       "      <th>Experience</th>\n",
       "      <th>Feedback</th>\n",
       "    </tr>\n",
       "  </thead>\n",
       "  <tbody>\n",
       "    <tr>\n",
       "      <th>0</th>\n",
       "      <td>1</td>\n",
       "      <td>Linda Smith</td>\n",
       "      <td>28.0</td>\n",
       "      <td>63886.9</td>\n",
       "      <td>Sales</td>\n",
       "      <td>Male</td>\n",
       "      <td>22/03/2024</td>\n",
       "      <td>UK</td>\n",
       "      <td>4.0</td>\n",
       "      <td>12.6</td>\n",
       "      <td>Satisfied</td>\n",
       "    </tr>\n",
       "    <tr>\n",
       "      <th>1</th>\n",
       "      <td>2</td>\n",
       "      <td>Sarah Jones</td>\n",
       "      <td>31.0</td>\n",
       "      <td>66040.56</td>\n",
       "      <td>Finance</td>\n",
       "      <td>Male</td>\n",
       "      <td>02/07/2016</td>\n",
       "      <td>UK</td>\n",
       "      <td>5.0</td>\n",
       "      <td>7.7</td>\n",
       "      <td>Unsatisfied</td>\n",
       "    </tr>\n",
       "    <tr>\n",
       "      <th>2</th>\n",
       "      <td>3</td>\n",
       "      <td>Sarah Martinez</td>\n",
       "      <td>28.0</td>\n",
       "      <td>44421.32</td>\n",
       "      <td>Finance</td>\n",
       "      <td>Female</td>\n",
       "      <td>07/09/2019</td>\n",
       "      <td>France</td>\n",
       "      <td>2.0</td>\n",
       "      <td>15.6</td>\n",
       "      <td>Neutral</td>\n",
       "    </tr>\n",
       "    <tr>\n",
       "      <th>3</th>\n",
       "      <td>4</td>\n",
       "      <td>Sarah Williams</td>\n",
       "      <td>32.0</td>\n",
       "      <td>40259.33</td>\n",
       "      <td>Marketing</td>\n",
       "      <td>Female</td>\n",
       "      <td>06/12/2015</td>\n",
       "      <td>France</td>\n",
       "      <td>2.0</td>\n",
       "      <td>8.8</td>\n",
       "      <td>Unsatisfied</td>\n",
       "    </tr>\n",
       "    <tr>\n",
       "      <th>4</th>\n",
       "      <td>5</td>\n",
       "      <td>Elizabeth Martinez</td>\n",
       "      <td>29.0</td>\n",
       "      <td>42762.7</td>\n",
       "      <td>HR</td>\n",
       "      <td>Male</td>\n",
       "      <td>13/12/2023</td>\n",
       "      <td>Canada</td>\n",
       "      <td>3.0</td>\n",
       "      <td>12.9</td>\n",
       "      <td>Satisfied</td>\n",
       "    </tr>\n",
       "    <tr>\n",
       "      <th>5</th>\n",
       "      <td>6</td>\n",
       "      <td>David Miller</td>\n",
       "      <td>27.0</td>\n",
       "      <td>$48647.57</td>\n",
       "      <td>Engineering</td>\n",
       "      <td>Male</td>\n",
       "      <td>21/01/2016</td>\n",
       "      <td>USA</td>\n",
       "      <td>4.0</td>\n",
       "      <td>10.1</td>\n",
       "      <td>Satisfied</td>\n",
       "    </tr>\n",
       "    <tr>\n",
       "      <th>6</th>\n",
       "      <td>7</td>\n",
       "      <td>John Johnson</td>\n",
       "      <td>46.0</td>\n",
       "      <td>48161.27</td>\n",
       "      <td>Finance</td>\n",
       "      <td>Male</td>\n",
       "      <td>2018-10-03</td>\n",
       "      <td>USA</td>\n",
       "      <td>4.0</td>\n",
       "      <td>7.0</td>\n",
       "      <td>Satisfied</td>\n",
       "    </tr>\n",
       "    <tr>\n",
       "      <th>7</th>\n",
       "      <td>8</td>\n",
       "      <td>Patricia Garcia</td>\n",
       "      <td>35.0</td>\n",
       "      <td>65532.84</td>\n",
       "      <td>Marketing</td>\n",
       "      <td>Male</td>\n",
       "      <td>30/05/2020</td>\n",
       "      <td>UK</td>\n",
       "      <td>5.0</td>\n",
       "      <td>2.4</td>\n",
       "      <td>Satisfied</td>\n",
       "    </tr>\n",
       "    <tr>\n",
       "      <th>8</th>\n",
       "      <td>9</td>\n",
       "      <td>Charles Johnson</td>\n",
       "      <td>45.0</td>\n",
       "      <td>59070.55</td>\n",
       "      <td>Marketing</td>\n",
       "      <td>Female</td>\n",
       "      <td>22/12/2022</td>\n",
       "      <td>Canada</td>\n",
       "      <td>3.0</td>\n",
       "      <td>3.4</td>\n",
       "      <td>Neutral</td>\n",
       "    </tr>\n",
       "    <tr>\n",
       "      <th>9</th>\n",
       "      <td>10</td>\n",
       "      <td>Michael Brown</td>\n",
       "      <td>56.0</td>\n",
       "      <td>44910.1</td>\n",
       "      <td>Finance</td>\n",
       "      <td>Female</td>\n",
       "      <td>2018-09-30</td>\n",
       "      <td>USA</td>\n",
       "      <td>2.0</td>\n",
       "      <td>16.6</td>\n",
       "      <td>Unsatisfied</td>\n",
       "    </tr>\n",
       "  </tbody>\n",
       "</table>\n",
       "</div>"
      ],
      "text/plain": [
       "   ID                Name   Age     Salary   Department  Gender    JoinDate  \\\n",
       "0   1         Linda Smith  28.0    63886.9        Sales    Male  22/03/2024   \n",
       "1   2         Sarah Jones  31.0   66040.56      Finance    Male  02/07/2016   \n",
       "2   3      Sarah Martinez  28.0   44421.32      Finance  Female  07/09/2019   \n",
       "3   4      Sarah Williams  32.0   40259.33    Marketing  Female  06/12/2015   \n",
       "4   5  Elizabeth Martinez  29.0    42762.7           HR    Male  13/12/2023   \n",
       "5   6        David Miller  27.0  $48647.57  Engineering    Male  21/01/2016   \n",
       "6   7        John Johnson  46.0   48161.27      Finance    Male  2018-10-03   \n",
       "7   8     Patricia Garcia  35.0   65532.84    Marketing    Male  30/05/2020   \n",
       "8   9     Charles Johnson  45.0   59070.55    Marketing  Female  22/12/2022   \n",
       "9  10       Michael Brown  56.0    44910.1      Finance  Female  2018-09-30   \n",
       "\n",
       "  Country  Rating  Experience     Feedback  \n",
       "0      UK     4.0        12.6    Satisfied  \n",
       "1      UK     5.0         7.7  Unsatisfied  \n",
       "2  France     2.0        15.6      Neutral  \n",
       "3  France     2.0         8.8  Unsatisfied  \n",
       "4  Canada     3.0        12.9    Satisfied  \n",
       "5     USA     4.0        10.1    Satisfied  \n",
       "6     USA     4.0         7.0    Satisfied  \n",
       "7      UK     5.0         2.4    Satisfied  \n",
       "8  Canada     3.0         3.4      Neutral  \n",
       "9     USA     2.0        16.6  Unsatisfied  "
      ]
     },
     "execution_count": 21,
     "metadata": {},
     "output_type": "execute_result"
    }
   ],
   "source": [
    "df.info()\n",
    "df.describe()\n",
    "df.head(10)"
   ]
  },
  {
   "cell_type": "code",
   "execution_count": null,
   "metadata": {},
   "outputs": [
    {
     "data": {
      "text/plain": [
       "0      False\n",
       "1      False\n",
       "2      False\n",
       "3      False\n",
       "4      False\n",
       "       ...  \n",
       "495    False\n",
       "496    False\n",
       "497    False\n",
       "498    False\n",
       "499    False\n",
       "Length: 500, dtype: bool"
      ]
     },
     "execution_count": 50,
     "metadata": {},
     "output_type": "execute_result"
    }
   ],
   "source": [
    "df.drop_duplicates(inplace = True)\n",
    "df.duplicated()"
   ]
  },
  {
   "cell_type": "code",
   "execution_count": null,
   "metadata": {},
   "outputs": [
    {
     "data": {
      "text/plain": [
       "ID             0\n",
       "Name           0\n",
       "Age           20\n",
       "Salary         0\n",
       "Department     0\n",
       "Gender         0\n",
       "JoinDate       0\n",
       "Country       10\n",
       "Rating        27\n",
       "Experience     5\n",
       "Feedback       0\n",
       "dtype: int64"
      ]
     },
     "execution_count": 52,
     "metadata": {},
     "output_type": "execute_result"
    }
   ],
   "source": [
    "df.isnull().sum()"
   ]
  },
  {
   "cell_type": "code",
   "execution_count": null,
   "metadata": {},
   "outputs": [],
   "source": [
    "df['Age'] = df['Age'].fillna(df['Age'].median())\n",
    "df['Experience'] = df['Experience'].fillna(df['Experience'].median())\n",
    "df['Country'] = df['Country'].fillna(\"Unknown\")"
   ]
  },
  {
   "cell_type": "code",
   "execution_count": null,
   "metadata": {},
   "outputs": [
    {
     "name": "stderr",
     "output_type": "stream",
     "text": [
      "<>:3: SyntaxWarning: invalid escape sequence '\\$'\n",
      "<>:3: SyntaxWarning: invalid escape sequence '\\$'\n",
      "/tmp/ipykernel_31586/3167619169.py:3: SyntaxWarning: invalid escape sequence '\\$'\n",
      "  df['Salary'] = df['Salary'].replace('[\\$,]', '', regex=True).astype(float)\n"
     ]
    }
   ],
   "source": [
    "df['Gender'] = df['Gender'].replace({\"M\": \"Male\", \"F\": \"Female\"})\n",
    "df['Department'] = df['Department'].str.title()\n",
    "df['Salary'] = df['Salary'].replace('[\\$,]', '', regex=True).astype(float)\n",
    "df['Feedback'] = df['Feedback'].str.title()"
   ]
  },
  {
   "cell_type": "code",
   "execution_count": null,
   "metadata": {},
   "outputs": [
    {
     "name": "stderr",
     "output_type": "stream",
     "text": [
      "/tmp/ipykernel_31586/3588761731.py:1: UserWarning: The argument 'infer_datetime_format' is deprecated and will be removed in a future version. A strict version of it is now the default, see https://pandas.pydata.org/pdeps/0004-consistent-to-datetime-parsing.html. You can safely remove this argument.\n",
      "  df['JoinDate'] = pd.to_datetime(df['JoinDate'], infer_datetime_format=True,\n",
      "/tmp/ipykernel_31586/3588761731.py:1: UserWarning: Parsing dates in %d/%m/%Y format when dayfirst=False (the default) was specified. Pass `dayfirst=True` or specify a format to silence this warning.\n",
      "  df['JoinDate'] = pd.to_datetime(df['JoinDate'], infer_datetime_format=True,\n"
     ]
    }
   ],
   "source": [
    "df['JoinDate'] = pd.to_datetime(df['JoinDate'], infer_datetime_format=True, \n",
    "errors='coerce')"
   ]
  },
  {
   "cell_type": "code",
   "execution_count": null,
   "metadata": {},
   "outputs": [
    {
     "name": "stdout",
     "output_type": "stream",
     "text": [
      "<class 'pandas.core.frame.DataFrame'>\n",
      "Index: 500 entries, 0 to 499\n",
      "Data columns (total 11 columns):\n",
      " #   Column      Non-Null Count  Dtype         \n",
      "---  ------      --------------  -----         \n",
      " 0   ID          500 non-null    int64         \n",
      " 1   Name        500 non-null    object        \n",
      " 2   Age         500 non-null    float64       \n",
      " 3   Salary      500 non-null    float64       \n",
      " 4   Department  500 non-null    object        \n",
      " 5   Gender      500 non-null    object        \n",
      " 6   JoinDate    253 non-null    datetime64[ns]\n",
      " 7   Country     500 non-null    object        \n",
      " 8   Rating      473 non-null    float64       \n",
      " 9   Experience  500 non-null    float64       \n",
      " 10  Feedback    500 non-null    object        \n",
      "dtypes: datetime64[ns](1), float64(4), int64(1), object(5)\n",
      "memory usage: 46.9+ KB\n"
     ]
    },
    {
     "data": {
      "text/html": [
       "<div>\n",
       "<style scoped>\n",
       "    .dataframe tbody tr th:only-of-type {\n",
       "        vertical-align: middle;\n",
       "    }\n",
       "\n",
       "    .dataframe tbody tr th {\n",
       "        vertical-align: top;\n",
       "    }\n",
       "\n",
       "    .dataframe thead th {\n",
       "        text-align: right;\n",
       "    }\n",
       "</style>\n",
       "<table border=\"1\" class=\"dataframe\">\n",
       "  <thead>\n",
       "    <tr style=\"text-align: right;\">\n",
       "      <th></th>\n",
       "      <th>ID</th>\n",
       "      <th>Name</th>\n",
       "      <th>Age</th>\n",
       "      <th>Salary</th>\n",
       "      <th>Department</th>\n",
       "      <th>Gender</th>\n",
       "      <th>JoinDate</th>\n",
       "      <th>Country</th>\n",
       "      <th>Rating</th>\n",
       "      <th>Experience</th>\n",
       "      <th>Feedback</th>\n",
       "    </tr>\n",
       "  </thead>\n",
       "  <tbody>\n",
       "    <tr>\n",
       "      <th>0</th>\n",
       "      <td>1</td>\n",
       "      <td>Linda Smith</td>\n",
       "      <td>28.0</td>\n",
       "      <td>63886.90</td>\n",
       "      <td>Sales</td>\n",
       "      <td>Male</td>\n",
       "      <td>2024-03-22</td>\n",
       "      <td>UK</td>\n",
       "      <td>4.0</td>\n",
       "      <td>12.6</td>\n",
       "      <td>Satisfied</td>\n",
       "    </tr>\n",
       "    <tr>\n",
       "      <th>1</th>\n",
       "      <td>2</td>\n",
       "      <td>Sarah Jones</td>\n",
       "      <td>31.0</td>\n",
       "      <td>66040.56</td>\n",
       "      <td>Finance</td>\n",
       "      <td>Male</td>\n",
       "      <td>2016-07-02</td>\n",
       "      <td>UK</td>\n",
       "      <td>5.0</td>\n",
       "      <td>7.7</td>\n",
       "      <td>Unsatisfied</td>\n",
       "    </tr>\n",
       "    <tr>\n",
       "      <th>2</th>\n",
       "      <td>3</td>\n",
       "      <td>Sarah Martinez</td>\n",
       "      <td>28.0</td>\n",
       "      <td>44421.32</td>\n",
       "      <td>Finance</td>\n",
       "      <td>Female</td>\n",
       "      <td>2019-09-07</td>\n",
       "      <td>France</td>\n",
       "      <td>2.0</td>\n",
       "      <td>15.6</td>\n",
       "      <td>Neutral</td>\n",
       "    </tr>\n",
       "    <tr>\n",
       "      <th>3</th>\n",
       "      <td>4</td>\n",
       "      <td>Sarah Williams</td>\n",
       "      <td>32.0</td>\n",
       "      <td>40259.33</td>\n",
       "      <td>Marketing</td>\n",
       "      <td>Female</td>\n",
       "      <td>2015-12-06</td>\n",
       "      <td>France</td>\n",
       "      <td>2.0</td>\n",
       "      <td>8.8</td>\n",
       "      <td>Unsatisfied</td>\n",
       "    </tr>\n",
       "    <tr>\n",
       "      <th>4</th>\n",
       "      <td>5</td>\n",
       "      <td>Elizabeth Martinez</td>\n",
       "      <td>29.0</td>\n",
       "      <td>42762.70</td>\n",
       "      <td>Hr</td>\n",
       "      <td>Male</td>\n",
       "      <td>2023-12-13</td>\n",
       "      <td>Canada</td>\n",
       "      <td>3.0</td>\n",
       "      <td>12.9</td>\n",
       "      <td>Satisfied</td>\n",
       "    </tr>\n",
       "    <tr>\n",
       "      <th>5</th>\n",
       "      <td>6</td>\n",
       "      <td>David Miller</td>\n",
       "      <td>27.0</td>\n",
       "      <td>48647.57</td>\n",
       "      <td>Engineering</td>\n",
       "      <td>Male</td>\n",
       "      <td>2016-01-21</td>\n",
       "      <td>USA</td>\n",
       "      <td>4.0</td>\n",
       "      <td>10.1</td>\n",
       "      <td>Satisfied</td>\n",
       "    </tr>\n",
       "    <tr>\n",
       "      <th>6</th>\n",
       "      <td>7</td>\n",
       "      <td>John Johnson</td>\n",
       "      <td>46.0</td>\n",
       "      <td>48161.27</td>\n",
       "      <td>Finance</td>\n",
       "      <td>Male</td>\n",
       "      <td>NaT</td>\n",
       "      <td>USA</td>\n",
       "      <td>4.0</td>\n",
       "      <td>7.0</td>\n",
       "      <td>Satisfied</td>\n",
       "    </tr>\n",
       "    <tr>\n",
       "      <th>7</th>\n",
       "      <td>8</td>\n",
       "      <td>Patricia Garcia</td>\n",
       "      <td>35.0</td>\n",
       "      <td>65532.84</td>\n",
       "      <td>Marketing</td>\n",
       "      <td>Male</td>\n",
       "      <td>2020-05-30</td>\n",
       "      <td>UK</td>\n",
       "      <td>5.0</td>\n",
       "      <td>2.4</td>\n",
       "      <td>Satisfied</td>\n",
       "    </tr>\n",
       "    <tr>\n",
       "      <th>8</th>\n",
       "      <td>9</td>\n",
       "      <td>Charles Johnson</td>\n",
       "      <td>45.0</td>\n",
       "      <td>59070.55</td>\n",
       "      <td>Marketing</td>\n",
       "      <td>Female</td>\n",
       "      <td>2022-12-22</td>\n",
       "      <td>Canada</td>\n",
       "      <td>3.0</td>\n",
       "      <td>3.4</td>\n",
       "      <td>Neutral</td>\n",
       "    </tr>\n",
       "    <tr>\n",
       "      <th>9</th>\n",
       "      <td>10</td>\n",
       "      <td>Michael Brown</td>\n",
       "      <td>56.0</td>\n",
       "      <td>44910.10</td>\n",
       "      <td>Finance</td>\n",
       "      <td>Female</td>\n",
       "      <td>NaT</td>\n",
       "      <td>USA</td>\n",
       "      <td>2.0</td>\n",
       "      <td>16.6</td>\n",
       "      <td>Unsatisfied</td>\n",
       "    </tr>\n",
       "  </tbody>\n",
       "</table>\n",
       "</div>"
      ],
      "text/plain": [
       "   ID                Name   Age    Salary   Department  Gender   JoinDate  \\\n",
       "0   1         Linda Smith  28.0  63886.90        Sales    Male 2024-03-22   \n",
       "1   2         Sarah Jones  31.0  66040.56      Finance    Male 2016-07-02   \n",
       "2   3      Sarah Martinez  28.0  44421.32      Finance  Female 2019-09-07   \n",
       "3   4      Sarah Williams  32.0  40259.33    Marketing  Female 2015-12-06   \n",
       "4   5  Elizabeth Martinez  29.0  42762.70           Hr    Male 2023-12-13   \n",
       "5   6        David Miller  27.0  48647.57  Engineering    Male 2016-01-21   \n",
       "6   7        John Johnson  46.0  48161.27      Finance    Male        NaT   \n",
       "7   8     Patricia Garcia  35.0  65532.84    Marketing    Male 2020-05-30   \n",
       "8   9     Charles Johnson  45.0  59070.55    Marketing  Female 2022-12-22   \n",
       "9  10       Michael Brown  56.0  44910.10      Finance  Female        NaT   \n",
       "\n",
       "  Country  Rating  Experience     Feedback  \n",
       "0      UK     4.0        12.6    Satisfied  \n",
       "1      UK     5.0         7.7  Unsatisfied  \n",
       "2  France     2.0        15.6      Neutral  \n",
       "3  France     2.0         8.8  Unsatisfied  \n",
       "4  Canada     3.0        12.9    Satisfied  \n",
       "5     USA     4.0        10.1    Satisfied  \n",
       "6     USA     4.0         7.0    Satisfied  \n",
       "7      UK     5.0         2.4    Satisfied  \n",
       "8  Canada     3.0         3.4      Neutral  \n",
       "9     USA     2.0        16.6  Unsatisfied  "
      ]
     },
     "execution_count": 63,
     "metadata": {},
     "output_type": "execute_result"
    }
   ],
   "source": [
    "df.info()\n",
    "df.shape\n",
    "df.head(10)"
   ]
  },
  {
   "cell_type": "code",
   "execution_count": null,
   "metadata": {},
   "outputs": [],
   "source": [
    "import seaborn as sns\n",
    "import matplotlib.pyplot as plt"
   ]
  },
  {
   "cell_type": "code",
   "execution_count": null,
   "metadata": {},
   "outputs": [
    {
     "data": {
      "text/plain": [
       "<AxesSubplot: xlabel='Age', ylabel='Count'>"
      ]
     },
     "execution_count": 66,
     "metadata": {},
     "output_type": "execute_result"
    },
    {
     "data": {
      "image/png": "[encoded data removed]",
      "text/plain": [
       "<Figure size 640x480 with 1 Axes>"
      ]
     },
     "metadata": {},
     "output_type": "display_data"
    }
   ],
   "source": [
    "sns.histplot(data=df, x=\"Age\", kde=True, color=\"skyblue\", edgecolor=\"black\", bins=20) "
   ]
  },
  {
   "cell_type": "code",
   "execution_count": null,
   "metadata": {},
   "outputs": [
    {
     "data": {
      "image/png": "[encoded data removed]",
      "text/plain": [
       "<Figure size 640x480 with 1 Axes>"
      ]
     },
     "metadata": {},
     "output_type": "display_data"
    }
   ],
   "source": [
    "sns.histplot(data=df, x=\"Salary\",color=\"Blue\",bins=10) \n",
    "plt.title(\"Histogram kinda graph\") \n",
    "plt.xlabel(\"Age\") \n",
    "plt.ylabel(\"Frequency\") \n",
    "plt.show()"
   ]
  },
  {
   "cell_type": "code",
   "execution_count": null,
   "metadata": {},
   "outputs": [
    {
     "data": {
      "image/png": "[encoded data removed]",
      "text/plain": [
       "<Figure size 600x600 with 3 Axes>"
      ]
     },
     "metadata": {},
     "output_type": "display_data"
    }
   ],
   "source": [
    "sns.jointplot(data=df, x=\"Salary\", y=\"Experience\", kind=\"scatter\", color=\"purple\") \n",
    "plt.suptitle(\"Joint Plot: Salary vs. Experience\", y=1.02) \n",
    "plt.show()"
   ]
  },
  {
   "cell_type": "code",
   "execution_count": null,
   "metadata": {},
   "outputs": [
    {
     "ename": "NameError",
     "evalue": "name 'sns' is not defined",
     "output_type": "error",
     "traceback": [
      "\u001b[1;31m---------------------------------------------------------------------------\u001b[0m",
      "\u001b[1;31mNameError\u001b[0m                                 Traceback (most recent call last)",
      "Cell \u001b[1;32mIn[1], line 2\u001b[0m\n\u001b[0;32m      1\u001b[0m \u001b[38;5;66;03m# Example 2: Hex Bin Joint Plot\u001b[39;00m\n\u001b[1;32m----> 2\u001b[0m sns\u001b[38;5;241m.\u001b[39mjointplot(data\u001b[38;5;241m=\u001b[39mdf, x\u001b[38;5;241m=\u001b[39m\u001b[38;5;124m\"\u001b[39m\u001b[38;5;124mSalary\u001b[39m\u001b[38;5;124m\"\u001b[39m, y\u001b[38;5;241m=\u001b[39m\u001b[38;5;124m\"\u001b[39m\u001b[38;5;124mExperience\u001b[39m\u001b[38;5;124m\"\u001b[39m, kind\u001b[38;5;241m=\u001b[39m\u001b[38;5;124m\"\u001b[39m\u001b[38;5;124mhex\u001b[39m\u001b[38;5;124m\"\u001b[39m, color\u001b[38;5;241m=\u001b[39m\u001b[38;5;124m\"\u001b[39m\u001b[38;5;124mteal\u001b[39m\u001b[38;5;124m\"\u001b[39m)\n\u001b[0;32m      3\u001b[0m plt\u001b[38;5;241m.\u001b[39msuptitle(\u001b[38;5;124m\"\u001b[39m\u001b[38;5;124mHex Bin Joint Plot: Salary vs. Experience\u001b[39m\u001b[38;5;124m\"\u001b[39m, y\u001b[38;5;241m=\u001b[39m\u001b[38;5;241m1.02\u001b[39m)\n\u001b[0;32m      4\u001b[0m plt\u001b[38;5;241m.\u001b[39mshow()\n",
      "\u001b[1;31mNameError\u001b[0m: name 'sns' is not defined"
     ]
    }
   ],
   "source": [
    "# Example 2: Hex Bin Joint Plot\n",
    "sns.jointplot(data=df, x=\"Salary\", y=\"Experience\", kind=\"hex\", color=\"teal\")\n",
    "plt.suptitle(\"Hex Bin Joint Plot: Salary vs. Experience\", y=1.02)\n",
    "plt.show()"
   ]
  }
 ],
 "metadata": {
  "kernelspec": {
   "display_name": "base",
   "language": "python",
   "name": "python3"
  },
  "language_info": {
   "codemirror_mode": {
    "name": "ipython",
    "version": 3
   },
   "file_extension": ".py",
   "mimetype": "text/x-python",
   "name": "python",
   "nbconvert_exporter": "python",
   "pygments_lexer": "ipython3",
   "version": "3.12.7"
  }
 },
 "nbformat": 4,
 "nbformat_minor": 2
}
