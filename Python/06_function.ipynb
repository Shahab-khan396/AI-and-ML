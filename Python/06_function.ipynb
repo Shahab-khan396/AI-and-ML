{
 "cells": [
  {
   "cell_type": "markdown",
   "metadata": {},
   "source": [
    "# function "
   ]
  },
  {
   "cell_type": "markdown",
   "metadata": {},
   "source": [
    "### A function is a group of statements performing a specific task.\n",
    "### When a program gets bigger in size and its complexity grows, it gets difficult for a program to keep track on which piece of code is doing what!\n",
    "### A function can be reused by the programmer in a given program any number of"
   ]
  },
  {
   "cell_type": "markdown",
   "metadata": {},
   "source": [
    "# EXAMPLE AND SYNTAX OF A FUNCTION\n",
    "#### The syntax of a function looks as follows:"
   ]
  },
  {
   "cell_type": "code",
   "execution_count": 3,
   "metadata": {},
   "outputs": [
    {
     "name": "stdout",
     "output_type": "stream",
     "text": [
      "hello\n"
     ]
    }
   ],
   "source": [
    "def func1():\n",
    " print('hello')\n",
    "func1()# This is called function call."
   ]
  },
  {
   "cell_type": "markdown",
   "metadata": {},
   "source": [
    "# FUNCTION DEFINITION\n",
    "### The part containing the exact set of instructions which are executed during the function call."
   ]
  },
  {
   "cell_type": "markdown",
   "metadata": {},
   "source": [
    "# TYPES OF FUNCTIONS IN PYTHON\n",
    "### There are two types of functions in python:\n",
    "### • Built in functions (Already present in python)\n",
    "### • User defined functions (Defined by the user)\n",
    "### Examples of built in functions includes len(), print(), range() etc.\n",
    "### The func1() function we defined is an example of user defined function. FUNCTIONS WITH ARGUMENTS\n",
    "### A function can accept some value it can work with. We can put these values in the parentheses.\n",
    "### A function can also return value as shown below:"
   ]
  },
  {
   "cell_type": "code",
   "execution_count": 5,
   "metadata": {},
   "outputs": [
    {
     "data": {
      "text/plain": [
       "'helloShahab'"
      ]
     },
     "execution_count": 5,
     "metadata": {},
     "output_type": "execute_result"
    }
   ],
   "source": [
    "def greet(name):\n",
    "    gr = \"hello\"+ name \n",
    "    return gr \n",
    "a = greet (\"Shahab\") # a will now contain \"hello Shahab\"\n",
    "a"
   ]
  },
  {
   "cell_type": "markdown",
   "metadata": {},
   "source": [
    "# DEFAULT PARAMETER VALUE\n",
    "### We can have a value as default as default argument in a function.\n",
    "### If we specify name = “stranger” in the line containing def, this value is used when no argument is passed.\n",
    "# Example:"
   ]
  },
  {
   "cell_type": "code",
   "execution_count": 10,
   "metadata": {},
   "outputs": [
    {
     "name": "stdout",
     "output_type": "stream",
     "text": [
      "stranger\n",
      "Shahab khan\n"
     ]
    }
   ],
   "source": [
    "def greet(name = \"stranger\"): # function body \n",
    "    print(name)\n",
    "greet() # name will be \"stranger\" in function body (default) \n",
    "greet(\"Shahab khan\") # name will be \"Shahab khan\" in function body (passed)\n",
    "    "
   ]
  },
  {
   "cell_type": "markdown",
   "metadata": {},
   "source": [
    "# RECURSION\n",
    "### Recursion is a function which calls itself.\n",
    "### It is used to directly use a mathematical formula as function.\n",
    "# Example:"
   ]
  },
  {
   "cell_type": "code",
   "execution_count": 26,
   "metadata": {},
   "outputs": [],
   "source": [
    "def factorial(n):\n",
    "    if i == 0 or i==1: # base condition which doesn’t call the function any further \n",
    "        return 1 \n",
    "    else: \n",
    "        return n*factorial(n-1) # function calling itself\n",
    "n=input(\"Enter the number\")\n"
   ]
  },
  {
   "cell_type": "markdown",
   "metadata": {},
   "source": [
    "# Variable-length Arguments (*args)\n",
    "\n",
    "*args allows a function to accept any number of positional arguments.\n",
    "\n",
    "## Example:\n"
   ]
  },
  {
   "cell_type": "code",
   "execution_count": 2,
   "metadata": {},
   "outputs": [
    {
     "name": "stdout",
     "output_type": "stream",
     "text": [
      "110\n"
     ]
    }
   ],
   "source": [
    "# task thats sir given to us\n",
    "def addition(*args):\n",
    "    total = 0\n",
    "    for i in args:\n",
    "        total += i\n",
    "    return total\n",
    "total = addition(10 + 10 * 10)\n",
    "print(total)"
   ]
  },
  {
   "cell_type": "markdown",
   "metadata": {},
   "source": [
    "# Enclosing function "
   ]
  },
  {
   "cell_type": "code",
   "execution_count": 10,
   "metadata": {},
   "outputs": [
    {
     "name": "stdout",
     "output_type": "stream",
     "text": [
      "The value of the x variable 10\n",
      "The  innner value of the x variable 15\n"
     ]
    }
   ],
   "source": [
    "def outer():\n",
    "    x=10\n",
    "    print(\"The value of the x variable\",x)\n",
    "    def inner():\n",
    "        nonlocal x\n",
    "        x=15 \n",
    "        print(\"The  innner value of the x variable\",x)\n",
    "\n",
    "    return inner \n",
    "\n",
    "# Calling the outer function    \n",
    "\n",
    "outer_func = outer()\n",
    "outer_func()\n"
   ]
  },
  {
   "cell_type": "markdown",
   "metadata": {},
   "source": [
    "# Factorial using nested function \n",
    "\n"
   ]
  },
  {
   "cell_type": "code",
   "execution_count": 19,
   "metadata": {},
   "outputs": [
    {
     "data": {
      "text/plain": [
       "120"
      ]
     },
     "execution_count": 19,
     "metadata": {},
     "output_type": "execute_result"
    }
   ],
   "source": [
    "\n",
    "def factorial(n):\n",
    "        \"\"\"\n",
    "        This is a recursive function that calls itself to find the factorial of given number\n",
    "        \"\"\"\n",
    "        if n == 0 or n == 1:\n",
    "            return 1\n",
    "        else:\n",
    "            return n * factorial(n-1)\n",
    "        \n",
    "factorial(5)"
   ]
  },
  {
   "cell_type": "code",
   "execution_count": 21,
   "metadata": {},
   "outputs": [
    {
     "name": "stdout",
     "output_type": "stream",
     "text": [
      "Factorial of 5 is 120\n"
     ]
    }
   ],
   "source": [
    "def outer_function(n):\n",
    "    def inner_factorial(x):\n",
    "        if x == 0 or x == 1:\n",
    "            return 1\n",
    "        return x * inner_factorial(x - 1)\n",
    "    \n",
    "    return inner_factorial(n)\n",
    "\n",
    "# Example usage\n",
    "num = int(input(\"Enter a number: \"))\n",
    "print(f\"Factorial of {num} is {outer_function(num)}\")\n",
    "\n"
   ]
  },
  {
   "cell_type": "markdown",
   "metadata": {},
   "source": [
    "# LAMBDA EXPESSION"
   ]
  },
  {
   "cell_type": "code",
   "execution_count": 24,
   "metadata": {},
   "outputs": [
    {
     "name": "stdout",
     "output_type": "stream",
     "text": [
      "[('Muddassir', 18), ('YAsir', 20), ('shahab', 21), ('Ali', 23)]\n"
     ]
    }
   ],
   "source": [
    "data=[(\"shahab\",21),(\"YAsir\",20),(\"Muddassir\",18),(\"Ali\",23)]\n",
    "data.sort(key=lambda x:x[1])\n",
    "print(data)"
   ]
  },
  {
   "cell_type": "markdown",
   "metadata": {},
   "source": [
    "# Sorting dictionary Through lambda Expression\n"
   ]
  },
  {
   "cell_type": "code",
   "execution_count": 29,
   "metadata": {},
   "outputs": [
    {
     "name": "stdout",
     "output_type": "stream",
     "text": [
      "{'shahab': 100, 'Yasir': 90, 'Muddassir': 80, 'Ali': 70}\n"
     ]
    }
   ],
   "source": [
    "socre={\"shahab\":100,\"Yasir\":90,\"Muddassir\":80,\"Ali\":70}\n",
    "sorted_score=dict(sorted(socre.items(),key=lambda item:item[1],reverse=True))\n",
    "print(sorted_score)"
   ]
  },
  {
   "cell_type": "markdown",
   "metadata": {},
   "source": [
    "### map(), filter(), and reduce() are higher-order functions that take another function (like a lambda) and apply it to iterables.\n"
   ]
  },
  {
   "cell_type": "code",
   "execution_count": 30,
   "metadata": {},
   "outputs": [
    {
     "name": "stdout",
     "output_type": "stream",
     "text": [
      " Positive numbers : [1, 2, 3, 4, 5]\n",
      " Squares : [1, 4, 9, 16, 25]\n",
      " Product : 120\n"
     ]
    }
   ],
   "source": [
    " # Using lambda with map and filter\n",
    "numbers = list ( range (-5, 6))\n",
    "positives = list ( filter ( lambda x: x > 0, numbers ))\n",
    "squares = list ( map ( lambda x: x**2 , positives ))\n",
    "print (\" Positive numbers :\", positives )\n",
    "print (\" Squares :\", squares )\n",
    "\n",
    "# Using lambda with reduce\n",
    "from functools import reduce\n",
    "numbers = [1, 2, 3, 4, 5]\n",
    "product = reduce ( lambda x, y: x * y, numbers )\n",
    "print (\" Product :\", product ) # Output : 120"
   ]
  },
  {
   "cell_type": "code",
   "execution_count": 35,
   "metadata": {},
   "outputs": [
    {
     "name": "stdout",
     "output_type": "stream",
     "text": [
      " Counter : 1\n",
      " Counter : 2\n"
     ]
    }
   ],
   "source": [
    "def create_counter ():\n",
    "    \"\"\"\n",
    "Create and return a counter function\n",
    "that increments and returns a count .\n",
    "\"\"\"\n",
    "    count = 0\n",
    "    def counter():\n",
    "        nonlocal count\n",
    "        count += 1\n",
    "        return count\n",
    "    return counter\n",
    "\n",
    "counter1 = create_counter ()\n",
    "print (\" Counter :\", counter1 ()) # Output : 1\n",
    "print (\" Counter :\", counter1 ()) # Output : 2"
   ]
  },
  {
   "cell_type": "markdown",
   "metadata": {},
   "source": [
    "### Fabnocci counter"
   ]
  },
  {
   "cell_type": "code",
   "execution_count": 38,
   "metadata": {},
   "outputs": [
    {
     "name": "stdout",
     "output_type": "stream",
     "text": [
      " Fibonacci (10) : 10946\n"
     ]
    }
   ],
   "source": [
    "def fibonacci ():\n",
    "    \"\"\" Return a function that computes\n",
    "    Fibonacci numbers using memoization \"\"\"\n",
    "    memo = {}\n",
    "    def fib (n):\n",
    "        if n in memo :\n",
    "            return memo [n]\n",
    "        if n <= 1:\n",
    "            result = n\n",
    "        else :\n",
    "            result = fib (n -1) + fib (n -2)\n",
    "        memo [n] = result\n",
    "        return result\n",
    "    return fib\n",
    "fib = fibonacci ()\n",
    "print (\" Fibonacci (10) :\", fib (21) ) "
   ]
  },
  {
   "cell_type": "markdown",
   "metadata": {},
   "source": [
    "# File handlng on json data\n"
   ]
  },
  {
   "cell_type": "code",
   "execution_count": 3,
   "metadata": {},
   "outputs": [
    {
     "name": "stdout",
     "output_type": "stream",
     "text": [
      "{'name': 'shahab', 'age': 21}\n"
     ]
    }
   ],
   "source": [
    "import json\n",
    "file=(\"data.json\",\"w\")\n",
    "data={\"name\":\"shahab\",\"age\":21}\n",
    "with open(\"data.json\",\"w\") as file:\n",
    "    json.dump(data,file)\n",
    "\n",
    "file=open(\"data.json\",\"r\")\n",
    "data=json.load(file)\n",
    "print(data)\n"
   ]
  },
  {
   "cell_type": "code",
   "execution_count": null,
   "metadata": {},
   "outputs": [],
   "source": []
  }
 ],
 "metadata": {
  "kernelspec": {
   "display_name": "Shahab_khan",
   "language": "python",
   "name": "python3"
  },
  "language_info": {
   "codemirror_mode": {
    "name": "ipython",
    "version": 3
   },
   "file_extension": ".py",
   "mimetype": "text/x-python",
   "name": "python",
   "nbconvert_exporter": "python",
   "pygments_lexer": "ipython3",
   "version": "3.12.9"
  }
 },
 "nbformat": 4,
 "nbformat_minor": 2
}
