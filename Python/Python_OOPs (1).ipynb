{
  "cells": [
    {
      "cell_type": "markdown",
      "id": "S3LQA-gKXeCP",
      "metadata": {
        "id": "S3LQA-gKXeCP"
      },
      "source": [
        "# Object-Oriented Programming in Python\n",
        "\n",
        "This notebook covers the fundamental concepts of **Object-Oriented Programming (OOP)** in Python. Below is the outline:\n",
        "\n",
        "1. Introduction to OOP  \n",
        "2. Objects and Class  \n",
        "3. \\_\\_init\\_\\_ Function  \n",
        "4. self Keyword  \n",
        "5. Constructor and Destructor  \n",
        "6. Built-in Class Functions  \n",
        "7. Built-in Class Attributes  \n",
        "8. Instance Variables and Instance Methods  \n",
        "9. Class Variables and Class Methods  \n",
        "10. Decorator  \n",
        "11. Inheritance  \n",
        "12. Types of Inheritance  \n",
        "13. Access Specifiers: Private, Public, Protected  \n",
        "14. Name Mangling  \n",
        "15. Encapsulation  \n",
        "16. Polymorphism  \n",
        "17. Operator Overloading (With an example of adding two tuples)  \n",
        "18. Dynamic Polymorphism (Subclass as Base Class)  \n",
        "19. Abstract Method and Abstract Class  \n",
        "20. Empty Class  \n",
        "21. Data Class  \n"
      ]
    },
    {
      "cell_type": "markdown",
      "id": "pN6a4Yv1XeCT",
      "metadata": {
        "id": "pN6a4Yv1XeCT"
      },
      "source": [
        "## 1. Introduction to OOP\n",
        "\n",
        "### Original Definition\n",
        "Object-Oriented Programming (OOP) is a programming paradigm that organizes software design around data, or **objects**, rather than functions and logic. It focuses on objects that contain data (attributes) and methods (functions).\n",
        "\n",
        "### Explanation and Examples\n",
        "- OOP revolves around the concept of “objects” which are instances of “classes.”\n",
        "- Each object can have properties (data) and behaviors (functions or methods).\n",
        "- Common OOP principles: Encapsulation, Inheritance, Polymorphism, and Abstraction.\n",
        "\n",
        "Example:\n",
        "- A “Car” object can have properties like “color,” “model,” “year,” and behaviors (methods) like `start_engine()` or `accelerate()`.\n"
      ]
    },
    {
      "cell_type": "markdown",
      "id": "yt8feLcmXeCV",
      "metadata": {
        "id": "yt8feLcmXeCV"
      },
      "source": [
        "### Detailed Coding Example"
      ]
    },
    {
      "cell_type": "code",
      "execution_count": null,
      "id": "IEPUWkzIXeCW",
      "metadata": {
        "id": "IEPUWkzIXeCW"
      },
      "outputs": [],
      "source": [
        "class Car:\n",
        "    def __init__(self, color, model, year):\n",
        "        self.color = color\n",
        "        self.model = model\n",
        "        self.year = year\n",
        "\n",
        "    def start_engine(self):\n",
        "        print(\"Engine started.\")\n",
        "\n",
        "    def accelerate(self):\n",
        "        print(\"Car is accelerating.\")\n",
        "\n",
        "# Creating objects\n",
        "car1 = Car(\"Red\", \"Toyota\", 2020)\n",
        "car2 = Car(\"Blue\", \"Honda\", 2021)\n",
        "\n",
        "car1.start_engine()\n",
        "car2.accelerate()"
      ]
    },
    {
      "cell_type": "markdown",
      "id": "3lFkhe7yXeCY",
      "metadata": {
        "id": "3lFkhe7yXeCY"
      },
      "source": [
        "## 2. Objects and Class\n",
        "\n",
        "### Original Definition\n",
        "- **Class**: A blueprint or template for creating objects. It defines the attributes and methods that the created objects will have.\n",
        "- **Object**: An instance of a class, which is a specific realization of the class with actual values for the attributes.\n",
        "\n",
        "### Explanation and Examples\n",
        "- A class can be seen as a “category” (e.g., Car), while an object is an “individual member” of that category (e.g., your personal Toyota).\n",
        "- You can create multiple objects from the same class.\n",
        "\n",
        "Example:\n",
        "- Class: `Car`\n",
        "- Objects: `car1`, `car2`, `my_dad_car`\n"
      ]
    },
    {
      "cell_type": "markdown",
      "id": "Beack6opXeCY",
      "metadata": {
        "id": "Beack6opXeCY"
      },
      "source": [
        "### Detailed Coding Example"
      ]
    },
    {
      "cell_type": "code",
      "execution_count": null,
      "id": "vMZhMGboXeCZ",
      "metadata": {
        "id": "vMZhMGboXeCZ"
      },
      "outputs": [],
      "source": [
        "class Dog:\n",
        "    def __init__(self, name, breed):\n",
        "        self.name = name\n",
        "        self.breed = breed\n",
        "\n",
        "    def bark(self):\n",
        "        print(f\"{self.name} says Woof!\")\n",
        "\n",
        "# Creating objects\n",
        "dog1 = Dog(\"Rex\", \"Labrador\")\n",
        "dog2 = Dog(\"Fluffy\", \"Poodle\")\n",
        "\n",
        "dog1.bark()  # Rex says Woof!\n",
        "dog2.bark()  # Fluffy says Woof!"
      ]
    },
    {
      "cell_type": "markdown",
      "id": "KViwQB_oXeCa",
      "metadata": {
        "id": "KViwQB_oXeCa"
      },
      "source": [
        "## 3. `__init__` Function\n",
        "\n",
        "### Original Definition\n",
        "The `__init__` function (also known as the constructor in Python) is a special method that is automatically called when a new instance of a class is created. It is used to initialize the object’s attributes.\n",
        "\n",
        "### Explanation and Examples\n",
        "- `__init__` is called automatically whenever a new instance is created.\n",
        "- You can pass parameters to `__init__` to set up attributes.\n",
        "\n",
        "Example:\n",
        "```python\n",
        "class Book:\n",
        "    def __init__(self, title, author):\n",
        "        self.title = title\n",
        "        self.author = author\n",
        "```\n",
        "\n",
        "When you do:\n",
        "```python\n",
        "book1 = Book(\"1984\", \"George Orwell\")\n",
        "```\n",
        "The `__init__` method automatically runs.\n"
      ]
    },
    {
      "cell_type": "markdown",
      "id": "9XziIg68XeCa",
      "metadata": {
        "id": "9XziIg68XeCa"
      },
      "source": [
        "### Detailed Coding Example"
      ]
    },
    {
      "cell_type": "code",
      "execution_count": 6,
      "id": "SysEu0TlXeCa",
      "metadata": {
        "colab": {
          "base_uri": "https://localhost:8080/",
          "height": 53
        },
        "id": "SysEu0TlXeCa",
        "outputId": "dcf776af-1d50-4f85-9887-fef5afd7e3bc"
      },
      "outputs": [
        {
          "name": "stdout",
          "output_type": "stream",
          "text": [
            "Student object created!\n"
          ]
        },
        {
          "data": {
            "text/plain": [
              "'Name: Alice, Roll No: 12, Grade: A'"
            ]
          },
          "execution_count": 6,
          "metadata": {},
          "output_type": "execute_result"
        }
      ],
      "source": [
        "class Student:\n",
        "    def __init__(self):\n",
        "        # This method runs automatically whenever an object is created\n",
        "        self.name = 'Alice'\n",
        "        self.roll_number = 12\n",
        "        self.grade = 'A'\n",
        "        print(\"Student object created!\")\n",
        "\n",
        "    def get_info(self):\n",
        "        return f\"Name: {self.name}, Roll No: {self.roll_number}, Grade: {self.grade}\"\n",
        "# Creating objects\n",
        "student_a = Student()\n",
        "\n",
        "student_a.get_info()\n"
      ]
    },
    {
      "cell_type": "markdown",
      "id": "e4VtKUBnXeCb",
      "metadata": {
        "id": "e4VtKUBnXeCb"
      },
      "source": [
        "## 4. `self` Keyword\n",
        "\n",
        "### Original Definition\n",
        "`self` is a conventional name (not a reserved keyword) for the first parameter of instance methods in Python. It refers to the instance on which the method is called.\n",
        "\n",
        "### Explanation and Examples\n",
        "- `self` allows you to access instance attributes and methods from within the class.\n",
        "- When you call `obj.method()`, Python internally executes `ClassName.method(obj)`.\n",
        "\n",
        "Example:\n",
        "```python\n",
        "class Demo:\n",
        "    def example_method(self):\n",
        "        print(\"This is called on the instance:\", self)\n",
        "```\n",
        "\n",
        "When you do `d = Demo()` and call `d.example_method()`, `d` is automatically passed as `self`.\n"
      ]
    },
    {
      "cell_type": "markdown",
      "id": "7oDB41cXXeCc",
      "metadata": {
        "id": "7oDB41cXXeCc"
      },
      "source": [
        "### Detailed Coding Example"
      ]
    },
    {
      "cell_type": "code",
      "execution_count": null,
      "id": "6cWna8jwXeCc",
      "metadata": {
        "id": "6cWna8jwXeCc"
      },
      "outputs": [],
      "source": [
        "class Shape:\n",
        "    def __init__(self, name):\n",
        "        self.name = name\n",
        "\n",
        "    def describe(self):\n",
        "        # 'self' refers to the instance\n",
        "        print(f\"This is a {self.name}.\")\n",
        "\n",
        "square = Shape(\"Square\")\n",
        "square.describe()  # This is a Square."
      ]
    },
    {
      "cell_type": "markdown",
      "id": "fywzxb1tXeCc",
      "metadata": {
        "id": "fywzxb1tXeCc"
      },
      "source": [
        "## 5. Constructor and Destructor\n",
        "\n",
        "### Original Definition\n",
        "- **Constructor**: A method (in Python, the `__init__` method) that is called automatically to initialize a newly created object.\n",
        "- **Destructor**: A special method (in Python, the `__del__` method) that is called when an object is about to be destroyed (or when the reference count drops to zero).\n",
        "\n",
        "### Explanation and Examples\n",
        "- Python’s garbage collector usually handles object destruction, so explicit destructors are rarely needed.\n",
        "- A destructor might be used to close files or network connections, but context managers are often preferred.\n",
        "\n",
        "Example:\n",
        "```python\n",
        "class Sample:\n",
        "    def __init__(self):\n",
        "        print(\"Constructor called.\")\n",
        "\n",
        "    def __del__(self):\n",
        "        print(\"Destructor called.\")\n",
        "```\n"
      ]
    },
    {
      "cell_type": "markdown",
      "id": "biV28lOyXeCc",
      "metadata": {
        "id": "biV28lOyXeCc"
      },
      "source": [
        "### Detailed Coding Example"
      ]
    },
    {
      "cell_type": "code",
      "execution_count": null,
      "id": "AJ_utLl-XeCd",
      "metadata": {
        "id": "AJ_utLl-XeCd"
      },
      "outputs": [],
      "source": [
        "class FileManager:\n",
        "    def __init__(self, filename):\n",
        "        self.filename = filename\n",
        "        self.file = open(filename, 'w')\n",
        "        print(\"File opened in write mode.\")\n",
        "\n",
        "    def write_data(self, data):\n",
        "        self.file.write(data)\n",
        "\n",
        "    def __del__(self):\n",
        "        # Destructor method\n",
        "        if self.file:\n",
        "            self.file.close()\n",
        "            print(f\"File {self.filename} is closed.\")\n",
        "\n",
        "# Usage\n",
        "manager = FileManager(\"test.txt\")\n",
        "manager.write_data(\"Hello World!\")\n",
        "\n",
        "# When this code finishes or manager goes out of scope,\n",
        "# __del__ may be called (implementation-dependent timing)."
      ]
    },
    {
      "cell_type": "markdown",
      "id": "dCLMehsdXeCd",
      "metadata": {
        "id": "dCLMehsdXeCd"
      },
      "source": [
        "## 6. Built-in Class Functions\n",
        "\n",
        "### Original Definition\n",
        "Python provides several built-in functions that can be used with classes and objects, such as `type()`, `isinstance()`, `issubclass()`, `hasattr()`, `getattr()`, `setattr()`, `delattr()`, etc.\n",
        "\n",
        "### Explanation and Examples\n",
        "- `type(obj)`: Returns the type (class) of `obj`.\n",
        "- `isinstance(obj, ClassName)`: Checks if `obj` is an instance of `ClassName` (or a subclass).\n",
        "- `issubclass(SubClass, BaseClass)`: Checks if `SubClass` is a subclass of `BaseClass`.\n",
        "- `hasattr(obj, 'attr')`: Checks if `obj` has an attribute `'attr'`.\n",
        "- `getattr(obj, 'attr')`: Retrieves the value of `'attr'` from `obj`.\n",
        "- `setattr(obj, 'attr', value)`: Sets the value of `'attr'` to `value` in `obj`.\n",
        "- `delattr(obj, 'attr')`: Deletes attribute `'attr'` from `obj`.\n"
      ]
    },
    {
      "cell_type": "markdown",
      "id": "FwkClndkXeCd",
      "metadata": {
        "id": "FwkClndkXeCd"
      },
      "source": [
        "### Detailed Coding Example"
      ]
    },
    {
      "cell_type": "code",
      "execution_count": 1,
      "id": "m2P0kQPTXeCd",
      "metadata": {
        "id": "m2P0kQPTXeCd"
      },
      "outputs": [
        {
          "name": "stdout",
          "output_type": "stream",
          "text": [
            "<class '__main__.User'>\n",
            "True\n",
            "True\n",
            "alice\n",
            "True\n",
            "alice@example.com\n",
            "False\n"
          ]
        }
      ],
      "source": [
        "class User:\n",
        "    def __init__(self, username):\n",
        "        self.username = username\n",
        "\n",
        "user1 = User(\"alice\")\n",
        "\n",
        "print(type(user1))                   # <class '__main__.User'>\n",
        "print(isinstance(user1, User))       # True\n",
        "print(hasattr(user1, \"username\"))    # True\n",
        "print(getattr(user1, \"username\"))    # alice\n",
        "\n",
        "setattr(user1, \"email\", \"alice@example.com\")\n",
        "print(hasattr(user1, \"email\"))       # True\n",
        "print(getattr(user1, \"email\"))       # alice@example.com\n",
        "\n",
        "delattr(user1, \"username\")\n",
        "print(hasattr(user1, \"username\"))    # False"
      ]
    },
    {
      "cell_type": "markdown",
      "id": "0ZfMsLr3XeCd",
      "metadata": {
        "id": "0ZfMsLr3XeCd"
      },
      "source": [
        "## 7. Built-in Class Attributes\n",
        "\n",
        "### Original Definition\n",
        "Python classes come with some special attributes by default, such as `__name__`, `__module__`, `__dict__`, `__doc__`, etc.\n",
        "\n",
        "### Explanation and Examples\n",
        "- `__dict__`: A dictionary containing the class or object's writable attributes.\n",
        "- `__doc__`: The class's docstring.\n",
        "- `__name__`: The class name.\n",
        "- `__module__`: The module name in which the class is defined.\n"
      ]
    },
    {
      "cell_type": "markdown",
      "id": "aOgFgsOvXeCd",
      "metadata": {
        "id": "aOgFgsOvXeCd"
      },
      "source": [
        "### Detailed Coding Example"
      ]
    },
    {
      "cell_type": "code",
      "execution_count": null,
      "id": "Nmk-OoaSXeCd",
      "metadata": {
        "id": "Nmk-OoaSXeCd"
      },
      "outputs": [],
      "source": [
        "class Car:\n",
        "    \"\"\"This is the Car class.\"\"\"\n",
        "    def __init__(self, model):\n",
        "        self.model = model\n",
        "\n",
        "print(Car.__name__)    # Car\n",
        "print(Car.__module__)  # __main__ (if you're running in the main module)\n",
        "print(Car.__doc__)     # This is the Car class.\n",
        "\n",
        "my_car = Car(\"Toyota\")\n",
        "print(my_car.__dict__) # {'model': 'Toyota'}"
      ]
    },
    {
      "cell_type": "markdown",
      "id": "Ljfiw0iOXeCe",
      "metadata": {
        "id": "Ljfiw0iOXeCe"
      },
      "source": [
        "## 8. Instance Variables and Instance Methods\n",
        "\n",
        "### Original Definition\n",
        "- **Instance Variables**: Variables defined inside the `__init__` method (or assigned to `self`) so each object has its own copy.\n",
        "- **Instance Methods**: Methods that take `self` as the first parameter and operate on instance data.\n",
        "\n",
        "### Explanation and Examples\n",
        "- Different objects can have different values for instance variables.\n",
        "- An instance method can manipulate the data of a particular instance.\n",
        "\n",
        "Example:\n",
        "```python\n",
        "class Person:\n",
        "    def __init__(self, name):\n",
        "        self.name = name  # Instance variable\n",
        "\n",
        "    def say_hello(self):\n",
        "        print(f\"Hello, my name is {self.name}.\")  # Instance method\n",
        "```\n"
      ]
    },
    {
      "cell_type": "markdown",
      "id": "35Ccmj8KXeCf",
      "metadata": {
        "id": "35Ccmj8KXeCf"
      },
      "source": [
        "### Detailed Coding Example"
      ]
    },
    {
      "cell_type": "code",
      "execution_count": 2,
      "id": "2rO3gbiPXeCf",
      "metadata": {
        "id": "2rO3gbiPXeCf"
      },
      "outputs": [
        {
          "name": "stdout",
          "output_type": "stream",
          "text": [
            "500 deposited. New balance: 1500\n",
            "200 withdrawn. New balance: 300\n"
          ]
        }
      ],
      "source": [
        "class BankAccount:\n",
        "    def __init__(self, account_number, balance=0):\n",
        "        # Instance variables\n",
        "        self.account_number = account_number\n",
        "        self.balance = balance\n",
        "\n",
        "    # Instance method\n",
        "    def deposit(self, amount):\n",
        "        self.balance += amount\n",
        "        print(f\"{amount} deposited. New balance: {self.balance}\")\n",
        "\n",
        "    # Another instance method\n",
        "    def withdraw(self, amount):\n",
        "        if amount <= self.balance:\n",
        "            self.balance -= amount\n",
        "            print(f\"{amount} withdrawn. New balance: {self.balance}\")\n",
        "        else:\n",
        "            print(\"Insufficient funds!\")\n",
        "\n",
        "# Creating objects with different instance variables\n",
        "acc1 = BankAccount(\"ACC123\", 1000)\n",
        "acc2 = BankAccount(\"ACC456\", 500)\n",
        "\n",
        "acc1.deposit(500)   # Affects only acc1\n",
        "acc2.withdraw(200)  # Affects only acc2"
      ]
    },
    {
      "cell_type": "markdown",
      "id": "dXWKGwcFXeCf",
      "metadata": {
        "id": "dXWKGwcFXeCf"
      },
      "source": [
        "## 9. Class Variables and Class Methods\n",
        "\n",
        "### Original Definition\n",
        "- **Class Variables**: Variables declared within a class but outside any instance methods. They are shared by all instances of the class.\n",
        "- **Class Methods**: Methods that take `cls` as the first parameter (instead of `self`) and can access/modify class state. Defined using the `@classmethod` decorator.\n",
        "\n",
        "### Explanation and Examples\n",
        "- Class variables are the same across all objects unless overridden.\n",
        "- Class methods can modify class variables or act as alternative constructors.\n",
        "\n",
        "Example:\n",
        "```python\n",
        "class Employee:\n",
        "    company_name = \"ABC Corp\"  # Class variable\n",
        "\n",
        "    @classmethod\n",
        "    def set_company_name(cls, name):\n",
        "        cls.company_name = name\n",
        "```\n"
      ]
    },
    {
      "cell_type": "markdown",
      "id": "OK_xMYD2XeCf",
      "metadata": {
        "id": "OK_xMYD2XeCf"
      },
      "source": [
        "### Detailed Coding Example"
      ]
    },
    {
      "cell_type": "code",
      "execution_count": 5,
      "id": "uYs_OmvqXeCf",
      "metadata": {
        "id": "uYs_OmvqXeCf"
      },
      "outputs": [
        {
          "name": "stdout",
          "output_type": "stream",
          "text": [
            "ABC Corp\n",
            "2\n",
            "XYZ Inc\n"
          ]
        }
      ],
      "source": [
        "class Employee:\n",
        "    # Class variable\n",
        "    company_name = \"ABC Corp\"\n",
        "    employee_count = 0\n",
        "\n",
        "    def __init__(self, name):\n",
        "        self.name = name\n",
        "        Employee.employee_count += 1\n",
        "\n",
        "    @classmethod\n",
        "    def update_company_name(cls, new_name):\n",
        "        cls.company_name = new_name\n",
        "\n",
        "    @classmethod\n",
        "    def get_employee_count(cls):\n",
        "        return cls.employee_count\n",
        "\n",
        "# Creating instances\n",
        "emp1 = Employee(\"Alice\")\n",
        "emp2 = Employee(\"Bob\")\n",
        "\n",
        "print(Employee.company_name)         # ABC Corp\n",
        "print(Employee.get_employee_count()) # 2\n",
        "\n",
        "Employee.update_company_name(\"XYZ Inc\")\n",
        "print(Employee.company_name)         # XYZ Inc"
      ]
    },
    {
      "cell_type": "markdown",
      "id": "MSg1d2H-XeCf",
      "metadata": {
        "id": "MSg1d2H-XeCf"
      },
      "source": [
        "## 10. Decorator\n",
        "\n",
        "### Original Definition\n",
        "A decorator in Python is a function that takes another function (or class method) as an argument and extends its functionality without modifying it directly. When used in classes, decorators like `@classmethod` or `@staticmethod` alter the method’s behavior.\n",
        "\n",
        "### Explanation and Examples\n",
        "- Common decorators in classes include `@classmethod`, `@staticmethod`, and `@property`.\n",
        "- Decorators wrap an existing function or method, adding extra behavior.\n",
        "\n",
        "Example:\n",
        "```python\n",
        "def my_decorator(func):\n",
        "    def wrapper(*args, **kwargs):\n",
        "        print(\"Before the function call.\")\n",
        "        result = func(*args, **kwargs)\n",
        "        print(\"After the function call.\")\n",
        "        return result\n",
        "    return wrapper\n",
        "```\n",
        "Applying it with `@my_decorator` transforms the function.\n"
      ]
    },
    {
      "cell_type": "markdown",
      "id": "xilxcI8BXeCg",
      "metadata": {
        "id": "xilxcI8BXeCg"
      },
      "source": [
        "### Detailed Coding Example"
      ]
    },
    {
      "cell_type": "code",
      "execution_count": null,
      "id": "YfoPaZs_XeCh",
      "metadata": {
        "id": "YfoPaZs_XeCh"
      },
      "outputs": [],
      "source": [
        "def log_method_call(func):\n",
        "    def wrapper(*args, **kwargs):\n",
        "        print(f\"Method {func.__name__} called.\")\n",
        "        return func(*args, **kwargs)\n",
        "    return wrapper\n",
        "\n",
        "class Calculator:\n",
        "    @log_method_call\n",
        "    def add(self, x, y):\n",
        "        return x + y\n",
        "\n",
        "    @log_method_call\n",
        "    def multiply(self, x, y):\n",
        "        return x * y\n",
        "\n",
        "calc = Calculator()\n",
        "print(calc.add(2, 3))        # Logs: Method add called.\n",
        "print(calc.multiply(4, 5))   # Logs: Method multiply called."
      ]
    },
    {
      "cell_type": "markdown",
      "id": "uU9B7moXXeCi",
      "metadata": {
        "id": "uU9B7moXXeCi"
      },
      "source": [
        "## 11. Inheritance\n",
        "\n",
        "### Original Definition\n",
        "Inheritance is an OOP mechanism where a new class (child/subclass) acquires the properties and behaviors of an existing class (parent/superclass).\n",
        "\n",
        "### Explanation and Examples\n",
        "- Allows for code reuse and logical hierarchy.\n",
        "- The child class can override or extend the parent’s functionality.\n",
        "\n",
        "Example:\n",
        "```python\n",
        "class Animal:\n",
        "    def eat(self):\n",
        "        print(\"Eating...\")\n",
        "\n",
        "class Dog(Animal):\n",
        "    def bark(self):\n",
        "        print(\"Woof!\")\n",
        "```\n"
      ]
    },
    {
      "cell_type": "markdown",
      "id": "A895UJr-XeCj",
      "metadata": {
        "id": "A895UJr-XeCj"
      },
      "source": [
        "### Detailed Coding Example"
      ]
    },
    {
      "cell_type": "code",
      "execution_count": 8,
      "id": "r5ugzJuRXeCk",
      "metadata": {
        "id": "r5ugzJuRXeCk"
      },
      "outputs": [
        {
          "name": "stdout",
          "output_type": "stream",
          "text": [
            "Toyota engine started.\n",
            "Trunk opened.\n",
            "The engine of Toyota of the model is 2024 is started\n"
          ]
        }
      ],
      "source": [
        "class Vehicle:\n",
        "    def __init__(self, brand,model):\n",
        "        self.brand = brand\n",
        "        self.model=model\n",
        "\n",
        "    def start_engine(self):\n",
        "        print(f\"{self.brand} engine started.\")\n",
        "\n",
        "class Car(Vehicle):\n",
        "    def open_trunk(self):\n",
        "        print(\"Trunk opened.\")\n",
        "        print(f\"The engine of {self.brand} of the model is {self.model} is started\")\n",
        "\n",
        "# Car inherits from Vehicle\n",
        "my_car = Car(\"Toyota\",2024)\n",
        "my_car.start_engine()  # Toyota engine started.\n",
        "my_car.open_trunk()    # Trunk opened."
      ]
    },
    {
      "cell_type": "markdown",
      "id": "zemP-oAhXeCk",
      "metadata": {
        "id": "zemP-oAhXeCk"
      },
      "source": [
        "## 12. Types of Inheritance\n",
        "\n",
        "### Original Definition\n",
        "Python supports:\n",
        "1. **Single Inheritance**  \n",
        "2. **Multiple Inheritance**  \n",
        "3. **Multilevel Inheritance**  \n",
        "4. **Hierarchical Inheritance**  \n",
        "5. **Hybrid Inheritance**  \n",
        "\n",
        "### Explanation and Examples\n",
        "1. Single Inheritance:\n",
        "```python\n",
        "class A:\n",
        "    pass\n",
        "class B(A):\n",
        "    pass\n",
        "```\n",
        "2. Multiple Inheritance:\n",
        "```python\n",
        "class A:\n",
        "    pass\n",
        "class B:\n",
        "    pass\n",
        "class C(A, B):\n",
        "    pass\n",
        "```\n",
        "3. Multilevel Inheritance:\n",
        "```python\n",
        "class A:\n",
        "    pass\n",
        "class B(A):\n",
        "    pass\n",
        "class C(B):\n",
        "    pass\n",
        "```\n",
        "4. Hierarchical Inheritance:\n",
        "```python\n",
        "class A:\n",
        "    pass\n",
        "class B(A):\n",
        "    pass\n",
        "class C(A):\n",
        "    pass\n",
        "```\n",
        "5. Hybrid Inheritance: Combination of multiple and multilevel.\n"
      ]
    },
    {
      "cell_type": "markdown",
      "id": "6iZb9zvWXeCk",
      "metadata": {
        "id": "6iZb9zvWXeCk"
      },
      "source": [
        "### Detailed Coding Example (Multiple Inheritance)"
      ]
    },
    {
      "cell_type": "code",
      "execution_count": 9,
      "id": "9zkttF3hXeCl",
      "metadata": {
        "id": "9zkttF3hXeCl"
      },
      "outputs": [
        {
          "name": "stdout",
          "output_type": "stream",
          "text": [
            "Flying\n",
            "Swimming\n"
          ]
        }
      ],
      "source": [
        "class Flyer:\n",
        "    def fly(self):\n",
        "        print(\"Flying\")\n",
        "\n",
        "class Swimmer:\n",
        "    def swim(self):\n",
        "        print(\"Swimming\")\n",
        "\n",
        "class Duck(Flyer, Swimmer):\n",
        "    pass\n",
        "\n",
        "d = Duck()\n",
        "d.fly()   # Flying\n",
        "d.swim()  # Swimming"
      ]
    },
    {
      "cell_type": "markdown",
      "id": "58c24224",
      "metadata": {},
      "source": [
        "# multilevel"
      ]
    },
    {
      "cell_type": "code",
      "execution_count": 10,
      "id": "ab9d9f82",
      "metadata": {},
      "outputs": [
        {
          "name": "stdout",
          "output_type": "stream",
          "text": [
            "Flying\n",
            "Swimming\n"
          ]
        }
      ],
      "source": [
        "class Flyer:\n",
        "    def fly(self):\n",
        "        print(\"Flying\")\n",
        "\n",
        "class Swimmer(Flyer):\n",
        "    def swim(self):\n",
        "        print(\"Swimming\")\n",
        "\n",
        "class Duck(Swimmer):\n",
        "    pass\n",
        "\n",
        "d = Duck()\n",
        "d.fly()   # Flying\n",
        "d.swim()  # Swimming"
      ]
    },
    {
      "cell_type": "markdown",
      "id": "a17c52c9",
      "metadata": {},
      "source": [
        "# **Hierarchical Inheritance** "
      ]
    },
    {
      "cell_type": "code",
      "execution_count": 17,
      "id": "063e7a80",
      "metadata": {},
      "outputs": [
        {
          "name": "stdout",
          "output_type": "stream",
          "text": [
            "Flying\n"
          ]
        }
      ],
      "source": [
        "class Flyer:\n",
        "    def fly(self):\n",
        "        print(\"Flying\")\n",
        "\n",
        "class Swimmer(Flyer):\n",
        "    def swim(self):\n",
        "        print(\"Swimming\")\n",
        "\n",
        "class Duck(Flyer):\n",
        "    pass\n",
        "\n",
        "d = Duck()\n",
        "d.fly()   # Flying\n",
        "# d.swim()  # This will cause Error because that swim is not the method of duck class \n"
      ]
    },
    {
      "cell_type": "markdown",
      "id": "CTDJsct0XeCl",
      "metadata": {
        "id": "CTDJsct0XeCl"
      },
      "source": [
        "## 13. Access Specifiers: Private, Public, Protected\n",
        "\n",
        "### Original Definition\n",
        "Python does not have explicit keywords for private, public, and protected, but uses **naming conventions**:\n",
        "- **Public**: Normal attributes/methods (e.g., `self.name`).\n",
        "- **Protected**: Single underscore prefix (e.g., `_name`).\n",
        "- **Private**: Double underscore (e.g., `__name`), triggering name mangling.\n",
        "\n",
        "### Explanation and Examples\n",
        "- **Public**: Accessible from anywhere.\n",
        "- **Protected**: By convention, indicates “internal use” (still accessible, but not recommended).\n",
        "- **Private**: Name mangling (`_ClassName__attribute`) is used to discourage direct access.\n"
      ]
    },
    {
      "cell_type": "markdown",
      "id": "j7wYmfl4XeCl",
      "metadata": {
        "id": "j7wYmfl4XeCl"
      },
      "source": [
        "### Detailed Coding Example"
      ]
    },
    {
      "cell_type": "code",
      "execution_count": null,
      "id": "hL36ZAzxXeCm",
      "metadata": {
        "id": "hL36ZAzxXeCm"
      },
      "outputs": [],
      "source": [
        "class Example:\n",
        "    def __init__(self):\n",
        "        self.public_var = \"I am public\"\n",
        "        self._protected_var = \"I am protected\"\n",
        "        self.__private_var = \"I am private\"\n",
        "\n",
        "    def show_vars(self):\n",
        "        print(self.public_var)\n",
        "        print(self._protected_var)\n",
        "        print(self.__private_var)\n",
        "\n",
        "obj = Example()\n",
        "print(obj.public_var)         # Allowed\n",
        "print(obj._protected_var)     # Allowed by convention, but not recommended\n",
        "# print(obj.__private_var)    # AttributeError\n",
        "\n",
        "# Access private var using name mangling\n",
        "print(obj._Example__private_var)  # I am private"
      ]
    },
    {
      "cell_type": "markdown",
      "id": "-FJWiR20XeCn",
      "metadata": {
        "id": "-FJWiR20XeCn"
      },
      "source": [
        "## 14. Name Mangling\n",
        "\n",
        "### Original Definition\n",
        "Name mangling is Python’s mechanism for internally renaming identifiers with a double underscore prefix to prevent accidental name collisions in subclasses.\n",
        "\n",
        "### Explanation and Examples\n",
        "- Attributes named `__var` become `_ClassName__var`.\n",
        "- Used primarily to avoid overriding or conflicts in subclasses.\n",
        "\n",
        "Example:\n",
        "```python\n",
        "class Test:\n",
        "    def __init__(self):\n",
        "        self.__secret = \"hidden\"\n",
        "\n",
        "print(Test().__dict__)  # {'_Test__secret': 'hidden'}\n",
        "```\n"
      ]
    },
    {
      "cell_type": "markdown",
      "id": "GT_o_aGiXeCn",
      "metadata": {
        "id": "GT_o_aGiXeCn"
      },
      "source": [
        "### Detailed Coding Example"
      ]
    },
    {
      "cell_type": "code",
      "execution_count": null,
      "id": "mXQurddhXeCo",
      "metadata": {
        "id": "mXQurddhXeCo"
      },
      "outputs": [],
      "source": [
        "class Base:\n",
        "    def __init__(self):\n",
        "        self.__base_attr = \"Base\"\n",
        "\n",
        "class Derived(Base):\n",
        "    def __init__(self):\n",
        "        super().__init__()\n",
        "        self.__base_attr = \"Derived\"\n",
        "\n",
        "obj = Derived()\n",
        "print(obj.__dict__)\n",
        "# Output might be: {'_Base__base_attr': 'Base', '_Derived__base_attr': 'Derived'}"
      ]
    },
    {
      "cell_type": "markdown",
      "id": "E_dePt1pXeCo",
      "metadata": {
        "id": "E_dePt1pXeCo"
      },
      "source": [
        "## 15. Encapsulation\n",
        "\n",
        "### Original Definition\n",
        "Encapsulation is the practice of hiding the internal state of an object and requiring all interactions to be performed through an object’s methods. It keeps data and methods safe from outside interference.\n",
        "\n",
        "### Explanation and Examples\n",
        "- By convention in Python, `_` or `__` can indicate restricted access.\n",
        "- Encapsulation ensures that an object’s internal representation can change without affecting the external code.\n",
        "\n",
        "Example:\n",
        "- Using getter and setter methods to control access to a private-like attribute.\n"
      ]
    },
    {
      "cell_type": "markdown",
      "id": "i_1hgTVwXeCo",
      "metadata": {
        "id": "i_1hgTVwXeCo"
      },
      "source": [
        "### Detailed Coding Example"
      ]
    },
    {
      "cell_type": "code",
      "execution_count": null,
      "id": "Qcbrskl5XeCo",
      "metadata": {
        "id": "Qcbrskl5XeCo"
      },
      "outputs": [],
      "source": [
        "class Student:\n",
        "    def __init__(self, name, grade):\n",
        "        self._name = name       # Protected by convention\n",
        "        self.__grade = grade    # Private by name mangling\n",
        "\n",
        "    def get_grade(self):\n",
        "        return self.__grade\n",
        "\n",
        "    def set_grade(self, grade):\n",
        "        if 0 <= grade <= 100:\n",
        "            self.__grade = grade\n",
        "        else:\n",
        "            print(\"Invalid grade value.\")\n",
        "\n",
        "student = Student(\"Alice\", 90)\n",
        "print(student.get_grade())  # 90\n",
        "student.set_grade(105)      # Invalid grade value.\n",
        "student.set_grade(95)\n",
        "print(student.get_grade())  # 95"
      ]
    },
    {
      "cell_type": "markdown",
      "id": "QYn5TZeZXeCp",
      "metadata": {
        "id": "QYn5TZeZXeCp"
      },
      "source": [
        "## 16. Polymorphism\n",
        "\n",
        "### Original Definition\n",
        "Polymorphism means \"many forms.\" In OOP, it refers to the ability of a single interface (method or operator) to work with different underlying forms (types/classes).\n",
        "\n",
        "### Explanation and Examples\n",
        "- **Method Overriding**: A subclass provides a specific implementation of a method already defined in its superclass.\n",
        "- **Operator Overloading**: Defining how operators (like `+`, `-`) work with your custom objects.\n",
        "\n",
        "Example:\n",
        "```python\n",
        "class Animal:\n",
        "    def speak(self):\n",
        "        print(\"Some generic sound\")\n",
        "\n",
        "class Dog(Animal):\n",
        "    def speak(self):\n",
        "        print(\"Woof!\")\n",
        "\n",
        "class Cat(Animal):\n",
        "    def speak(self):\n",
        "        print(\"Meow!\")\n",
        "\n",
        "animals = [Dog(), Cat(), Animal()]\n",
        "for animal in animals:\n",
        "    animal.speak()\n",
        "# Woof!\n",
        "# Meow!\n",
        "# Some generic sound\n",
        "```\n"
      ]
    },
    {
      "cell_type": "markdown",
      "id": "QEwGQCJ1XeCp",
      "metadata": {
        "id": "QEwGQCJ1XeCp"
      },
      "source": [
        "## 17. Operator Overloading (With an example of adding two tuples)\n",
        "\n",
        "### Original Definition\n",
        "Operator overloading in Python lets us redefine how built-in operators behave for objects of a custom class by implementing special methods (like `__add__`, `__sub__`).\n",
        "\n",
        "### Explanation and Examples\n",
        "- `__add__` is called when using the `+` operator.\n",
        "- You can define how to \"add\" two of your objects (or treat them like tuples, etc.).\n"
      ]
    },
    {
      "cell_type": "markdown",
      "id": "rZmDh3D8XeCq",
      "metadata": {
        "id": "rZmDh3D8XeCq"
      },
      "source": [
        "### Detailed Coding Example"
      ]
    },
    {
      "cell_type": "code",
      "execution_count": null,
      "id": "aoVki843XeCq",
      "metadata": {
        "id": "aoVki843XeCq"
      },
      "outputs": [],
      "source": [
        "class MyTuple:\n",
        "    def __init__(self, a, b):\n",
        "        self.data = (a, b)\n",
        "\n",
        "    def __add__(self, other):\n",
        "        # Add corresponding elements\n",
        "        return MyTuple(self.data[0] + other.data[0],\n",
        "                       self.data[1] + other.data[1])\n",
        "\n",
        "    def __repr__(self):\n",
        "        return f\"MyTuple{self.data}\"\n",
        "\n",
        "t1 = MyTuple(1, 2)\n",
        "t2 = MyTuple(3, 4)\n",
        "t3 = t1 + t2  # Internally calls t1.__add__(t2)\n",
        "print(t3)     # MyTuple(4, 6)"
      ]
    },
    {
      "cell_type": "markdown",
      "id": "cqFSp1d5XeCq",
      "metadata": {
        "id": "cqFSp1d5XeCq"
      },
      "source": [
        "## 18. Dynamic Polymorphism (Subclass as Base Class)\n",
        "\n",
        "### Original Definition\n",
        "Dynamic polymorphism typically refers to **run-time** method overriding: the method to be called is determined by the actual object type at runtime.\n",
        "\n",
        "### Explanation and Examples\n",
        "- A subclass object can be treated as an instance of the superclass.\n",
        "- If a method is overridden, the subclass’s version is used.\n",
        "\n",
        "Example:\n",
        "```python\n",
        "class Animal:\n",
        "    def make_sound(self):\n",
        "        print(\"Generic Animal Sound\")\n",
        "\n",
        "class Dog(Animal):\n",
        "    def make_sound(self):\n",
        "        print(\"Bark\")\n",
        "\n",
        "class Cat(Animal):\n",
        "    def make_sound(self):\n",
        "        print(\"Meow\")\n",
        "\n",
        "animals = [Dog(), Cat(), Animal()]\n",
        "for a in animals:\n",
        "    a.make_sound()\n",
        "# Bark\n",
        "# Meow\n",
        "# Generic Animal Sound\n",
        "```\n"
      ]
    },
    {
      "cell_type": "code",
      "execution_count": null,
      "id": "NwI7qza5fjQl",
      "metadata": {
        "id": "NwI7qza5fjQl"
      },
      "outputs": [],
      "source": [
        "class Animal:\n",
        "    def make_sound(self):\n",
        "        print(\"Generic Animal Sound\")\n",
        "\n",
        "class Dog(Animal):\n",
        "    def make_sound(self):\n",
        "        print(\"Bark\")\n",
        "\n",
        "class Cat(Animal):\n",
        "    def make_sound(self):\n",
        "        print(\"Meow\")\n",
        "\n",
        "animals = [Dog(), Cat(), Animal()]\n",
        "for a in animals:\n",
        "    a.make_sound()\n",
        "# Bark\n",
        "# Meow\n",
        "# Generic Animal Sound"
      ]
    },
    {
      "cell_type": "markdown",
      "id": "zYy8_VsDXeCq",
      "metadata": {
        "id": "zYy8_VsDXeCq"
      },
      "source": [
        "### Detailed Coding Example"
      ]
    },
    {
      "cell_type": "code",
      "execution_count": null,
      "id": "vYNoAw_PXeCq",
      "metadata": {
        "id": "vYNoAw_PXeCq"
      },
      "outputs": [],
      "source": [
        "class Shape:\n",
        "    def area(self):\n",
        "        raise NotImplementedError(\"Subclasses must override this method\")\n",
        "\n",
        "class Circle(Shape):\n",
        "    def __init__(self, radius):\n",
        "        self.radius = radius\n",
        "\n",
        "    def area(self):\n",
        "        return 3.14 * self.radius * self.radius\n",
        "\n",
        "class Rectangle(Shape):\n",
        "    def __init__(self, length, width):\n",
        "        self.length = length\n",
        "        self.width = width\n",
        "\n",
        "    def area(self):\n",
        "        return self.length * self.width\n",
        "\n",
        "shapes = [Circle(5), Rectangle(4, 6)]\n",
        "for s in shapes:\n",
        "    print(s.area())  # 78.5, 24"
      ]
    },
    {
      "cell_type": "markdown",
      "id": "oNBYug03XeCr",
      "metadata": {
        "id": "oNBYug03XeCr"
      },
      "source": [
        "## 19. Abstract Method and Abstract Class\n",
        "\n",
        "### Original Definition\n",
        "- **Abstract Method**: A method declared but not implemented in the base class (must be overridden by subclasses).\n",
        "- **Abstract Class**: A class containing one or more abstract methods. You **cannot** instantiate an abstract class.\n",
        "\n",
        "### Explanation and Examples\n",
        "- In Python, the `abc` (Abstract Base Class) module is used to create abstract classes.\n",
        "- Mark methods with `@abstractmethod` to make them abstract.\n",
        "\n",
        "Example:\n",
        "```python\n",
        "from abc import ABC, abstractmethod\n",
        "\n",
        "class AbstractClass(ABC):\n",
        "    @abstractmethod\n",
        "    def do_something(self):\n",
        "        pass\n",
        "```\n"
      ]
    },
    {
      "cell_type": "markdown",
      "id": "7ZA9sfJ0XeCr",
      "metadata": {
        "id": "7ZA9sfJ0XeCr"
      },
      "source": [
        "### Detailed Coding Example"
      ]
    },
    {
      "cell_type": "code",
      "execution_count": null,
      "id": "gpBUoC4XXeCr",
      "metadata": {
        "id": "gpBUoC4XXeCr"
      },
      "outputs": [],
      "source": [
        "from abc import ABC, abstractmethod\n",
        "\n",
        "class Animal(ABC):\n",
        "    @abstractmethod\n",
        "    def make_sound(self):\n",
        "        pass  # No implementation\n",
        "\n",
        "class Dog(Animal):\n",
        "    def make_sound(self):\n",
        "        print(\"Bark!\")\n",
        "\n",
        "# animal = Animal()  # Error: Can't instantiate abstract class\n",
        "\n",
        "dog = Dog()\n",
        "dog.make_sound()  # Bark!"
      ]
    },
    {
      "cell_type": "markdown",
      "id": "CUnLoJq0XeCs",
      "metadata": {
        "id": "CUnLoJq0XeCs"
      },
      "source": [
        "## 20. Empty Class\n",
        "\n",
        "### Original Definition\n",
        "An empty class in Python is a class that does not contain any attributes or methods (beyond the default inherited from `object`).\n",
        "\n",
        "### Explanation and Examples\n",
        "- Can serve as a placeholder or simple data container.\n",
        "- You can add attributes dynamically.\n",
        "\n",
        "Example:\n",
        "```python\n",
        "class Empty:\n",
        "    pass\n",
        "\n",
        "obj = Empty()\n",
        "obj.name = \"Test\"\n",
        "print(obj.name)  # Test\n",
        "```\n"
      ]
    },
    {
      "cell_type": "markdown",
      "id": "lfyd46K-XeCs",
      "metadata": {
        "id": "lfyd46K-XeCs"
      },
      "source": [
        "### Detailed Coding Example"
      ]
    },
    {
      "cell_type": "code",
      "execution_count": null,
      "id": "RG1njB2MXeCs",
      "metadata": {
        "id": "RG1njB2MXeCs"
      },
      "outputs": [],
      "source": [
        "class Empty:\n",
        "    pass\n",
        "\n",
        "instance = Empty()\n",
        "# Dynamically assign attributes\n",
        "instance.attribute1 = \"Hello\"\n",
        "instance.attribute2 = 123\n",
        "\n",
        "print(instance.attribute1)  # Hello\n",
        "print(instance.attribute2)  # 123"
      ]
    },
    {
      "cell_type": "markdown",
      "id": "MM1j14CmXeCs",
      "metadata": {
        "id": "MM1j14CmXeCs"
      },
      "source": [
        "## 21. Data Class\n",
        "\n",
        "### Original Definition\n",
        "A **data class** is a Python class used primarily to store data. Python 3.7+ provides the `@dataclass` decorator in the `dataclasses` module to reduce boilerplate by automatically generating methods (`__init__`, `__repr__`, etc.) based on class attributes.\n",
        "\n",
        "### Explanation and Examples\n",
        "- Greatly reduces boilerplate code for classes that primarily store data.\n",
        "- Automatically provides an `__init__`, `__repr__`, and equality methods.\n",
        "\n",
        "Example:\n",
        "```python\n",
        "from dataclasses import dataclass\n",
        "\n",
        "@dataclass\n",
        "class Point:\n",
        "    x: int\n",
        "    y: int\n",
        "\n",
        "p1 = Point(2, 3)\n",
        "p2 = Point(2, 3)\n",
        "print(p1)        # Point(x=2, y=3)\n",
        "print(p1 == p2)  # True\n",
        "```\n"
      ]
    },
    {
      "cell_type": "markdown",
      "id": "21rMCLhwXeCs",
      "metadata": {
        "id": "21rMCLhwXeCs"
      },
      "source": [
        "### Detailed Coding Example"
      ]
    },
    {
      "cell_type": "code",
      "execution_count": 18,
      "id": "FXkH1NcYXeCs",
      "metadata": {
        "id": "FXkH1NcYXeCs"
      },
      "outputs": [
        {
          "name": "stdout",
          "output_type": "stream",
          "text": [
            "Student(name='Alice', roll_number=101, grades=[95, 88])\n"
          ]
        }
      ],
      "source": [
        "from dataclasses import dataclass, field\n",
        "\n",
        "@dataclass\n",
        "class Student:\n",
        "    name: str\n",
        "    roll_number: int\n",
        "    grades: list = field(default_factory=list)\n",
        "\n",
        "    def add_grade(self, grade):\n",
        "        self.grades.append(grade)\n",
        "\n",
        "student_a = Student(\"Alice\", 101)\n",
        "student_a.add_grade(95)\n",
        "student_a.add_grade(88)\n",
        "\n",
        "print(student_a)\n",
        "# Student(name='Alice', roll_number=101, grades=[95, 88])"
      ]
    }
  ],
  "metadata": {
    "colab": {
      "provenance": []
    },
    "kernelspec": {
      "display_name": "base",
      "language": "python",
      "name": "python3"
    },
    "language_info": {
      "codemirror_mode": {
        "name": "ipython",
        "version": 3
      },
      "file_extension": ".py",
      "mimetype": "text/x-python",
      "name": "python",
      "nbconvert_exporter": "python",
      "pygments_lexer": "ipython3",
      "version": "3.12.7"
    }
  },
  "nbformat": 4,
  "nbformat_minor": 5
}
